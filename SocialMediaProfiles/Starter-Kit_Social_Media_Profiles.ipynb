{
 "cells": [
  {
   "cell_type": "markdown",
   "metadata": {},
   "source": [
    "# WPC-Social-Media-Presence STARTER KIT\n",
    "\n",
    "This part of the WPC Starter Kit covers how to find social media links on enterprise websites. Taking as input a list of URLs - that were for example found with this [URL finder](https://github.com/EnterpriseCharacteristicsESSnetBigData/StarterKit/blob/master/URLsFinder/URLs_Finder_Starte_Kit.ipynb) - the social media links on the websites are identified and saved.\n",
    "\n",
    "\n",
    "### 0. Prerequisites - how to set up the Python environment\n",
    "\n",
    "\n",
    "Python 3 is used for this library. We recommend to install Python with the Anaconda distribution, which can be obtained [here](https://www.anaconda.com/distribution/).\n",
    "\n",
    "\n",
    "Remember to use only Python version 3 - on Python 2 the library will not work.\n",
    "\n",
    "\n",
    "An installation of the following libaries is needed:\n",
    "<ul>\n",
    "    <li>bs4</li> \n",
    "    <li>requests (part of Anaconda)</li>\n",
    "</ul>\n",
    "\n",
    "\n",
    "\n",
    "### 1. Importing the library\n",
    "\n",
    "The file SocialMediaCollector.py is located in the src folder.\n"
   ]
  },
  {
   "cell_type": "code",
   "execution_count": 2,
   "metadata": {},
   "outputs": [],
   "source": [
    "import os\n",
    "import sys\n",
    "sys.path.insert(0, os.path.abspath('../src/'))\n",
    "\n",
    "import SocialMediaPresenceCollector as smpc"
   ]
  },
  {
   "cell_type": "markdown",
   "metadata": {},
   "source": [
    "### 2. Input file\n",
    "\n",
    "The data source containing the URLs can be an iterable like a list, or a data frame column containing enterprise URLs. For this starer kit, we use an input file that is line-separated and looks like this:\n",
    "\n",
    "maslankowski.pl<br/>\n",
    "http://stat.gov.pl<br/>\n",
    "www.ug.edu.pl\n"
   ]
  },
  {
   "cell_type": "code",
   "execution_count": 3,
   "metadata": {},
   "outputs": [],
   "source": [
    "data_file = 'url.txt'"
   ]
  },
  {
   "cell_type": "code",
   "execution_count": 4,
   "metadata": {},
   "outputs": [],
   "source": [
    "# reading in the input file\n",
    "url_data = open(data_file,\"r\")"
   ]
  },
  {
   "cell_type": "markdown",
   "metadata": {},
   "source": [
    "### 3. Initiating the class SocialMediaPresence\n",
    "The class SocialMediaPresence has one parameter: a dictionary of social media platforms with lists of their domain URLs as values. By default, it will collect social media links to Facebook, Twitter, Youtube, LinkedIn, Instagram, Xing and Pinterest. We will use this default in the starter kit."
   ]
  },
  {
   "cell_type": "code",
   "execution_count": 5,
   "metadata": {},
   "outputs": [],
   "source": [
    "smp=smpc.SocialMediaPresence()"
   ]
  },
  {
   "cell_type": "markdown",
   "metadata": {},
   "source": [
    "This shows the default dictionary with social media domains. Different social media platforms can be included."
   ]
  },
  {
   "cell_type": "code",
   "execution_count": 6,
   "metadata": {},
   "outputs": [
    {
     "data": {
      "text/plain": [
       "{'Facebook': ['facebook.com'],\n",
       " 'Twitter': ['twitter.com'],\n",
       " 'Youtube': ['youtu.be', 'youtube.com'],\n",
       " 'LinkedIn': ['linkedin.com'],\n",
       " 'Instagram': ['instagram.com'],\n",
       " 'Xing': ['xing.com'],\n",
       " 'Pinterest': ['pinterest.com']}"
      ]
     },
     "execution_count": 6,
     "metadata": {},
     "output_type": "execute_result"
    }
   ],
   "source": [
    "smp.social_media_dict"
   ]
  },
  {
   "cell_type": "markdown",
   "metadata": {},
   "source": [
    "### 4. Scraping URLs and finding Social Media Links\n",
    "Before scraping URLs and finding social media links, a FileAccess object has to be instantiated that will save the found links in both a json and csv file."
   ]
  },
  {
   "cell_type": "code",
   "execution_count": 6,
   "metadata": {},
   "outputs": [],
   "source": [
    "# Initiating the class FileAccess\n",
    "fa = smpc.FileAccess()\n",
    "# Results will be stored in a list\n",
    "jsonList = []"
   ]
  },
  {
   "cell_type": "markdown",
   "metadata": {},
   "source": [
    "We loop through the URLs from our input file and first scrape these URLs with the requests library. Then, we use the SocialMediaLinks method of SocialMediaPresence to identify and safe social media links."
   ]
  },
  {
   "cell_type": "code",
   "execution_count": 7,
   "metadata": {},
   "outputs": [
    {
     "name": "stdout",
     "output_type": "stream",
     "text": [
      "\n",
      "Website currently being scraped: stat.gov.pl\n",
      "\n",
      "Exception during scraping content of the webpage: http://stat.gov.pl\n",
      "\n",
      "Website currently being scraped: http://ug.edu.pl\n",
      "\n",
      "The length of the scrapped content: 60255 characters\n",
      "Number of links on website: 134\n",
      "https://www.facebook.com/UniwersytetGdanski\n",
      "https://twitter.com/uniwersytet_gd\n",
      "https://www.instagram.com/uniwersytet_gdanski/\n",
      "https://www.youtube.com/channel/UCOrHv73IWNIetJveGjV_zLA\n",
      "https://pl.linkedin.com/school/uniwersytet-gda%C5%84ski/\n",
      "Total number of unique social media links found: 5\n",
      "\n",
      "Website currently being scraped: maslankowski.pl\n",
      "\n",
      "The length of the scrapped content: 4869 characters\n",
      "Number of links on website: 14\n",
      "https://twitter.com/jmaslankowski\n",
      "https://twitter.com/jmaslankowski?ref_src=twsrc%5Etfw\n",
      "Total number of unique social media links found: 2\n"
     ]
    }
   ],
   "source": [
    "for url in url_data:\n",
    "    print(\"\\nWebsite currently being scraped:\", url)\n",
    "    jsonList.append(smp.searchSocialMediaLinks(url))"
   ]
  },
  {
   "cell_type": "code",
   "execution_count": 8,
   "metadata": {},
   "outputs": [],
   "source": [
    "fa.jsonListWrite(jsonList)"
   ]
  },
  {
   "cell_type": "markdown",
   "metadata": {},
   "source": [
    "\n",
    "### 5. Output files\n",
    "\n",
    "The output of the application are two files:\n",
    "<b>wpc_social.csv</b>\n",
    "and\n",
    "<b>wpc_social_YYYYMMDDHHMMSSnnnnnnn.json</b>\n",
    "<br/><br/>\n",
    "The file <b>wpc_social.csv</b> is updated with its content. \n",
    "<br/><br/>\n",
    "The json file is created every time of the application running.\n",
    "<br/><br/>\n"
   ]
  }
 ],
 "metadata": {
  "kernelspec": {
   "display_name": "Python 3",
   "language": "python",
   "name": "python3"
  },
  "language_info": {
   "codemirror_mode": {
    "name": "ipython",
    "version": 3
   },
   "file_extension": ".py",
   "mimetype": "text/x-python",
   "name": "python",
   "nbconvert_exporter": "python",
   "pygments_lexer": "ipython3",
   "version": "3.7.7"
  }
 },
 "nbformat": 4,
 "nbformat_minor": 2
}
