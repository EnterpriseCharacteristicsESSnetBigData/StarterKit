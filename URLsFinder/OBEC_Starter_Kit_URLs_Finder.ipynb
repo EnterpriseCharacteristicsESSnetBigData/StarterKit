{
 "cells": [
  {
   "cell_type": "markdown",
   "metadata": {},
   "source": [
    "# URLs Finder\n",
    "\n",
    "Part of [Starter Kit](https://github.com/EnterpriseCharacteristicsESSnetBigData/StarterKit \"GitHub repositiry of Starter Kit on Enterprise characteristics\") of [ESSnet BigData](https://webgate.ec.europa.eu/fpfis/mwikis/essnetbigdata/index.php/ESSnet_Big_Data \"ESSnet Big Data is a project within the European statistical system (ESS) jointly undertaken by 28 partners.\") on [WPC Enterprise characteristics](https://webgate.ec.europa.eu/fpfis/mwikis/essnetbigdata/index.php/WPC_Enterprise_characteristics \"Workpackage C (WPC) of ESSnet Big Data focuses on enterprise characteristics.\")"
   ]
  },
  {
   "cell_type": "markdown",
   "metadata": {},
   "source": [
    "## 1. Brief description\n",
    "\n",
    "URLs Finder is a [Python](https://www.python.org/) software for finding enterprises' urls from information in Statistical Business Registers by using web scraping and machine learning. It has tree modules:\n",
    "- **URLsFinderWS** \\- defines methods for scraping information for the enterprises' urls from the internet with the help of search engine [Duck Duck Go](https://duckduckgo.com \"The best search engine for privacy\").\n",
    "- **URLsFinderMLLR** \\- defines methods for determine the enterprises' urls or characteristics from the scraped information from the internet by using logistic regression machine learning.\n",
    "- **StarterKitLogging** (optional to use) \\- defines methods for storing log records for the others modules work."
   ]
  },
  {
   "cell_type": "markdown",
   "metadata": {},
   "source": [
    "### 1.1. URLsFinderWS module\n",
    "\n",
    "These are the [Pythons'](https://www.python.org/) libraries and components that the module needs:\n",
    "- [pandas](https://pandas.pydata.org/) is a fast, powerful, flexible and easy to use open source data analysis and manipulation tool.\n",
    "- [glob](https://docs.python.org/3/library/glob.html) is an Unix style pathname pattern expansion.\n",
    "- [BeautifulSoup](https://pypi.org/project/beautifulsoup4/) is a library that makes it easy to scrape information from web pages. It sits atop an HTML or XML parser, providing Pythonic idioms for iterating, searching, and modifying the parse tree.\n",
    "- [requests](https://pypi.org/project/requests/) allows you to send HTTP/1.1 requests extremely easily.\n",
    "- [re](https://docs.python.org/3/library/re.html) provides regular expression matching operations similar to those found in Perl.\n",
    "- [numpy](https://numpy.org/) is the fundamental package for scientific computing with Python.\n",
    "- [time](https://docs.python.org/3/library/time.html) provides various time-related functions.\n",
    "- [unquote](https://docs.python.org/3/library/urllib.parse.html) replace %xx escapes by their single-character equivalent.\n",
    "- [urlparse](https://docs.python.org/3/library/urllib.parse.html) parse a URL into six components, returning a 6-item named tuple. This corresponds to the general structure of a URL: scheme://netloc/path;parameters?query#fragment.\n",
    "- [tqdm](https://pypi.org/project/tqdm/) provides a progress bar.\n",
    "\n",
    "These are the variables that module uses:\n",
    "- **version** \\- identification of the scraped files by date, id or other.\n",
    "- **start_path** \\- directory where a csv file with Enterprises information is located.\n",
    "- **scrape_path** \\- directory where the csv files with scraped Enterprises information are saved.\n",
    "- **log_path** \\- directory where event logging information is saved. \n",
    "- **blacklist_path** \\- directory where a csv file with blacklisted URLs is located.\n",
    "- **start_file** \\- name of a csv file with Enterprises information.\n",
    "- **scrape_file** \\- name of the csv files with scraped information from websites.\n",
    "- **sapi_file** \\- name of the csv files with scraped information from search engine [Duck Duck Go](https://duckduckgo.com \"The best search engine for privacy\").\n",
    "- **to_scrape_file** \\- name of the csv files with URLs from websites that will be scraped.\n",
    "- **log_file** \\- name of a events log file.\n",
    "- **black_list_file** \\- name of a csv file with blacklisted URLs.\n",
    "- **csv_delimiter** \\- delimiter of the csv file, eg.: \";\".\n",
    "- **csv_encoding** \\- encoding of the csv file, eg.: \"utf-8\".\n",
    "- **csv_ext** \\- files extension, eg.: \".csv\".\n",
    "- **headers** \\- HTTP request header information.\n",
    "- **slices** \\- The number of portions to divide the information in files. For all information use 0.\n",
    "- **obec_words_file** \\- Words to be serched in the contents of the pages, eg.: e-mail, address, phone, etc. in case of finding urls or key words in case of OBEC."
   ]
  },
  {
   "cell_type": "markdown",
   "metadata": {},
   "source": [
    "### 1.2. URLsFinderMLLR module\n",
    "\n",
    "These are the [Pythons'](https://www.python.org/) libraries and components that the module needs:\n",
    "- [pandas](https://pandas.pydata.org/) is a fast, powerful, flexible and easy to use open source data analysis and manipulation tool.\n",
    "- [glob](https://docs.python.org/3/library/glob.html) is an Unix style pathname pattern expansion.\n",
    "- [numpy](https://numpy.org/) is the fundamental package for scientific computing with Python.\n",
    "- [urlparse](https://docs.python.org/3/library/urllib.parse.html) parse a URL into six components, returning a 6-item named tuple. This corresponds to the general structure of a URL: scheme://netloc/path;parameters?query#fragment.\n",
    "- [sklearn](https://scikit-learn.org/stable/) Machine Learning in Python.\n",
    "- [seaborn](https://pypi.org/project/seaborn/) Seaborn is a library for making statistical graphics in Python.\n",
    "- [math](https://docs.python.org/3/library/math.html) This module provides access to the mathematical functions defined by the C standard.\n",
    "- [IPython](https://pypi.org/project/ipython/) Python provides a rich toolkit to help you make the most out of using Python interactively.\n",
    "- [matplotlib](https://matplotlib.org) Matplotlib is a comprehensive library for creating static, animated, and interactive visualizations in Python.\n",
    "\n",
    "These are the variables that module uses:\n",
    "- **version** \\- identification of the scraped files by date, id or other.\n",
    "- **start_path** \\- directory where a csv file with Enterprises information is located.\n",
    "- **machin_learning_path** \\- directory where the csv files with machine learning information are saved. \n",
    "- **scrape_path** \\- directory where a csv files with scraped Enterprises information are saved.\n",
    "- **scrape_file** \\- name of a csv file with scraped information from websites.\n",
    "- **obec_file** \\- name of the csv files with infomation from machine learning execution.\n",
    "- **obec_words_file** \\- Words to be serched in the contents of the pages, eg.: e-mail, address, phone, etc. in case of finding urls or key words in case of OBEC.\n",
    "- **obec_known_characteristics** \\- name of a csv file known enterprises characteristics.\n",
    "- **csv_delimiter** \\- delimiter of the csv file, eg.: \";\".\n",
    "- **csv_encoding** \\- encoding of the csv file, eg.: \"utf-8\".\n",
    "- **csv_ext** \\- files extension, eg.: \".csv\"."
   ]
  },
  {
   "cell_type": "markdown",
   "metadata": {},
   "source": [
    "### 1.3. StarterKitLogging module\n",
    "\n",
    "These are the [Pythons'](https://www.python.org/) libraries and components that URLs Finder modules needs:\n",
    "- [logging](https://docs.python.org/3/library/logging.html) defines functions and classes which implement a flexible event logging system for applications and libraries.\n",
    "\n",
    "These are the variables that module uses:\n",
    "- **log_path** \\- directory where event logging information is saved. \n",
    "- **log_file** \\- name of a events log file."
   ]
  },
  {
   "cell_type": "markdown",
   "metadata": {},
   "source": [
    "## 2. Preparing the work environment\n",
    "\n"
   ]
  },
  {
   "cell_type": "markdown",
   "metadata": {},
   "source": [
    "### 2.1. Configure the work environment\n",
    "\n",
    "Making the URLs Finder modules folder available to the environment, in this case ***'../src/'***. The modules are in folder ***src*** one level above current Jupyter workbook folder.\n",
    "\n",
    "Loading the ***datetime*** library to be used for files' versions."
   ]
  },
  {
   "cell_type": "code",
   "execution_count": 1,
   "metadata": {},
   "outputs": [],
   "source": [
    "import os\n",
    "import sys\n",
    "sys.path.insert(0, os.path.abspath('../src/'))\n",
    "from datetime import datetime"
   ]
  },
  {
   "cell_type": "markdown",
   "metadata": {},
   "source": [
    "### 2.3. Loading URLs Finder event logging module\n",
    "\n",
    "This is an optional step."
   ]
  },
  {
   "cell_type": "code",
   "execution_count": 2,
   "metadata": {},
   "outputs": [],
   "source": [
    "from obec import StarterKitLogging"
   ]
  },
  {
   "cell_type": "markdown",
   "metadata": {},
   "source": [
    "#### 2.3.1. Event logging initialization and start (optional)\n",
    "\n",
    "The event logging is in debug mode."
   ]
  },
  {
   "cell_type": "code",
   "execution_count": 3,
   "metadata": {},
   "outputs": [],
   "source": [
    "variables = {\n",
    "    'log_path': '.\\\\logs\\\\',\n",
    "    'log_file': 'OBEC_Starter_Kit_Log_Data.log',\n",
    "}\n",
    "log = StarterKitLogging.initialize(variables)\n",
    "log.start_logging()"
   ]
  },
  {
   "cell_type": "markdown",
   "metadata": {},
   "source": [
    "## 3. Finding candidat web pages to be Enterprises' URLs"
   ]
  },
  {
   "cell_type": "markdown",
   "metadata": {},
   "source": [
    "### 3.1. Loading URLs Finder web scraping module\n",
    "\n",
    "The web scraping module contains one class called ***URLsFinderWS***. "
   ]
  },
  {
   "cell_type": "code",
   "execution_count": 4,
   "metadata": {},
   "outputs": [],
   "source": [
    "from obec import URLsFinderWS"
   ]
  },
  {
   "cell_type": "markdown",
   "metadata": {},
   "source": [
    "### 3.2. Making an instance of URLs Finder web scraping module"
   ]
  },
  {
   "cell_type": "markdown",
   "metadata": {},
   "source": [
    "#### 3.2.1. Initializing the variables"
   ]
  },
  {
   "cell_type": "code",
   "execution_count": 5,
   "metadata": {},
   "outputs": [],
   "source": [
    "variables = {\n",
    "    'version': datetime.now().strftime('%Y-%m-%d'),\n",
    "    'version': 'v.2.0',\n",
    "    'start_path': '.\\\\sbr_data\\\\',\n",
    "    'scrape_path': '.\\\\scrape_data\\\\',\n",
    "    'log_path': '.\\\\logs\\\\',\n",
    "    'black_list_path': '.\\\\black_list_urls\\\\',\n",
    "    'start_file': 'SBR_Data_ESSnet.csv',\n",
    "    'scrape_file': 'OBEC_Starter_Kit_Scrape_Data',\n",
    "    'sapi_file': 'OBEC_Starter_Kit_SAPI_Data',\n",
    "    'to_scrape_file': 'OBEC_Starter_Kit_to_Scrape_Data',\n",
    "    'log_file': 'OBEC_Starter_Kit_Log_Data.log',\n",
    "    'black_list_file': 'black_list_urls.csv',\n",
    "    'csv_delimiter': ';',\n",
    "    'csv_encoding': 'utf-8',\n",
    "    'csv_ext': '.csv',\n",
    "    'headers': {\n",
    "        'user-agent': 'ESSnet BigData WPC OBEC Starter Kit - https://webgate.ec.europa.eu/fpfis/mwikis/essnetbigdata/index.php/ESSnet_Big_Data'.encode('utf-8'),\n",
    "        'Accept-Charset': 'utf-8',\n",
    "        'Accept-Encoding': 'identity',\n",
    "        'Accept': 'text/html'\n",
    "    },\n",
    "    'slices': 3,\n",
    "    'obec_words_file': 'URLs_words.txt' # 'OBEC_words_*.txt'\n",
    "}"
   ]
  },
  {
   "cell_type": "markdown",
   "metadata": {},
   "source": [
    "#### 3.2.1. Initializing the URLsFinderWS class with the variables we have defined"
   ]
  },
  {
   "cell_type": "code",
   "execution_count": 6,
   "metadata": {},
   "outputs": [
    {
     "name": "stdout",
     "output_type": "stream",
     "text": [
      "URLs Finder web scraping module is ready to work for vesion v.2.0\n"
     ]
    }
   ],
   "source": [
    "uf = URLsFinderWS.initialize(variables)"
   ]
  },
  {
   "cell_type": "markdown",
   "metadata": {},
   "source": [
    "### 3.3. Querying a Search Engine with Enterprises information\n",
    "\n",
    "This is done by calling ***start_ws*** method of the ***URLsFinderWS*** class with the following parameters:\n",
    "- **print_errors** parameter whether to print errors or not (optional, default False)\n",
    "- **search_engine** parameter with search engine api to query (optional, default 'https://html.duckduckgo.com/html/?q=')\n",
    "- **timeout** parameter with number of seconds for keep the request open (optional, default 5)\n",
    "- **sleep** parameter with number of seconds between each query request to the Search Engine (optional, default 1)\n",
    "- **slice** parameter with number of portion of information to start scraping from again in case of interuption (optional, default 0)\n",
    "- **what** parameter to pass a routine for the method, in this case **'search'**\n",
    "\n",
    "The method with routine **'search'** uses a csv file by the name in variable **start_file** in directory in variable **scrape_path**. The **mendatory fileds** of the csv file are **'ID', 'Name' and 'URL'** of enterprises. The other fileds are the characteristics of the enterprises that are going to be looked for on the supposed enterprises web sites, for example **Phone, Email, Address, Populated place**. Then in the csv file by the name in variable **obec_words_file** in directory in variable **scrape_path** should be the a single column 'Word' in which the characteristics of the enterprises (**The key words that are searched in the web pages**) that are going to be looked for are described with four leading characters 'Has' folowed by space like this: **Has ID, Has Name, Has Phone, Has Email, Has Address, Has Populated place**. These fields are going to be scored and used for machinelearning later.\n",
    "\n",
    "The method with routine 'search' divides on number of portions in variable **slices** the csv file by the name in variable **start_file**. Then the method queries the Search Engine in parameter **search_engine** for every record in every portion for the name of enterprises in column **'Name'**. \n",
    "\n",
    "The method with routine **'search'** saves csv file with Suggested Enterprises URLs from querying the Search Engine by the name in variable **sapi_file** in directory in variable **scrape_path**. Also, the method saves errors in csv file by the name in variable **sapi_file** in directory in variable **log_path**.\n",
    "\n",
    "The method returns two **pandas dataframe objects** for the last portion:\n",
    "- **0** Suggested Enterprises URLs from Querying the Search Engine (first pandas dataframe object)\n",
    "- **1** Errors from Querying the Search Engine (second pandas dataframe object)"
   ]
  },
  {
   "cell_type": "code",
   "execution_count": 7,
   "metadata": {},
   "outputs": [
    {
     "name": "stdout",
     "output_type": "stream",
     "text": [
      "Slice: 0\n",
      "Load file .\\sbr_data\\SBR_Data_ESSnet.csv with 204 rows and 7 coloumns\n",
      "DataFrame columns: ['ID', 'Name', 'URL', 'Phone', 'Email', 'Address', 'Populated place']\n"
     ]
    },
    {
     "name": "stderr",
     "output_type": "stream",
     "text": [
      "processed: 000000209 Statistics Sweden : 100%|█████████████████████████████████████████| 68/68 [02:59<00:00,  3.03s/it]  \n"
     ]
    },
    {
     "name": "stdout",
     "output_type": "stream",
     "text": [
      "Slice: 1\n",
      "Load file .\\sbr_data\\SBR_Data_ESSnet.csv with 204 rows and 7 coloumns\n",
      "DataFrame columns: ['ID', 'Name', 'URL', 'Phone', 'Email', 'Address', 'Populated place']\n"
     ]
    },
    {
     "name": "stderr",
     "output_type": "stream",
     "text": [
      "processed: 000000210 Statistics Sweden : 100%|█████████████████████████████████████████| 68/68 [03:17<00:00,  2.82s/it]  \n"
     ]
    },
    {
     "name": "stdout",
     "output_type": "stream",
     "text": [
      "Slice: 2\n",
      "Load file .\\sbr_data\\SBR_Data_ESSnet.csv with 204 rows and 7 coloumns\n",
      "DataFrame columns: ['ID', 'Name', 'URL', 'Phone', 'Email', 'Address', 'Populated place']\n"
     ]
    },
    {
     "name": "stderr",
     "output_type": "stream",
     "text": [
      "processed: 000000211 Statistics Sweden : 100%|█████████████████████████████████████████| 68/68 [03:53<00:00,  2.72s/it]  \n"
     ]
    }
   ],
   "source": [
    "dfn = uf.start_ws(\n",
    "    timeout=20,\n",
    "    sleep=2,\n",
    "    slice=0,\n",
    "    what='search'\n",
    ")"
   ]
  },
  {
   "cell_type": "markdown",
   "metadata": {},
   "source": [
    "#### 3.3.1. Displaying 5 successful results from Querying a Search Engine with Enterprises information for the last portion\n",
    "\n",
    "The **pandas dataframe object** with Suggested Enterprises URLs has the following structure:\n",
    "- **ID** (SBR Enterprise ID, VAT number or other)\n",
    "- **Name** (Enterprise name)\n",
    "- **URL** (Enterprise known URL from SBR)\n",
    "- **Suggested URL** (URL of Enterprise that Serach Engine yields)\n",
    "- **Link position** (order number of URL of Enterprise that Serach Engine yields)\n",
    "- **Has equal domain** (1 if domains of known and suugested URLs are equal else 0)"
   ]
  },
  {
   "cell_type": "code",
   "execution_count": 8,
   "metadata": {},
   "outputs": [
    {
     "name": "stdout",
     "output_type": "stream",
     "text": [
      "<class 'pandas.core.frame.DataFrame'>\n",
      "RangeIndex: 680 entries, 0 to 679\n",
      "Columns: 6 entries, ID to Has equal domain\n",
      "dtypes: float64(2), object(4)\n",
      "memory usage: 32.0+ KB\n"
     ]
    },
    {
     "data": {
      "text/html": [
       "<div>\n",
       "<style scoped>\n",
       "    .dataframe tbody tr th:only-of-type {\n",
       "        vertical-align: middle;\n",
       "    }\n",
       "\n",
       "    .dataframe tbody tr th {\n",
       "        vertical-align: top;\n",
       "    }\n",
       "\n",
       "    .dataframe thead th {\n",
       "        text-align: right;\n",
       "    }\n",
       "</style>\n",
       "<table border=\"1\" class=\"dataframe\">\n",
       "  <thead>\n",
       "    <tr style=\"text-align: right;\">\n",
       "      <th></th>\n",
       "      <th>ID</th>\n",
       "      <th>Name</th>\n",
       "      <th>URL</th>\n",
       "      <th>Suggested URL</th>\n",
       "      <th>Link position</th>\n",
       "      <th>Has equal domain</th>\n",
       "    </tr>\n",
       "  </thead>\n",
       "  <tbody>\n",
       "    <tr>\n",
       "      <th>445</th>\n",
       "      <td>000000137</td>\n",
       "      <td>State Statistical office</td>\n",
       "      <td>http://www.stat.gov.mk</td>\n",
       "      <td>https://www.ons.gov.uk/</td>\n",
       "      <td>5.0</td>\n",
       "      <td>0.0</td>\n",
       "    </tr>\n",
       "    <tr>\n",
       "      <th>47</th>\n",
       "      <td>000000013</td>\n",
       "      <td>Departament d´Estadística</td>\n",
       "      <td></td>\n",
       "      <td>https://en.wikipedia.org/wiki/Andorra</td>\n",
       "      <td>7.0</td>\n",
       "      <td>0.0</td>\n",
       "    </tr>\n",
       "    <tr>\n",
       "      <th>363</th>\n",
       "      <td>000000112</td>\n",
       "      <td>Statistics and Research Aland</td>\n",
       "      <td></td>\n",
       "      <td>https://en.wikipedia.org/wiki/Wikipedia:WikiPr...</td>\n",
       "      <td>3.0</td>\n",
       "      <td>0.0</td>\n",
       "    </tr>\n",
       "    <tr>\n",
       "      <th>4</th>\n",
       "      <td>000000001</td>\n",
       "      <td>STATISTIK AUSTRIA</td>\n",
       "      <td>http://www.statistik.at</td>\n",
       "      <td>https://de.wikipedia.org/wiki/Statistik_Austria</td>\n",
       "      <td>4.0</td>\n",
       "      <td>0.0</td>\n",
       "    </tr>\n",
       "    <tr>\n",
       "      <th>580</th>\n",
       "      <td>000000182</td>\n",
       "      <td>National Institute of Statistics and Economic ...</td>\n",
       "      <td>https://www.insee.fr</td>\n",
       "      <td>https://www.insee.fr/en/accueil</td>\n",
       "      <td>0.0</td>\n",
       "      <td>1.0</td>\n",
       "    </tr>\n",
       "  </tbody>\n",
       "</table>\n",
       "</div>"
      ],
      "text/plain": [
       "            ID                                               Name  \\\n",
       "445  000000137                           State Statistical office   \n",
       "47   000000013                          Departament d´Estadística   \n",
       "363  000000112                      Statistics and Research Aland   \n",
       "4    000000001                                  STATISTIK AUSTRIA   \n",
       "580  000000182  National Institute of Statistics and Economic ...   \n",
       "\n",
       "                         URL  \\\n",
       "445   http://www.stat.gov.mk   \n",
       "47                             \n",
       "363                            \n",
       "4    http://www.statistik.at   \n",
       "580     https://www.insee.fr   \n",
       "\n",
       "                                         Suggested URL  Link position  \\\n",
       "445                            https://www.ons.gov.uk/            5.0   \n",
       "47               https://en.wikipedia.org/wiki/Andorra            7.0   \n",
       "363  https://en.wikipedia.org/wiki/Wikipedia:WikiPr...            3.0   \n",
       "4      https://de.wikipedia.org/wiki/Statistik_Austria            4.0   \n",
       "580                    https://www.insee.fr/en/accueil            0.0   \n",
       "\n",
       "     Has equal domain  \n",
       "445               0.0  \n",
       "47                0.0  \n",
       "363               0.0  \n",
       "4                 0.0  \n",
       "580               1.0  "
      ]
     },
     "execution_count": 8,
     "metadata": {},
     "output_type": "execute_result"
    }
   ],
   "source": [
    "dfn[0].info(verbose=False)\n",
    "dfn[0].sample(5)"
   ]
  },
  {
   "cell_type": "markdown",
   "metadata": {},
   "source": [
    "#### 3.3.2. Displaying first 5 unsuccessful results from Querying a Search Engine with Enterprises information for the last portion\n",
    "\n",
    "The **pandas dataframe object** with Errors from Querying the Search Engine."
   ]
  },
  {
   "cell_type": "code",
   "execution_count": 9,
   "metadata": {},
   "outputs": [
    {
     "name": "stdout",
     "output_type": "stream",
     "text": [
      "<class 'pandas.core.frame.DataFrame'>\n",
      "Index: 0 entries\n",
      "Empty DataFrame"
     ]
    },
    {
     "data": {
      "text/html": [
       "<div>\n",
       "<style scoped>\n",
       "    .dataframe tbody tr th:only-of-type {\n",
       "        vertical-align: middle;\n",
       "    }\n",
       "\n",
       "    .dataframe tbody tr th {\n",
       "        vertical-align: top;\n",
       "    }\n",
       "\n",
       "    .dataframe thead th {\n",
       "        text-align: right;\n",
       "    }\n",
       "</style>\n",
       "<table border=\"1\" class=\"dataframe\">\n",
       "  <thead>\n",
       "    <tr style=\"text-align: right;\">\n",
       "      <th></th>\n",
       "    </tr>\n",
       "  </thead>\n",
       "  <tbody>\n",
       "  </tbody>\n",
       "</table>\n",
       "</div>"
      ],
      "text/plain": [
       "Empty DataFrame\n",
       "Columns: []\n",
       "Index: []"
      ]
     },
     "execution_count": 9,
     "metadata": {},
     "output_type": "execute_result"
    }
   ],
   "source": [
    "dfn[1].info(verbose=False)\n",
    "dfn[1].head(5)"
   ]
  },
  {
   "cell_type": "markdown",
   "metadata": {},
   "source": [
    "### 3.4. Finding URLs to scrape\n",
    "\n",
    "This is done by calling ***start_ws*** method of the ***URLsFinderWS*** class with the following parameters:\n",
    "- **print_errors** parameter whether to print errors or not (optional, default False)\n",
    "- **timeout** parameter with number of seconds for keep the request open (optional, default 5)\n",
    "- **sleep** parameter with number of seconds between each query request to the Search Engine (optional, default 1)\n",
    "- **urlsatstart** parameter with number of URLs to be taken from the beginning of the web page code (optional, default 10)\n",
    "- **urlsatend** parameter with number of URLs to be taken from the end of the web page code (optional, default 10)\n",
    "- **slice** parameter with number of portion of information to start scraping from again in case of interuption (optional, default 0)\n",
    "- **url** parameter to indicate the column with the urls to scrape', in this case **'Suggested URL'**\n",
    "- **what** parameter to pass a routine for the method, in this case **'find_urls_to_scrape_from_suggested_url'**\n",
    "\n",
    "The method saves csv file with URLs to scrape by the name in variable **to_scrape_file** in directory in variable **scrape_path**. Also, the method saves errors in csv file by the name in variable **to_scrape_file** in directory in variable **log_path**.\n",
    "\n",
    "The method returns two **pandas dataframe objects** for the last portion:\n",
    "- **0** URLs to scrape without blacklisted ones (first pandas dataframe object)\n",
    "- **1** Errors from requesting Suggested Enterprises URLs without blacklisted ones (second pandas dataframe object)"
   ]
  },
  {
   "cell_type": "code",
   "execution_count": 10,
   "metadata": {},
   "outputs": [
    {
     "name": "stdout",
     "output_type": "stream",
     "text": [
      "Slice: 0\n",
      "Load file .\\sbr_data\\SBR_Data_ESSnet.csv with 204 rows and 7 coloumns\n",
      "DataFrame columns: ['ID', 'Name', 'URL', 'Phone', 'Email', 'Address', 'Populated place']\n",
      "Load file .\\black_list_urls\\black_list_urls.csv with 215 rows and 1 coloumns\n"
     ]
    },
    {
     "name": "stderr",
     "output_type": "stream",
     "text": [
      "processed: 000000209 https://www.socialstyrelsen.se/en/statistics-and-data/statistics/ : 100%|█| 363/363 [14:35<00:00,  3.55s/it]                                                                                                                                                                                             \n"
     ]
    },
    {
     "name": "stdout",
     "output_type": "stream",
     "text": [
      "Slice: 1\n",
      "Load file .\\sbr_data\\SBR_Data_ESSnet.csv with 204 rows and 7 coloumns\n",
      "DataFrame columns: ['ID', 'Name', 'URL', 'Phone', 'Email', 'Address', 'Populated place']\n",
      "Load file .\\black_list_urls\\black_list_urls.csv with 215 rows and 1 coloumns\n"
     ]
    },
    {
     "name": "stderr",
     "output_type": "stream",
     "text": [
      "processed: 000000210 https://www.socialstyrelsen.se/en/statistics-and-data/statistics/ : 100%|█| 369/369 [12:53<00:00,  2.90s/it]                                                                                                                                                                                             \n"
     ]
    },
    {
     "name": "stdout",
     "output_type": "stream",
     "text": [
      "Slice: 2\n",
      "Load file .\\sbr_data\\SBR_Data_ESSnet.csv with 204 rows and 7 coloumns\n",
      "DataFrame columns: ['ID', 'Name', 'URL', 'Phone', 'Email', 'Address', 'Populated place']\n",
      "Load file .\\black_list_urls\\black_list_urls.csv with 215 rows and 1 coloumns\n"
     ]
    },
    {
     "name": "stderr",
     "output_type": "stream",
     "text": [
      "processed: 000000211 https://www.socialstyrelsen.se/en/statistics-and-data/statistics/ : 100%|█| 355/355 [10:54<00:00,  2.82s/it]                                                                                  \n"
     ]
    }
   ],
   "source": [
    "dfnt = uf.start_ws(\n",
    "    timeout=20,\n",
    "    sleep=0.5,\n",
    "    urlsatstart=10,\n",
    "    urlsatend=10,\n",
    "    slice=0,\n",
    "    url='Suggested URL',\n",
    "    what='find_urls_to_scrape_from_suggested_url'\n",
    ")"
   ]
  },
  {
   "cell_type": "markdown",
   "metadata": {},
   "source": [
    "#### 3.4.1. Displaying 5 successful results from Finding URLs to scrape from the last portion\n",
    "\n",
    "The **pandas dataframe object** with URLs to scrape has the following structure:\n",
    "- **ID** (SBR Enterprise ID)\n",
    "- **Name** (Enterprise name)\n",
    "- **URL** (Enterprise known URL from SBR)\n",
    "- **Suggested URL** (URL of Enterprise that Serach Engine yields)\n",
    "- **Link position** (order number of URL of Enterprise that Serach Engine yields)\n",
    "- **Has equal domain** (1 if domains of known and suugested URLs are equal else 0)\n",
    "- **Has Simple Suggested URL** (1 if Suggested URL contains only protocol, domain and language path \"en\" else 0)\n",
    "- **URL to scrape** (first *urlsatstart* and last *urlsatend* URLs taken from the Suggested URL web page)"
   ]
  },
  {
   "cell_type": "code",
   "execution_count": 11,
   "metadata": {},
   "outputs": [
    {
     "name": "stdout",
     "output_type": "stream",
     "text": [
      "<class 'pandas.core.frame.DataFrame'>\n",
      "RangeIndex: 5502 entries, 0 to 5501\n",
      "Columns: 8 entries, ID to URL to scrape\n",
      "dtypes: object(8)\n",
      "memory usage: 344.0+ KB\n"
     ]
    },
    {
     "data": {
      "text/html": [
       "<div>\n",
       "<style scoped>\n",
       "    .dataframe tbody tr th:only-of-type {\n",
       "        vertical-align: middle;\n",
       "    }\n",
       "\n",
       "    .dataframe tbody tr th {\n",
       "        vertical-align: top;\n",
       "    }\n",
       "\n",
       "    .dataframe thead th {\n",
       "        text-align: right;\n",
       "    }\n",
       "</style>\n",
       "<table border=\"1\" class=\"dataframe\">\n",
       "  <thead>\n",
       "    <tr style=\"text-align: right;\">\n",
       "      <th></th>\n",
       "      <th>ID</th>\n",
       "      <th>Name</th>\n",
       "      <th>URL</th>\n",
       "      <th>Suggested URL</th>\n",
       "      <th>Link position</th>\n",
       "      <th>Has equal domain</th>\n",
       "      <th>Has Simple Suggested URL</th>\n",
       "      <th>URL to scrape</th>\n",
       "    </tr>\n",
       "  </thead>\n",
       "  <tbody>\n",
       "    <tr>\n",
       "      <th>904</th>\n",
       "      <td>000000029</td>\n",
       "      <td>Statistics Office</td>\n",
       "      <td>NaN</td>\n",
       "      <td>https://context.reverso.net/перевод/английский...</td>\n",
       "      <td>9.0</td>\n",
       "      <td>0.0</td>\n",
       "      <td>0.0</td>\n",
       "      <td>https://context.reverso.net/الترجمة/</td>\n",
       "    </tr>\n",
       "    <tr>\n",
       "      <th>4030</th>\n",
       "      <td>000000147</td>\n",
       "      <td>Statistical Office</td>\n",
       "      <td>https://slovak.statistics.sk</td>\n",
       "      <td>https://slovak.statistics.sk/wps/portal/ext/ho...</td>\n",
       "      <td>5.0</td>\n",
       "      <td>1.0</td>\n",
       "      <td>0.0</td>\n",
       "      <td>https://slovak.statistics.sk/displaySettings</td>\n",
       "    </tr>\n",
       "    <tr>\n",
       "      <th>847</th>\n",
       "      <td>000000026</td>\n",
       "      <td>Federal Statistical Office</td>\n",
       "      <td>https://www.destatis.de</td>\n",
       "      <td>https://ycharts.com/indicators/sources/federal...</td>\n",
       "      <td>9.0</td>\n",
       "      <td>0.0</td>\n",
       "      <td>0.0</td>\n",
       "      <td>https://ycharts.com/indicators/reports</td>\n",
       "    </tr>\n",
       "    <tr>\n",
       "      <th>1187</th>\n",
       "      <td>000000043</td>\n",
       "      <td>Statistics Estonia</td>\n",
       "      <td>https://www.stat.ee</td>\n",
       "      <td>https://www.stat.ee/</td>\n",
       "      <td>1.0</td>\n",
       "      <td>1.0</td>\n",
       "      <td>1.0</td>\n",
       "      <td>https://www.stat.ee/et/avasta-statistikat/piir...</td>\n",
       "    </tr>\n",
       "    <tr>\n",
       "      <th>2813</th>\n",
       "      <td>000000103</td>\n",
       "      <td>Statistics Norway</td>\n",
       "      <td>NaN</td>\n",
       "      <td>https://www.norden.org/en/statistics</td>\n",
       "      <td>8.0</td>\n",
       "      <td>0.0</td>\n",
       "      <td>0.0</td>\n",
       "      <td>https://www.norden.org/sv/statistik</td>\n",
       "    </tr>\n",
       "  </tbody>\n",
       "</table>\n",
       "</div>"
      ],
      "text/plain": [
       "             ID                        Name                           URL  \\\n",
       "904   000000029           Statistics Office                           NaN   \n",
       "4030  000000147          Statistical Office  https://slovak.statistics.sk   \n",
       "847   000000026  Federal Statistical Office       https://www.destatis.de   \n",
       "1187  000000043          Statistics Estonia           https://www.stat.ee   \n",
       "2813  000000103           Statistics Norway                           NaN   \n",
       "\n",
       "                                          Suggested URL Link position  \\\n",
       "904   https://context.reverso.net/перевод/английский...           9.0   \n",
       "4030  https://slovak.statistics.sk/wps/portal/ext/ho...           5.0   \n",
       "847   https://ycharts.com/indicators/sources/federal...           9.0   \n",
       "1187                               https://www.stat.ee/           1.0   \n",
       "2813               https://www.norden.org/en/statistics           8.0   \n",
       "\n",
       "     Has equal domain Has Simple Suggested URL  \\\n",
       "904               0.0                      0.0   \n",
       "4030              1.0                      0.0   \n",
       "847               0.0                      0.0   \n",
       "1187              1.0                      1.0   \n",
       "2813              0.0                      0.0   \n",
       "\n",
       "                                          URL to scrape  \n",
       "904                https://context.reverso.net/الترجمة/  \n",
       "4030       https://slovak.statistics.sk/displaySettings  \n",
       "847              https://ycharts.com/indicators/reports  \n",
       "1187  https://www.stat.ee/et/avasta-statistikat/piir...  \n",
       "2813                https://www.norden.org/sv/statistik  "
      ]
     },
     "execution_count": 11,
     "metadata": {},
     "output_type": "execute_result"
    }
   ],
   "source": [
    "dfnt[0].info(verbose=False)\n",
    "dfnt[0].sample(5)"
   ]
  },
  {
   "cell_type": "markdown",
   "metadata": {},
   "source": [
    "#### 3.4.2. Displaying top 5 unsuccessful results from Finding URLs to scrape from the last portion\n",
    "\n",
    "The **pandas dataframe object** with Errors from requesting Suggested Enterprises URLs without blacklisted ones.\n",
    "\n",
    "The **pandas dataframe object** has the following structure:\n",
    "- **ID** (SBR Enterprise ID)\n",
    "- **Name** (Enterprise name)\n",
    "- **URL** (Enterprise known URL from SBR)\n",
    "- **Suggested URL** (URL of Enterprise that Serach Engine yields)\n",
    "- **Link position** (order number of URL of Enterprise that Serach Engine yields)\n",
    "- **Has equal domain** (1 if domains of known and suugested URLs are equal else 0)\n",
    "- **Has Simple Suggested URL** (1 if Suggested URL contains only protocol, domain and language path \"en\" else 0)\n",
    "- **Error** (Description of the error encountered)"
   ]
  },
  {
   "cell_type": "code",
   "execution_count": 12,
   "metadata": {
    "scrolled": true
   },
   "outputs": [
    {
     "name": "stdout",
     "output_type": "stream",
     "text": [
      "<class 'pandas.core.frame.DataFrame'>\n",
      "RangeIndex: 5 entries, 0 to 4\n",
      "Columns: 8 entries, ID to Error\n",
      "dtypes: float64(1), object(7)\n",
      "memory usage: 400.0+ bytes\n"
     ]
    },
    {
     "data": {
      "text/html": [
       "<div>\n",
       "<style scoped>\n",
       "    .dataframe tbody tr th:only-of-type {\n",
       "        vertical-align: middle;\n",
       "    }\n",
       "\n",
       "    .dataframe tbody tr th {\n",
       "        vertical-align: top;\n",
       "    }\n",
       "\n",
       "    .dataframe thead th {\n",
       "        text-align: right;\n",
       "    }\n",
       "</style>\n",
       "<table border=\"1\" class=\"dataframe\">\n",
       "  <thead>\n",
       "    <tr style=\"text-align: right;\">\n",
       "      <th></th>\n",
       "      <th>ID</th>\n",
       "      <th>Name</th>\n",
       "      <th>URL</th>\n",
       "      <th>Suggested URL</th>\n",
       "      <th>Link position</th>\n",
       "      <th>Has equal domain</th>\n",
       "      <th>Has Simple Suggested URL</th>\n",
       "      <th>Error</th>\n",
       "    </tr>\n",
       "  </thead>\n",
       "  <tbody>\n",
       "    <tr>\n",
       "      <th>0</th>\n",
       "      <td>000000134</td>\n",
       "      <td>Office of Economic Planning, Data Processing a...</td>\n",
       "      <td>http://www.statistica.sm</td>\n",
       "      <td>https://www.springfield-ma.gov/planning/</td>\n",
       "      <td>5.0</td>\n",
       "      <td>0.0</td>\n",
       "      <td>0.0</td>\n",
       "      <td>Connection problems</td>\n",
       "    </tr>\n",
       "    <tr>\n",
       "      <th>1</th>\n",
       "      <td>000000134</td>\n",
       "      <td>Office of Economic Planning, Data Processing a...</td>\n",
       "      <td>http://www.statistica.sm</td>\n",
       "      <td>https://unctad.org/en/Pages/GDS/Sovereign-Debt...</td>\n",
       "      <td>7.0</td>\n",
       "      <td>0.0</td>\n",
       "      <td>0.0</td>\n",
       "      <td>Connection problems</td>\n",
       "    </tr>\n",
       "    <tr>\n",
       "      <th>2</th>\n",
       "      <td>000000205</td>\n",
       "      <td>Statistics Sweden</td>\n",
       "      <td>https://www.scb.se</td>\n",
       "      <td>https://www.scb.se/en/</td>\n",
       "      <td>0.0</td>\n",
       "      <td>1.0</td>\n",
       "      <td>1.0</td>\n",
       "      <td>Connection problems</td>\n",
       "    </tr>\n",
       "    <tr>\n",
       "      <th>3</th>\n",
       "      <td>000000208</td>\n",
       "      <td>Statistics Sweden</td>\n",
       "      <td>NaN</td>\n",
       "      <td>https://www.scb.se/en/</td>\n",
       "      <td>0.0</td>\n",
       "      <td>0.0</td>\n",
       "      <td>1.0</td>\n",
       "      <td>Connection problems</td>\n",
       "    </tr>\n",
       "    <tr>\n",
       "      <th>4</th>\n",
       "      <td>000000211</td>\n",
       "      <td>Statistics Sweden</td>\n",
       "      <td>https://www.scb.se</td>\n",
       "      <td>https://www.scb.se/en/</td>\n",
       "      <td>0.0</td>\n",
       "      <td>1.0</td>\n",
       "      <td>1.0</td>\n",
       "      <td>Connection problems</td>\n",
       "    </tr>\n",
       "  </tbody>\n",
       "</table>\n",
       "</div>"
      ],
      "text/plain": [
       "          ID                                               Name  \\\n",
       "0  000000134  Office of Economic Planning, Data Processing a...   \n",
       "1  000000134  Office of Economic Planning, Data Processing a...   \n",
       "2  000000205                                  Statistics Sweden   \n",
       "3  000000208                                  Statistics Sweden   \n",
       "4  000000211                                  Statistics Sweden   \n",
       "\n",
       "                        URL  \\\n",
       "0  http://www.statistica.sm   \n",
       "1  http://www.statistica.sm   \n",
       "2        https://www.scb.se   \n",
       "3                       NaN   \n",
       "4        https://www.scb.se   \n",
       "\n",
       "                                       Suggested URL Link position  \\\n",
       "0           https://www.springfield-ma.gov/planning/           5.0   \n",
       "1  https://unctad.org/en/Pages/GDS/Sovereign-Debt...           7.0   \n",
       "2                             https://www.scb.se/en/           0.0   \n",
       "3                             https://www.scb.se/en/           0.0   \n",
       "4                             https://www.scb.se/en/           0.0   \n",
       "\n",
       "  Has equal domain  Has Simple Suggested URL                Error  \n",
       "0              0.0                       0.0  Connection problems  \n",
       "1              0.0                       0.0  Connection problems  \n",
       "2              1.0                       1.0  Connection problems  \n",
       "3              0.0                       1.0  Connection problems  \n",
       "4              1.0                       1.0  Connection problems  "
      ]
     },
     "execution_count": 12,
     "metadata": {},
     "output_type": "execute_result"
    }
   ],
   "source": [
    "dfnt[1].info(verbose=False)\n",
    "dfnt[1].head(5)"
   ]
  },
  {
   "cell_type": "markdown",
   "metadata": {},
   "source": [
    "### 3.5. Scraping URLs\n",
    "\n",
    "This is done by calling ***start_ws*** method of the ***URLsFinderWS*** class with the following parameters:\n",
    "- **print_errors** parameter whether to print errors or not (optional, default False)\n",
    "- **timeout** parameter with number of seconds for keep the request open (optional, default 5)\n",
    "- **sleep** parameter with number of seconds between each query request to the Search Engine (optional, default 1)\n",
    "- **slice** parameter with number of portion of information to start scraping from again in case of interuption (optional, default 0)\n",
    "- **what** parameter to pass a routine for the method, in this case **'find_enterprise_information'**\n",
    "\n",
    "The method saves csv file with scraped URLs by the name in variable **scrape_file** in directory in variable **scrape_path**. Also, the method saves errors in csv file by the name in variable **scrape_file** in directory in variable **log_path**.\n",
    "\n",
    "The method returns two **pandas dataframe objects** for the last portion:\n",
    "- **0** Scraped URLs (first pandas dataframe object)\n",
    "- **1** Errors from requesting URLs to scrape (second pandas dataframe object)"
   ]
  },
  {
   "cell_type": "code",
   "execution_count": 13,
   "metadata": {},
   "outputs": [
    {
     "name": "stdout",
     "output_type": "stream",
     "text": [
      "Slice: 0\n",
      "Load file .\\sbr_data\\URLs_words.txt with 6 rows and 1 coloumns\n",
      "OBEC term matrix key words:\n",
      "['Has Address', 'Has Email', 'Has ID', 'Has Name', 'Has Phone', 'Has Populated place']\n",
      "Load file .\\sbr_data\\SBR_Data_ESSnet.csv with 204 rows and 7 coloumns\n",
      "DataFrame columns: ['ID', 'Name', 'URL', 'Phone', 'Email', 'Address', 'Populated place']\n",
      "Load file .\\black_list_urls\\black_list_urls.csv with 215 rows and 1 coloumns\n"
     ]
    },
    {
     "name": "stderr",
     "output_type": "stream",
     "text": [
      "processed: 000000079 https://www.insee.fr/arch/policy-papers-and-consultations :  37%|▎| 2075/5595 [1:09:51<1:19:06,  1.35s/it]                                                                                                                                                                                                           \n",
      "\n",
      "\n",
      "/en/information/3313008\n",
      "processed: 000000079 https://www.insee.fr/35s/it]      \n",
      "\n",
      "\n",
      "/en/information/3313008\n",
      "processed: 000000079 https://www.insee.fr/42s/it]\n",
      "\n",
      "\n",
      "/en/accueil\n",
      "processed: 000000079 https://www.insee.fr/23:24,  1.42s/it]  \n",
      "\n",
      "\n",
      "/en/accueil\n",
      "processed: 000000079 https://www.insee.fr/contenu :  37%|████████▏             | 2080/5595 [1:09:57<1:11:31,  1.22s/it]\n",
      "\n",
      "\n",
      "/en/information/2107814\n",
      "processed: 000000079 https://www.insee.fr/22s/it]\n",
      "\n",
      "\n",
      "/en/information/2107814\n",
      "processed: 000000079 https://www.insee.fr/23s/it]\n",
      "\n",
      "\n",
      "/en/statistiques\n",
      "processed: 000000079 https://www.insee.fr/,  1.23s/it]  \n",
      "\n",
      "\n",
      "/en/statistiques\n",
      "processed: 000000135 https://www.ons.gov.uk/ :  68%|███████████████████▊         | 3823/5595 [2:25:06<40:04,  1.36s/it]                                                                                                                                                                                                                                                                                                                                   \n",
      "\n",
      "\n",
      "\n",
      "    //cy.ons.gov.uk/economy?:uri=economy\n",
      "processed: 000000135 https://www.ons.gov.uk/it]\n",
      "\n",
      "\n",
      "\n",
      "    //cy.ons.gov.uk/economy?:uri=economy\n",
      "processed: 000000183 https://www.insee.fr/rg/calendar.php :  90%|██████████████▎ | 5015/5595 [3:01:47<10:42,  1.11s/it]                                                                                                                                                                                                                                                                   \n",
      "\n",
      "\n",
      "/en/information/3313008\n",
      "processed: 000000183 https://www.insee.fr/s/it]\n",
      "\n",
      "\n",
      "/en/information/3313008\n",
      "processed: 000000183 https://www.insee.fr/s/it]\n",
      "\n",
      "\n",
      "/en/accueil\n",
      "processed: 000000183 https://www.insee.fr/10:59,  1.14s/it]\n",
      "\n",
      "\n",
      "/en/accueil\n",
      "processed: 000000183 https://www.insee.fr/contenu :  90%|█████████████████████▌  | 5020/5595 [3:01:52<10:30,  1.10s/it]\n",
      "\n",
      "\n",
      "/en/information/2107814\n",
      "processed: 000000183 https://www.insee.fr/s/it]\n",
      "\n",
      "\n",
      "/en/information/2107814\n",
      "processed: 000000183 https://www.insee.fr/s/it]\n",
      "\n",
      "\n",
      "/en/statistiques\n",
      "processed: 000000183 https://www.insee.fr/,  1.15s/it]\n",
      "\n",
      "\n",
      "/en/statistiques\n",
      "processed: 000000209 https://www.socialstyrelsen.se/globalassets/sharepoint-dokument/artikelkatalog/statistik/2019-9-6290-tables.xls : 100%|█| 5595/5595 [3:16:23<00:00,  1.85s/it]                                                                                                                                                                                 \n"
     ]
    },
    {
     "name": "stdout",
     "output_type": "stream",
     "text": [
      "Slice: 1\n",
      "Load file .\\sbr_data\\URLs_words.txt with 6 rows and 1 coloumns\n",
      "OBEC term matrix key words:\n",
      "['Has Address', 'Has Email', 'Has ID', 'Has Name', 'Has Phone', 'Has Populated place']\n",
      "Load file .\\sbr_data\\SBR_Data_ESSnet.csv with 204 rows and 7 coloumns\n",
      "DataFrame columns: ['ID', 'Name', 'URL', 'Phone', 'Email', 'Address', 'Populated place']\n",
      "Load file .\\black_list_urls\\black_list_urls.csv with 215 rows and 1 coloumns\n"
     ]
    },
    {
     "name": "stderr",
     "output_type": "stream",
     "text": [
      "processed: 000000080 https://www.insee.fr/arch/policy-papers-and-consultations :  38%|▍| 2142/5679 [1:06:27<1:12:22,  1.23s/it]                                                                                                                                                                                                                                                           \n",
      "\n",
      "\n",
      "/en/information/3313008\n",
      "processed: 000000080 https://www.insee.fr/23s/it]      \n",
      "\n",
      "\n",
      "/en/information/3313008\n",
      "processed: 000000080 https://www.insee.fr/43s/it]\n",
      "\n",
      "\n",
      "/en/accueil\n",
      "processed: 000000080 https://www.insee.fr/24:20,  1.43s/it]  \n",
      "\n",
      "\n",
      "/en/accueil\n",
      "processed: 000000080 https://www.insee.fr/contenu :  38%|████████▎             | 2147/5679 [1:06:34<1:13:47,  1.25s/it]\n",
      "\n",
      "\n",
      "/en/information/2107814\n",
      "processed: 000000080 https://www.insee.fr/25s/it]\n",
      "\n",
      "\n",
      "/en/information/2107814\n",
      "processed: 000000080 https://www.insee.fr/39s/it]\n",
      "\n",
      "\n",
      "/en/statistiques\n",
      "processed: 000000080 https://www.insee.fr/,  1.39s/it]  \n",
      "\n",
      "\n",
      "/en/statistiques\n",
      "processed: 000000136 https://www.ons.gov.uk/ :  70%|████████████████████▏        | 3963/5679 [1:58:51<39:40,  1.39s/it]                                                                                                                                                                                                                                                                                                                                   \n",
      "\n",
      "\n",
      "\n",
      "    //cy.ons.gov.uk/economy?:uri=economy\n",
      "processed: 000000136 https://www.ons.gov.uk/it]\n",
      "\n",
      "\n",
      "\n",
      "    //cy.ons.gov.uk/economy?:uri=economy\n",
      "processed: 000000210 https://www.socialstyrelsen.se/globalassets/sharepoint-dokument/artikelkatalog/statistik/2019-9-6290-tables.xls : 100%|█| 5679/5679 [2:46:18<00:00,  1.99s/it]                                                                                                                                                                                                       \n"
     ]
    },
    {
     "name": "stdout",
     "output_type": "stream",
     "text": [
      "Slice: 2\n",
      "Load file .\\sbr_data\\URLs_words.txt with 6 rows and 1 coloumns\n",
      "OBEC term matrix key words:\n",
      "['Has Address', 'Has Email', 'Has ID', 'Has Name', 'Has Phone', 'Has Populated place']\n",
      "Load file .\\sbr_data\\SBR_Data_ESSnet.csv with 204 rows and 7 coloumns\n",
      "DataFrame columns: ['ID', 'Name', 'URL', 'Phone', 'Email', 'Address', 'Populated place']\n",
      "Load file .\\black_list_urls\\black_list_urls.csv with 215 rows and 1 coloumns\n"
     ]
    },
    {
     "name": "stderr",
     "output_type": "stream",
     "text": [
      "processed: 000000081 https://www.insee.fr/arch/policy-papers-and-consultations :  37%|▎| 2009/5502 [1:07:05<1:13:33,  1.26s/it]                                                                                                                                                                                                                                                             \n",
      "\n",
      "\n",
      "/en/information/3313008\n",
      "processed: 000000081 https://www.insee.fr/26s/it]      \n",
      "\n",
      "\n",
      "/en/information/3313008\n",
      "processed: 000000081 https://www.insee.fr/50s/it]\n",
      "\n",
      "\n",
      "/en/accueil\n",
      "processed: 000000081 https://www.insee.fr/27:15,  1.50s/it]  \n",
      "\n",
      "\n",
      "/en/accueil\n",
      "processed: 000000081 https://www.insee.fr/contenu :  37%|████████              | 2014/5502 [1:07:13<1:20:06,  1.38s/it]\n",
      "\n",
      "\n",
      "/en/information/2107814\n",
      "processed: 000000081 https://www.insee.fr/38s/it]\n",
      "\n",
      "\n",
      "/en/information/2107814\n",
      "processed: 000000081 https://www.insee.fr/31s/it]\n",
      "\n",
      "\n",
      "/en/statistiques\n",
      "processed: 000000081 https://www.insee.fr/,  1.31s/it]  \n",
      "\n",
      "\n",
      "/en/statistiques\n",
      "processed: 000000134 https://www.ons.gov.uk/ :  67%|███████████████████▌         | 3706/5502 [1:56:46<43:30,  1.45s/it]                                                                                                                                                                                                     \n",
      "\n",
      "\n",
      "\n",
      "    //cy.ons.gov.uk/economy?:uri=economy\n",
      "processed: 000000134 https://www.ons.gov.uk/it]\n",
      "\n",
      "\n",
      "\n",
      "    //cy.ons.gov.uk/economy?:uri=economy\n",
      "processed: 000000182 https://www.insee.fr/rg/calendar.php :  88%|██████████████  | 4854/5502 [2:29:25<12:56,  1.20s/it]                                                                                                                                                                                                                                                                   \n",
      "\n",
      "\n",
      "/en/information/3313008\n",
      "processed: 000000182 https://www.insee.fr/s/it]\n",
      "\n",
      "\n",
      "/en/information/3313008\n",
      "processed: 000000182 https://www.insee.fr/s/it]\n",
      "\n",
      "\n",
      "/en/accueil\n",
      "processed: 000000182 https://www.insee.fr/12:27,  1.16s/it]\n",
      "\n",
      "\n",
      "/en/accueil\n",
      "processed: 000000182 https://www.insee.fr/contenu :  88%|█████████████████████▏  | 4859/5502 [2:29:31<13:56,  1.30s/it]\n",
      "\n",
      "\n",
      "/en/information/2107814\n",
      "processed: 000000182 https://www.insee.fr/s/it]\n",
      "\n",
      "\n",
      "/en/information/2107814\n",
      "processed: 000000182 https://www.insee.fr/s/it]\n",
      "\n",
      "\n",
      "/en/statistiques\n",
      "processed: 000000182 https://www.insee.fr/,  1.34s/it]\n",
      "\n",
      "\n",
      "/en/statistiques\n",
      "processed: 000000211 https://www.socialstyrelsen.se/globalassets/sharepoint-dokument/artikelkatalog/statistik/2019-9-6290-tables.xls : 100%|█| 5502/5502 [2:45:51<00:00,  2.34s/it]                                                                                                                                                                                          \n"
     ]
    }
   ],
   "source": [
    "dfnes = uf.start_ws(\n",
    "    timeout=20,\n",
    "    sleep=0.5,\n",
    "    slice=0,\n",
    "    what='find_enterprise_information'\n",
    ")"
   ]
  },
  {
   "cell_type": "markdown",
   "metadata": {},
   "source": [
    "#### 3.5.1. Displaying 5 successful results from Scraping URLs from the last portion\n",
    "\n",
    "The **pandas dataframe object** with scraped URLs has the following structure:\n",
    "- **ID** (SBR Enterprise ID)\n",
    "- **Name** (Enterprise name)\n",
    "- **URL** (Enterprise known URL from SBR)\n",
    "- **Suggested URL** (URL of Enterprise that Serach Engine yields)\n",
    "- **Link position** (order number of URL of Enterprise that Serach Engine yields)\n",
    "- **Has equal domain** (1 if domains of known and suugested URLs are equal else 0)\n",
    "- **Has Simple Suggested URL** (1 if Suggested URL contains only protocol, domain and language path \"en\" else 0)\n",
    "- **URL to scrape** (first *urlsatstart* and last *urlsatend* URLs taken from the Suggested URL web page)\n",
    "- **The key words that are searched in the web pages** (Every key word gets a column in the data frame. The values in the column are 1 if the key word is found on the page else 0)"
   ]
  },
  {
   "cell_type": "code",
   "execution_count": 14,
   "metadata": {},
   "outputs": [
    {
     "name": "stdout",
     "output_type": "stream",
     "text": [
      "<class 'pandas.core.frame.DataFrame'>\n",
      "RangeIndex: 4786 entries, 0 to 4785\n",
      "Columns: 14 entries, ID to Has Populated place\n",
      "dtypes: float64(6), object(8)\n",
      "memory usage: 523.5+ KB\n"
     ]
    },
    {
     "data": {
      "text/html": [
       "<div>\n",
       "<style scoped>\n",
       "    .dataframe tbody tr th:only-of-type {\n",
       "        vertical-align: middle;\n",
       "    }\n",
       "\n",
       "    .dataframe tbody tr th {\n",
       "        vertical-align: top;\n",
       "    }\n",
       "\n",
       "    .dataframe thead th {\n",
       "        text-align: right;\n",
       "    }\n",
       "</style>\n",
       "<table border=\"1\" class=\"dataframe\">\n",
       "  <thead>\n",
       "    <tr style=\"text-align: right;\">\n",
       "      <th></th>\n",
       "      <th>ID</th>\n",
       "      <th>Name</th>\n",
       "      <th>URL</th>\n",
       "      <th>Suggested URL</th>\n",
       "      <th>Link position</th>\n",
       "      <th>Has equal domain</th>\n",
       "      <th>Has Simple Suggested URL</th>\n",
       "      <th>URL to scrape</th>\n",
       "      <th>Has Address</th>\n",
       "      <th>Has Email</th>\n",
       "      <th>Has ID</th>\n",
       "      <th>Has Name</th>\n",
       "      <th>Has Phone</th>\n",
       "      <th>Has Populated place</th>\n",
       "    </tr>\n",
       "  </thead>\n",
       "  <tbody>\n",
       "    <tr>\n",
       "      <th>1697</th>\n",
       "      <td>000000071</td>\n",
       "      <td>Central Statistical Bureau of Latvia</td>\n",
       "      <td>https://www.csb.gov.lv</td>\n",
       "      <td>https://www.apollo.io/companies/Central-Statis...</td>\n",
       "      <td>8.0</td>\n",
       "      <td>0.0</td>\n",
       "      <td>0.0</td>\n",
       "      <td>https://www.apollo.io/privacy</td>\n",
       "      <td>0.0</td>\n",
       "      <td>0.0</td>\n",
       "      <td>0.0</td>\n",
       "      <td>0.0</td>\n",
       "      <td>0.0</td>\n",
       "      <td>0.0</td>\n",
       "    </tr>\n",
       "    <tr>\n",
       "      <th>2576</th>\n",
       "      <td>000000109</td>\n",
       "      <td>UK Statistics Authority</td>\n",
       "      <td>NaN</td>\n",
       "      <td>https://www.gov.uk/government/organisations/uk...</td>\n",
       "      <td>2.0</td>\n",
       "      <td>0.0</td>\n",
       "      <td>0.0</td>\n",
       "      <td>https://www.gov.uk/government/organisations</td>\n",
       "      <td>0.0</td>\n",
       "      <td>0.0</td>\n",
       "      <td>0.0</td>\n",
       "      <td>1.0</td>\n",
       "      <td>0.0</td>\n",
       "      <td>1.0</td>\n",
       "    </tr>\n",
       "    <tr>\n",
       "      <th>2003</th>\n",
       "      <td>000000087</td>\n",
       "      <td>National Bureau of Statistics</td>\n",
       "      <td>NaN</td>\n",
       "      <td>https://statisticsmaldives.gov.mv/</td>\n",
       "      <td>7.0</td>\n",
       "      <td>0.0</td>\n",
       "      <td>1.0</td>\n",
       "      <td>https://statisticsmaldives.gov.mv/hies-2019/</td>\n",
       "      <td>0.0</td>\n",
       "      <td>0.0</td>\n",
       "      <td>0.0</td>\n",
       "      <td>1.0</td>\n",
       "      <td>0.0</td>\n",
       "      <td>0.0</td>\n",
       "    </tr>\n",
       "    <tr>\n",
       "      <th>2123</th>\n",
       "      <td>000000094</td>\n",
       "      <td>Statistics Netherlands</td>\n",
       "      <td>NaN</td>\n",
       "      <td>https://www.iamexpat.nl/expat-info/organisatio...</td>\n",
       "      <td>4.0</td>\n",
       "      <td>0.0</td>\n",
       "      <td>0.0</td>\n",
       "      <td>https://www.iamexpat.nl/expat-info/official-is...</td>\n",
       "      <td>0.0</td>\n",
       "      <td>0.0</td>\n",
       "      <td>0.0</td>\n",
       "      <td>0.0</td>\n",
       "      <td>0.0</td>\n",
       "      <td>1.0</td>\n",
       "    </tr>\n",
       "    <tr>\n",
       "      <th>827</th>\n",
       "      <td>000000031</td>\n",
       "      <td>Statistics Greenland</td>\n",
       "      <td>http://www.stat.gl/</td>\n",
       "      <td>http://statistics.greenland.com/</td>\n",
       "      <td>2.0</td>\n",
       "      <td>0.0</td>\n",
       "      <td>1.0</td>\n",
       "      <td>http://statistics.greenland.com/?lang=da</td>\n",
       "      <td>0.0</td>\n",
       "      <td>0.0</td>\n",
       "      <td>0.0</td>\n",
       "      <td>0.0</td>\n",
       "      <td>0.0</td>\n",
       "      <td>0.0</td>\n",
       "    </tr>\n",
       "  </tbody>\n",
       "</table>\n",
       "</div>"
      ],
      "text/plain": [
       "             ID                                  Name                     URL  \\\n",
       "1697  000000071  Central Statistical Bureau of Latvia  https://www.csb.gov.lv   \n",
       "2576  000000109               UK Statistics Authority                     NaN   \n",
       "2003  000000087         National Bureau of Statistics                     NaN   \n",
       "2123  000000094                Statistics Netherlands                     NaN   \n",
       "827   000000031                  Statistics Greenland     http://www.stat.gl/   \n",
       "\n",
       "                                          Suggested URL Link position  \\\n",
       "1697  https://www.apollo.io/companies/Central-Statis...           8.0   \n",
       "2576  https://www.gov.uk/government/organisations/uk...           2.0   \n",
       "2003                 https://statisticsmaldives.gov.mv/           7.0   \n",
       "2123  https://www.iamexpat.nl/expat-info/organisatio...           4.0   \n",
       "827                    http://statistics.greenland.com/           2.0   \n",
       "\n",
       "     Has equal domain Has Simple Suggested URL  \\\n",
       "1697              0.0                      0.0   \n",
       "2576              0.0                      0.0   \n",
       "2003              0.0                      1.0   \n",
       "2123              0.0                      0.0   \n",
       "827               0.0                      1.0   \n",
       "\n",
       "                                          URL to scrape  Has Address  \\\n",
       "1697                      https://www.apollo.io/privacy          0.0   \n",
       "2576        https://www.gov.uk/government/organisations          0.0   \n",
       "2003       https://statisticsmaldives.gov.mv/hies-2019/          0.0   \n",
       "2123  https://www.iamexpat.nl/expat-info/official-is...          0.0   \n",
       "827            http://statistics.greenland.com/?lang=da          0.0   \n",
       "\n",
       "      Has Email  Has ID  Has Name  Has Phone  Has Populated place  \n",
       "1697        0.0     0.0       0.0        0.0                  0.0  \n",
       "2576        0.0     0.0       1.0        0.0                  1.0  \n",
       "2003        0.0     0.0       1.0        0.0                  0.0  \n",
       "2123        0.0     0.0       0.0        0.0                  1.0  \n",
       "827         0.0     0.0       0.0        0.0                  0.0  "
      ]
     },
     "execution_count": 14,
     "metadata": {},
     "output_type": "execute_result"
    }
   ],
   "source": [
    "dfnes[0].info(verbose=False)\n",
    "dfnes[0].sample(5)"
   ]
  },
  {
   "cell_type": "markdown",
   "metadata": {},
   "source": [
    "#### 3.5.2. Displaying top 5 unsuccessful results from Scraping URLs from the last portion\n",
    "\n",
    "The **pandas dataframe object** with Errors from requesting URL to scrape.\n",
    "\n",
    "The **pandas dataframe object** has the following structure:\n",
    "- **ID** (SBR Enterprise ID)\n",
    "- **Name** (Enterprise name)\n",
    "- **URL** (Enterprise known URL from SBR)\n",
    "- **Suggested URL** (URL of Enterprise that Serach Engine yields)\n",
    "- **Link position** (order number of URL of Enterprise that Serach Engine yields)\n",
    "- **Has equal domain** (1 if domains of known and suugested URLs are equal else 0)\n",
    "- **Has Simple Suggested URL** (1 if Suggested URL contains only protocol, domain and language path \"en\" else 0)\n",
    "- **URL to scrape** (URL that has been requested and yields error)\n",
    "- **Error** (Description of the error encountered)"
   ]
  },
  {
   "cell_type": "code",
   "execution_count": 15,
   "metadata": {},
   "outputs": [
    {
     "name": "stdout",
     "output_type": "stream",
     "text": [
      "<class 'pandas.core.frame.DataFrame'>\n",
      "RangeIndex: 7 entries, 0 to 6\n",
      "Columns: 9 entries, ID to Error\n",
      "dtypes: object(9)\n",
      "memory usage: 584.0+ bytes\n"
     ]
    },
    {
     "data": {
      "text/html": [
       "<div>\n",
       "<style scoped>\n",
       "    .dataframe tbody tr th:only-of-type {\n",
       "        vertical-align: middle;\n",
       "    }\n",
       "\n",
       "    .dataframe tbody tr th {\n",
       "        vertical-align: top;\n",
       "    }\n",
       "\n",
       "    .dataframe thead th {\n",
       "        text-align: right;\n",
       "    }\n",
       "</style>\n",
       "<table border=\"1\" class=\"dataframe\">\n",
       "  <thead>\n",
       "    <tr style=\"text-align: right;\">\n",
       "      <th></th>\n",
       "      <th>ID</th>\n",
       "      <th>Name</th>\n",
       "      <th>URL</th>\n",
       "      <th>Suggested URL</th>\n",
       "      <th>Link position</th>\n",
       "      <th>Has equal domain</th>\n",
       "      <th>Has Simple Suggested URL</th>\n",
       "      <th>URL to scrape</th>\n",
       "      <th>Error</th>\n",
       "    </tr>\n",
       "  </thead>\n",
       "  <tbody>\n",
       "    <tr>\n",
       "      <th>0</th>\n",
       "      <td>000000034</td>\n",
       "      <td>Hellenic Statistical Authority</td>\n",
       "      <td>https://www.statistics.gr</td>\n",
       "      <td>https://www.elta.gr/</td>\n",
       "      <td>5.0</td>\n",
       "      <td>0.0</td>\n",
       "      <td>1.0</td>\n",
       "      <td>https://www.elta.gr/eIDASLogin/tabid/931/langu...</td>\n",
       "      <td>Connection problems</td>\n",
       "    </tr>\n",
       "    <tr>\n",
       "      <th>1</th>\n",
       "      <td>000000065</td>\n",
       "      <td>Agency of Statistics</td>\n",
       "      <td>https://ask.rks-gov.net</td>\n",
       "      <td>https://nsa.org.na/</td>\n",
       "      <td>6.0</td>\n",
       "      <td>0.0</td>\n",
       "      <td>1.0</td>\n",
       "      <td>https://intranet.nsa.org.na/nsa-intranet/public</td>\n",
       "      <td>Connection problems</td>\n",
       "    </tr>\n",
       "    <tr>\n",
       "      <th>2</th>\n",
       "      <td>000000087</td>\n",
       "      <td>National Bureau of Statistics</td>\n",
       "      <td>NaN</td>\n",
       "      <td>https://statistica.gov.md/index.php?l=en</td>\n",
       "      <td>4.0</td>\n",
       "      <td>0.0</td>\n",
       "      <td>0.0</td>\n",
       "      <td>http://</td>\n",
       "      <td>Request exception</td>\n",
       "    </tr>\n",
       "    <tr>\n",
       "      <th>3</th>\n",
       "      <td>000000091</td>\n",
       "      <td>Monaco Statistics</td>\n",
       "      <td>NaN</td>\n",
       "      <td>https://www.fctables.com/teams/monaco-190135/</td>\n",
       "      <td>4.0</td>\n",
       "      <td>0.0</td>\n",
       "      <td>0.0</td>\n",
       "      <td>https://www.fctables.com/user/login_facebook/</td>\n",
       "      <td>Connection problems</td>\n",
       "    </tr>\n",
       "    <tr>\n",
       "      <th>4</th>\n",
       "      <td>000000119</td>\n",
       "      <td>STATISTICS PORTUGAL</td>\n",
       "      <td>NaN</td>\n",
       "      <td>https://www.fctables.com/portugal/</td>\n",
       "      <td>6.0</td>\n",
       "      <td>0.0</td>\n",
       "      <td>0.0</td>\n",
       "      <td>https://www.fctables.com/user/login_facebook/</td>\n",
       "      <td>Connection problems</td>\n",
       "    </tr>\n",
       "  </tbody>\n",
       "</table>\n",
       "</div>"
      ],
      "text/plain": [
       "          ID                            Name                        URL  \\\n",
       "0  000000034  Hellenic Statistical Authority  https://www.statistics.gr   \n",
       "1  000000065            Agency of Statistics    https://ask.rks-gov.net   \n",
       "2  000000087   National Bureau of Statistics                        NaN   \n",
       "3  000000091               Monaco Statistics                        NaN   \n",
       "4  000000119             STATISTICS PORTUGAL                        NaN   \n",
       "\n",
       "                                   Suggested URL Link position  \\\n",
       "0                           https://www.elta.gr/           5.0   \n",
       "1                            https://nsa.org.na/           6.0   \n",
       "2       https://statistica.gov.md/index.php?l=en           4.0   \n",
       "3  https://www.fctables.com/teams/monaco-190135/           4.0   \n",
       "4             https://www.fctables.com/portugal/           6.0   \n",
       "\n",
       "  Has equal domain Has Simple Suggested URL  \\\n",
       "0              0.0                      1.0   \n",
       "1              0.0                      1.0   \n",
       "2              0.0                      0.0   \n",
       "3              0.0                      0.0   \n",
       "4              0.0                      0.0   \n",
       "\n",
       "                                       URL to scrape                Error  \n",
       "0  https://www.elta.gr/eIDASLogin/tabid/931/langu...  Connection problems  \n",
       "1    https://intranet.nsa.org.na/nsa-intranet/public  Connection problems  \n",
       "2                                            http://    Request exception  \n",
       "3      https://www.fctables.com/user/login_facebook/  Connection problems  \n",
       "4      https://www.fctables.com/user/login_facebook/  Connection problems  "
      ]
     },
     "execution_count": 15,
     "metadata": {},
     "output_type": "execute_result"
    }
   ],
   "source": [
    "dfnes[1].info(verbose=False)\n",
    "dfnes[1].head(5)"
   ]
  },
  {
   "cell_type": "markdown",
   "metadata": {},
   "source": [
    "#### 3.5.3. Display the key words to scrape (optional)\n",
    "\n",
    "These are the key words that are searched in the web pages. Every key word gets a column in the data frame. The values in the column are 1 if the key word is found on the page else 0."
   ]
  },
  {
   "cell_type": "code",
   "execution_count": 16,
   "metadata": {},
   "outputs": [
    {
     "name": "stdout",
     "output_type": "stream",
     "text": [
      "Load file .\\sbr_data\\URLs_words.txt with 6 rows and 1 coloumns\n",
      "OBEC term matrix key words:\n",
      "['Has Address', 'Has Email', 'Has ID', 'Has Name', 'Has Phone', 'Has Populated place']\n"
     ]
    }
   ],
   "source": [
    "uf.get_obec_words()"
   ]
  },
  {
   "cell_type": "markdown",
   "metadata": {},
   "source": [
    "## 4. Find Enterprises' URLs with Machine Learning"
   ]
  },
  {
   "cell_type": "markdown",
   "metadata": {},
   "source": [
    "### 4.1. Loading URLs Finder machine learning  module logistic regression\n",
    "\n",
    "The machine learning logistic regression module contains one class called ***URLsFinderMLLR***. "
   ]
  },
  {
   "cell_type": "code",
   "execution_count": 17,
   "metadata": {},
   "outputs": [],
   "source": [
    "# optional, if you wish to execute only the Machine Learning over the certain version of scraped data\n",
    "import os\n",
    "import sys\n",
    "sys.path.insert(0, os.path.abspath('../src/'))\n",
    "from datetime import datetime\n",
    "# end optional\n",
    "\n",
    "from obec import URLsFinderMLLR"
   ]
  },
  {
   "cell_type": "markdown",
   "metadata": {},
   "source": [
    "### 4.2. Making an instance of URLs Finder machine learning logistic regression module"
   ]
  },
  {
   "cell_type": "markdown",
   "metadata": {},
   "source": [
    "#### 4.2.1. Initializing the variables"
   ]
  },
  {
   "cell_type": "code",
   "execution_count": 18,
   "metadata": {},
   "outputs": [],
   "source": [
    "variables = {\n",
    "    'version': datetime.now().strftime('%Y-%m-%d'),\n",
    "    'version': 'v.2.0',\n",
    "    'start_path': '.\\\\sbr_data\\\\',\n",
    "    'machine_learning_path': '.\\\\machine_learning\\\\',\n",
    "    'scrape_path': '.\\\\scrape_data\\\\',\n",
    "    'scrape_file': 'OBEC_Starter_Kit_Scrape_Data',\n",
    "    'obec_file': 'OBEC_Starter_Kit_URLs',\n",
    "    'obec_words_file': 'URLs_words.txt',\n",
    "    'obec_known_characteristics': 'OBEC_known_urls.csv',\n",
    "    'csv_delimiter': ';',\n",
    "    'csv_encoding': 'utf-8',\n",
    "    'csv_ext': '.csv',\n",
    "}"
   ]
  },
  {
   "cell_type": "markdown",
   "metadata": {},
   "source": [
    "#### 4.2.2. Initializing the URLsFinderMLLR class with the variables we have defined"
   ]
  },
  {
   "cell_type": "code",
   "execution_count": 19,
   "metadata": {},
   "outputs": [
    {
     "name": "stdout",
     "output_type": "stream",
     "text": [
      "URLs Finder machine learning logistic regression module is ready to work for vesion v.2.0\n"
     ]
    }
   ],
   "source": [
    "ml = URLsFinderMLLR.initialize(variables)"
   ]
  },
  {
   "cell_type": "markdown",
   "metadata": {},
   "source": [
    "### 4.3. Scoring the URLs\n",
    "\n",
    "This is done by calling ***prepare_file_form_scraped_data*** method of the ***URLsFinderMLLR*** class without any parameters (variables we defined).\n",
    "\n",
    "The method reads all csv files with scraped URLs by the name in variable **scrape_file** in directory in variable **scrape_path**. Saves them in a csv file by the name in variable **obec_file** with ending **_final** in directory in variable **machin_learning_path**. Then groups them by the Suggested URL and Link position from the search engin if there is Link position collumn or else groups them by the Suggested URL from the search engin and URL to scrape. Scores them by the rsults in columns from the words in file in variable **obec_words_file** and path **start_path**, Has equal domain, Has Simple Suggested URL and Link position of urls from the search engin. The result is saved in a csv file by the name in variable **obec_file** with ending **\\_ml\\_ready** in directory in variable **machin_learning_path**.\n",
    "\n",
    "The method calculates a **Score** variable by:\n",
    "\n",
    "*Score column \\= sum column \\- sum column * Link position column \\/ 100*\n",
    "\n",
    "Where: *sum column \\= 'The key words in variable obec_words_file that are searched in the web pages' \\+ 'Has equal domain' \\+ 'Has Simple Suggested URL'*\n",
    "\n",
    "The method adds columns 'OBEC' (url that we know) and 'Known OBEC' (1 if we know url else 0) form the file in variable **obec_known_characteristics** and path **start_path**.\n",
    "\n",
    "The method returns 4 **pandas dataframe objects**:\n",
    "- **0** - scored results ready for machine learning\n",
    "- **1** - key words that are searched in the web pages\n",
    "- **2** - Known OBEC urls \n",
    "- **3** - all csv files with scraped URLs in a single file"
   ]
  },
  {
   "cell_type": "code",
   "execution_count": 20,
   "metadata": {},
   "outputs": [],
   "source": [
    "dfml = ml.prepare_file_form_scraped_data()"
   ]
  },
  {
   "cell_type": "markdown",
   "metadata": {},
   "source": [
    "#### 4.3.1. Scored results ready for machine learning (Sample of 5)"
   ]
  },
  {
   "cell_type": "code",
   "execution_count": 21,
   "metadata": {},
   "outputs": [
    {
     "name": "stdout",
     "output_type": "stream",
     "text": [
      "<class 'pandas.core.frame.DataFrame'>\n",
      "Int64Index: 1040 entries, 0 to 1029\n",
      "Columns: 16 entries, ID to Score\n",
      "dtypes: float64(11), int64(1), object(4)\n",
      "memory usage: 138.1+ KB\n"
     ]
    },
    {
     "data": {
      "text/html": [
       "<div>\n",
       "<style scoped>\n",
       "    .dataframe tbody tr th:only-of-type {\n",
       "        vertical-align: middle;\n",
       "    }\n",
       "\n",
       "    .dataframe tbody tr th {\n",
       "        vertical-align: top;\n",
       "    }\n",
       "\n",
       "    .dataframe thead th {\n",
       "        text-align: right;\n",
       "    }\n",
       "</style>\n",
       "<table border=\"1\" class=\"dataframe\">\n",
       "  <thead>\n",
       "    <tr style=\"text-align: right;\">\n",
       "      <th></th>\n",
       "      <th>ID</th>\n",
       "      <th>Name</th>\n",
       "      <th>Suggested URL</th>\n",
       "      <th>Link position</th>\n",
       "      <th>Has Address</th>\n",
       "      <th>Has Email</th>\n",
       "      <th>Has ID</th>\n",
       "      <th>Has Name</th>\n",
       "      <th>Has Phone</th>\n",
       "      <th>Has Populated place</th>\n",
       "      <th>Has equal domain</th>\n",
       "      <th>Has Simple Suggested URL</th>\n",
       "      <th>OBEC</th>\n",
       "      <th>Known OBEC</th>\n",
       "      <th>sum</th>\n",
       "      <th>Score</th>\n",
       "    </tr>\n",
       "  </thead>\n",
       "  <tbody>\n",
       "    <tr>\n",
       "      <th>821</th>\n",
       "      <td>000000162</td>\n",
       "      <td>Turkish Statistical Institute</td>\n",
       "      <td>http://www.turkstat.gov.tr/Start.do</td>\n",
       "      <td>1.0</td>\n",
       "      <td>1.0</td>\n",
       "      <td>1.0</td>\n",
       "      <td>0.0</td>\n",
       "      <td>1.0</td>\n",
       "      <td>1.0</td>\n",
       "      <td>1.0</td>\n",
       "      <td>0.0</td>\n",
       "      <td>0.0</td>\n",
       "      <td>NaN</td>\n",
       "      <td>0</td>\n",
       "      <td>5.0</td>\n",
       "      <td>4.95</td>\n",
       "    </tr>\n",
       "    <tr>\n",
       "      <th>19</th>\n",
       "      <td>000000003</td>\n",
       "      <td>STATISTIK AUSTRIA</td>\n",
       "      <td>http://statistik.at/</td>\n",
       "      <td>0.0</td>\n",
       "      <td>1.0</td>\n",
       "      <td>0.0</td>\n",
       "      <td>0.0</td>\n",
       "      <td>1.0</td>\n",
       "      <td>1.0</td>\n",
       "      <td>1.0</td>\n",
       "      <td>0.0</td>\n",
       "      <td>1.0</td>\n",
       "      <td>NaN</td>\n",
       "      <td>0</td>\n",
       "      <td>5.0</td>\n",
       "      <td>5.00</td>\n",
       "    </tr>\n",
       "    <tr>\n",
       "      <th>157</th>\n",
       "      <td>000000028</td>\n",
       "      <td>Government of Gibraltar</td>\n",
       "      <td>https://www.gibraltar.gov.gi/</td>\n",
       "      <td>0.0</td>\n",
       "      <td>0.0</td>\n",
       "      <td>0.0</td>\n",
       "      <td>0.0</td>\n",
       "      <td>1.0</td>\n",
       "      <td>0.0</td>\n",
       "      <td>1.0</td>\n",
       "      <td>1.0</td>\n",
       "      <td>1.0</td>\n",
       "      <td>https://www.gibraltar.gov.gi</td>\n",
       "      <td>1</td>\n",
       "      <td>4.0</td>\n",
       "      <td>4.00</td>\n",
       "    </tr>\n",
       "    <tr>\n",
       "      <th>456</th>\n",
       "      <td>000000091</td>\n",
       "      <td>Monaco Statistics</td>\n",
       "      <td>https://www.worldometers.info/world-population...</td>\n",
       "      <td>6.0</td>\n",
       "      <td>0.0</td>\n",
       "      <td>0.0</td>\n",
       "      <td>0.0</td>\n",
       "      <td>0.0</td>\n",
       "      <td>0.0</td>\n",
       "      <td>1.0</td>\n",
       "      <td>0.0</td>\n",
       "      <td>0.0</td>\n",
       "      <td>NaN</td>\n",
       "      <td>0</td>\n",
       "      <td>1.0</td>\n",
       "      <td>0.94</td>\n",
       "    </tr>\n",
       "    <tr>\n",
       "      <th>636</th>\n",
       "      <td>000000123</td>\n",
       "      <td>National Institute of Statistics</td>\n",
       "      <td>https://www.niss.org/</td>\n",
       "      <td>6.0</td>\n",
       "      <td>0.0</td>\n",
       "      <td>0.0</td>\n",
       "      <td>0.0</td>\n",
       "      <td>0.0</td>\n",
       "      <td>0.0</td>\n",
       "      <td>0.0</td>\n",
       "      <td>0.0</td>\n",
       "      <td>1.0</td>\n",
       "      <td>NaN</td>\n",
       "      <td>0</td>\n",
       "      <td>1.0</td>\n",
       "      <td>0.94</td>\n",
       "    </tr>\n",
       "  </tbody>\n",
       "</table>\n",
       "</div>"
      ],
      "text/plain": [
       "            ID                              Name  \\\n",
       "821  000000162     Turkish Statistical Institute   \n",
       "19   000000003                 STATISTIK AUSTRIA   \n",
       "157  000000028           Government of Gibraltar   \n",
       "456  000000091                 Monaco Statistics   \n",
       "636  000000123  National Institute of Statistics   \n",
       "\n",
       "                                         Suggested URL  Link position  \\\n",
       "821                http://www.turkstat.gov.tr/Start.do            1.0   \n",
       "19                                http://statistik.at/            0.0   \n",
       "157                      https://www.gibraltar.gov.gi/            0.0   \n",
       "456  https://www.worldometers.info/world-population...            6.0   \n",
       "636                              https://www.niss.org/            6.0   \n",
       "\n",
       "     Has Address  Has Email  Has ID  Has Name  Has Phone  Has Populated place  \\\n",
       "821          1.0        1.0     0.0       1.0        1.0                  1.0   \n",
       "19           1.0        0.0     0.0       1.0        1.0                  1.0   \n",
       "157          0.0        0.0     0.0       1.0        0.0                  1.0   \n",
       "456          0.0        0.0     0.0       0.0        0.0                  1.0   \n",
       "636          0.0        0.0     0.0       0.0        0.0                  0.0   \n",
       "\n",
       "     Has equal domain  Has Simple Suggested URL                          OBEC  \\\n",
       "821               0.0                       0.0                           NaN   \n",
       "19                0.0                       1.0                           NaN   \n",
       "157               1.0                       1.0  https://www.gibraltar.gov.gi   \n",
       "456               0.0                       0.0                           NaN   \n",
       "636               0.0                       1.0                           NaN   \n",
       "\n",
       "     Known OBEC  sum  Score  \n",
       "821           0  5.0   4.95  \n",
       "19            0  5.0   5.00  \n",
       "157           1  4.0   4.00  \n",
       "456           0  1.0   0.94  \n",
       "636           0  1.0   0.94  "
      ]
     },
     "execution_count": 21,
     "metadata": {},
     "output_type": "execute_result"
    }
   ],
   "source": [
    "dfml[0].info(verbose=False)\n",
    "dfml[0].sample(5)"
   ]
  },
  {
   "cell_type": "markdown",
   "metadata": {},
   "source": [
    "#### 4.3.2. All key words that are searched in the web pages"
   ]
  },
  {
   "cell_type": "code",
   "execution_count": 22,
   "metadata": {},
   "outputs": [
    {
     "data": {
      "text/html": [
       "<div>\n",
       "<style scoped>\n",
       "    .dataframe tbody tr th:only-of-type {\n",
       "        vertical-align: middle;\n",
       "    }\n",
       "\n",
       "    .dataframe tbody tr th {\n",
       "        vertical-align: top;\n",
       "    }\n",
       "\n",
       "    .dataframe thead th {\n",
       "        text-align: right;\n",
       "    }\n",
       "</style>\n",
       "<table border=\"1\" class=\"dataframe\">\n",
       "  <thead>\n",
       "    <tr style=\"text-align: right;\">\n",
       "      <th></th>\n",
       "      <th>Word</th>\n",
       "    </tr>\n",
       "  </thead>\n",
       "  <tbody>\n",
       "    <tr>\n",
       "      <th>0</th>\n",
       "      <td>Has Address</td>\n",
       "    </tr>\n",
       "    <tr>\n",
       "      <th>1</th>\n",
       "      <td>Has Email</td>\n",
       "    </tr>\n",
       "    <tr>\n",
       "      <th>2</th>\n",
       "      <td>Has ID</td>\n",
       "    </tr>\n",
       "    <tr>\n",
       "      <th>3</th>\n",
       "      <td>Has Name</td>\n",
       "    </tr>\n",
       "    <tr>\n",
       "      <th>4</th>\n",
       "      <td>Has Phone</td>\n",
       "    </tr>\n",
       "    <tr>\n",
       "      <th>5</th>\n",
       "      <td>Has Populated place</td>\n",
       "    </tr>\n",
       "  </tbody>\n",
       "</table>\n",
       "</div>"
      ],
      "text/plain": [
       "                  Word\n",
       "0          Has Address\n",
       "1            Has Email\n",
       "2               Has ID\n",
       "3             Has Name\n",
       "4            Has Phone\n",
       "5  Has Populated place"
      ]
     },
     "execution_count": 22,
     "metadata": {},
     "output_type": "execute_result"
    }
   ],
   "source": [
    "dfml[1]"
   ]
  },
  {
   "cell_type": "markdown",
   "metadata": {},
   "source": [
    "#### 4.3.3. Known OBEC urls (Sample of 5)"
   ]
  },
  {
   "cell_type": "code",
   "execution_count": 23,
   "metadata": {},
   "outputs": [
    {
     "name": "stdout",
     "output_type": "stream",
     "text": [
      "<class 'pandas.core.frame.DataFrame'>\n",
      "RangeIndex: 119 entries, 0 to 118\n",
      "Columns: 2 entries, ID to OBEC\n",
      "dtypes: object(2)\n",
      "memory usage: 1.9+ KB\n"
     ]
    },
    {
     "data": {
      "text/html": [
       "<div>\n",
       "<style scoped>\n",
       "    .dataframe tbody tr th:only-of-type {\n",
       "        vertical-align: middle;\n",
       "    }\n",
       "\n",
       "    .dataframe tbody tr th {\n",
       "        vertical-align: top;\n",
       "    }\n",
       "\n",
       "    .dataframe thead th {\n",
       "        text-align: right;\n",
       "    }\n",
       "</style>\n",
       "<table border=\"1\" class=\"dataframe\">\n",
       "  <thead>\n",
       "    <tr style=\"text-align: right;\">\n",
       "      <th></th>\n",
       "      <th>ID</th>\n",
       "      <th>OBEC</th>\n",
       "    </tr>\n",
       "  </thead>\n",
       "  <tbody>\n",
       "    <tr>\n",
       "      <th>67</th>\n",
       "      <td>000000125</td>\n",
       "      <td>http://www.insse.ro</td>\n",
       "    </tr>\n",
       "    <tr>\n",
       "      <th>28</th>\n",
       "      <td>000000043</td>\n",
       "      <td>https://www.stat.ee</td>\n",
       "    </tr>\n",
       "    <tr>\n",
       "      <th>102</th>\n",
       "      <td>000000186</td>\n",
       "      <td>https://www.dzs.hr</td>\n",
       "    </tr>\n",
       "    <tr>\n",
       "      <th>33</th>\n",
       "      <td>000000051</td>\n",
       "      <td>https://www.ine.es</td>\n",
       "    </tr>\n",
       "    <tr>\n",
       "      <th>103</th>\n",
       "      <td>000000188</td>\n",
       "      <td>https://www.dzs.hr</td>\n",
       "    </tr>\n",
       "  </tbody>\n",
       "</table>\n",
       "</div>"
      ],
      "text/plain": [
       "            ID                 OBEC\n",
       "67   000000125  http://www.insse.ro\n",
       "28   000000043  https://www.stat.ee\n",
       "102  000000186   https://www.dzs.hr\n",
       "33   000000051   https://www.ine.es\n",
       "103  000000188   https://www.dzs.hr"
      ]
     },
     "execution_count": 23,
     "metadata": {},
     "output_type": "execute_result"
    }
   ],
   "source": [
    "dfml[2].info(verbose=False)\n",
    "dfml[2].sample(5)"
   ]
  },
  {
   "cell_type": "markdown",
   "metadata": {},
   "source": [
    "#### 4.3.4. All csv files with scraped URLs in a single file (Sample of 5)"
   ]
  },
  {
   "cell_type": "code",
   "execution_count": 24,
   "metadata": {},
   "outputs": [
    {
     "name": "stdout",
     "output_type": "stream",
     "text": [
      "<class 'pandas.core.frame.DataFrame'>\n",
      "RangeIndex: 14518 entries, 0 to 14517\n",
      "Columns: 14 entries, ID to Has Populated place\n",
      "dtypes: float64(9), object(5)\n",
      "memory usage: 1.6+ MB\n"
     ]
    },
    {
     "data": {
      "text/html": [
       "<div>\n",
       "<style scoped>\n",
       "    .dataframe tbody tr th:only-of-type {\n",
       "        vertical-align: middle;\n",
       "    }\n",
       "\n",
       "    .dataframe tbody tr th {\n",
       "        vertical-align: top;\n",
       "    }\n",
       "\n",
       "    .dataframe thead th {\n",
       "        text-align: right;\n",
       "    }\n",
       "</style>\n",
       "<table border=\"1\" class=\"dataframe\">\n",
       "  <thead>\n",
       "    <tr style=\"text-align: right;\">\n",
       "      <th></th>\n",
       "      <th>ID</th>\n",
       "      <th>Name</th>\n",
       "      <th>URL</th>\n",
       "      <th>Suggested URL</th>\n",
       "      <th>Link position</th>\n",
       "      <th>Has equal domain</th>\n",
       "      <th>Has Simple Suggested URL</th>\n",
       "      <th>URL to scrape</th>\n",
       "      <th>Has Address</th>\n",
       "      <th>Has Email</th>\n",
       "      <th>Has ID</th>\n",
       "      <th>Has Name</th>\n",
       "      <th>Has Phone</th>\n",
       "      <th>Has Populated place</th>\n",
       "    </tr>\n",
       "  </thead>\n",
       "  <tbody>\n",
       "    <tr>\n",
       "      <th>7893</th>\n",
       "      <td>000000121</td>\n",
       "      <td>National Institute of Statistics</td>\n",
       "      <td>http://www.insse.ro</td>\n",
       "      <td>https://www.niss.org/</td>\n",
       "      <td>6.0</td>\n",
       "      <td>0.0</td>\n",
       "      <td>1.0</td>\n",
       "      <td>https://www.niss.org/annual-reports</td>\n",
       "      <td>0.0</td>\n",
       "      <td>0.0</td>\n",
       "      <td>0.0</td>\n",
       "      <td>0.0</td>\n",
       "      <td>0.0</td>\n",
       "      <td>0.0</td>\n",
       "    </tr>\n",
       "    <tr>\n",
       "      <th>4138</th>\n",
       "      <td>000000173</td>\n",
       "      <td>Statistics Faroe Islands</td>\n",
       "      <td>https://hagstova.fo</td>\n",
       "      <td>https://www.cia.gov/library/publications/the-w...</td>\n",
       "      <td>5.0</td>\n",
       "      <td>0.0</td>\n",
       "      <td>0.0</td>\n",
       "      <td>https://www.cia.gov/ru</td>\n",
       "      <td>0.0</td>\n",
       "      <td>0.0</td>\n",
       "      <td>0.0</td>\n",
       "      <td>0.0</td>\n",
       "      <td>0.0</td>\n",
       "      <td>0.0</td>\n",
       "    </tr>\n",
       "    <tr>\n",
       "      <th>13533</th>\n",
       "      <td>000000159</td>\n",
       "      <td>Statistical Office</td>\n",
       "      <td>NaN</td>\n",
       "      <td>https://slovak.statistics.sk/wps/portal/ext/ho...</td>\n",
       "      <td>5.0</td>\n",
       "      <td>0.0</td>\n",
       "      <td>0.0</td>\n",
       "      <td>https://slovak.statistics.sk/wps/portal/ext/se...</td>\n",
       "      <td>0.0</td>\n",
       "      <td>0.0</td>\n",
       "      <td>0.0</td>\n",
       "      <td>1.0</td>\n",
       "      <td>0.0</td>\n",
       "      <td>0.0</td>\n",
       "    </tr>\n",
       "    <tr>\n",
       "      <th>12532</th>\n",
       "      <td>000000116</td>\n",
       "      <td>Statistics Poland</td>\n",
       "      <td>NaN</td>\n",
       "      <td>https://www.worldometers.info/world-population...</td>\n",
       "      <td>6.0</td>\n",
       "      <td>0.0</td>\n",
       "      <td>0.0</td>\n",
       "      <td>https://www.worldometers.info/population/</td>\n",
       "      <td>0.0</td>\n",
       "      <td>0.0</td>\n",
       "      <td>0.0</td>\n",
       "      <td>0.0</td>\n",
       "      <td>0.0</td>\n",
       "      <td>0.0</td>\n",
       "    </tr>\n",
       "    <tr>\n",
       "      <th>4441</th>\n",
       "      <td>000000186</td>\n",
       "      <td>Croatian Bureau of Statistics</td>\n",
       "      <td>https://www.dzs.hr</td>\n",
       "      <td>https://tradingeconomics.com/croatia/wages</td>\n",
       "      <td>9.0</td>\n",
       "      <td>0.0</td>\n",
       "      <td>0.0</td>\n",
       "      <td>https://tradingeconomics.com/indicators</td>\n",
       "      <td>0.0</td>\n",
       "      <td>0.0</td>\n",
       "      <td>0.0</td>\n",
       "      <td>0.0</td>\n",
       "      <td>0.0</td>\n",
       "      <td>0.0</td>\n",
       "    </tr>\n",
       "  </tbody>\n",
       "</table>\n",
       "</div>"
      ],
      "text/plain": [
       "              ID                              Name                  URL  \\\n",
       "7893   000000121  National Institute of Statistics  http://www.insse.ro   \n",
       "4138   000000173          Statistics Faroe Islands  https://hagstova.fo   \n",
       "13533  000000159                Statistical Office                  NaN   \n",
       "12532  000000116                 Statistics Poland                  NaN   \n",
       "4441   000000186     Croatian Bureau of Statistics   https://www.dzs.hr   \n",
       "\n",
       "                                           Suggested URL  Link position  \\\n",
       "7893                               https://www.niss.org/            6.0   \n",
       "4138   https://www.cia.gov/library/publications/the-w...            5.0   \n",
       "13533  https://slovak.statistics.sk/wps/portal/ext/ho...            5.0   \n",
       "12532  https://www.worldometers.info/world-population...            6.0   \n",
       "4441          https://tradingeconomics.com/croatia/wages            9.0   \n",
       "\n",
       "       Has equal domain  Has Simple Suggested URL  \\\n",
       "7893                0.0                       1.0   \n",
       "4138                0.0                       0.0   \n",
       "13533               0.0                       0.0   \n",
       "12532               0.0                       0.0   \n",
       "4441                0.0                       0.0   \n",
       "\n",
       "                                           URL to scrape  Has Address  \\\n",
       "7893                 https://www.niss.org/annual-reports          0.0   \n",
       "4138                              https://www.cia.gov/ru          0.0   \n",
       "13533  https://slovak.statistics.sk/wps/portal/ext/se...          0.0   \n",
       "12532          https://www.worldometers.info/population/          0.0   \n",
       "4441             https://tradingeconomics.com/indicators          0.0   \n",
       "\n",
       "       Has Email  Has ID  Has Name  Has Phone  Has Populated place  \n",
       "7893         0.0     0.0       0.0        0.0                  0.0  \n",
       "4138         0.0     0.0       0.0        0.0                  0.0  \n",
       "13533        0.0     0.0       1.0        0.0                  0.0  \n",
       "12532        0.0     0.0       0.0        0.0                  0.0  \n",
       "4441         0.0     0.0       0.0        0.0                  0.0  "
      ]
     },
     "execution_count": 24,
     "metadata": {},
     "output_type": "execute_result"
    }
   ],
   "source": [
    "dfml[3].info(verbose=False)\n",
    "dfml[3].sample(5)"
   ]
  },
  {
   "cell_type": "markdown",
   "metadata": {},
   "source": [
    "### 4.4. Logistic Regression Model Fitting\n",
    "\n",
    "This is done by calling ***fit*** method of the ***URLsFinderMLLR*** class with the following optianal parameters:\n",
    "- **test_size** a decimal number between 0 and 1 for splitting the data frame on training and test sets (optional, default: 0.7)\n",
    "- **random_state** an integer to indicate a specific state of all possible states when dividing the data frame on training and test sets (to return the same result on testing the model > 0, on production when multiple states should be considered < 1) (optional, default: 0)\n",
    "- **solver** an algorithm to use in the optimization problem ('newton-cg', 'lbfgs', 'liblinear', 'sag', 'saga') (optional, default: 'lbfgs') (only the default is tested)\n",
    "- **max_iter** the maximum number of iterations taken for the solvers to converge (optional, default: 1000)\n",
    "\n",
    "The method selects only the highest **Score** from all unique **ID** form the **pandas dataframe object** and puts them in the ***Logistic Regression Model***.\n",
    "\n",
    "The method uses **Score** for the independent variables and **Known OBEC** or **Has equal domain**, when there is column Has equal domain, for the dependent variable of the ***Logistic Regression Model***.\n",
    "\n",
    "The method returns seven objects:\n",
    "- **0** independent variables training set\n",
    "- **1** independent variables test set\n",
    "- **2** dependent variable training set\n",
    "- **3** dependent variable test set\n",
    "- **4** dependent variable predicted test set results\n",
    "- **5** pandas dataframe object with independent variables\n",
    "- **6** Logistic Regression Model object"
   ]
  },
  {
   "cell_type": "code",
   "execution_count": 25,
   "metadata": {},
   "outputs": [
    {
     "data": {
      "text/markdown": [
       "**Dataframe Object for Training and Test:**"
      ],
      "text/plain": [
       "<IPython.core.display.Markdown object>"
      ]
     },
     "metadata": {},
     "output_type": "display_data"
    },
    {
     "name": "stdout",
     "output_type": "stream",
     "text": [
      "<class 'pandas.core.frame.DataFrame'>\n",
      "Int64Index: 205 entries, 5 to 1026\n",
      "Columns: 16 entries, ID to Score\n",
      "dtypes: float64(11), int64(1), object(4)\n",
      "memory usage: 27.2+ KB\n",
      "None\n"
     ]
    },
    {
     "data": {
      "text/markdown": [
       "**Logistic Regression Model                              Information:**"
      ],
      "text/plain": [
       "<IPython.core.display.Markdown object>"
      ]
     },
     "metadata": {},
     "output_type": "display_data"
    },
    {
     "name": "stdout",
     "output_type": "stream",
     "text": [
      "The training accuracy 0.77\n",
      "The testing accuracy: 0.76\n",
      "Precision: 0.85\n",
      "Recall: 0.35\n",
      "Average precision-recall score: 0.52\n"
     ]
    }
   ],
   "source": [
    "lr = ml.fit(test_size=0.7, random_state=2, max_iter=3333)"
   ]
  },
  {
   "cell_type": "markdown",
   "metadata": {},
   "source": [
    "#### 4.4.1. Independent variables training set (top 5)"
   ]
  },
  {
   "cell_type": "code",
   "execution_count": 26,
   "metadata": {},
   "outputs": [
    {
     "name": "stdout",
     "output_type": "stream",
     "text": [
      "<class 'pandas.core.frame.DataFrame'>\n",
      "Int64Index: 61 entries, 724 to 875\n",
      "Columns: 1 entries, Score to Score\n",
      "dtypes: float64(1)\n",
      "memory usage: 976.0 bytes\n"
     ]
    },
    {
     "data": {
      "text/html": [
       "<div>\n",
       "<style scoped>\n",
       "    .dataframe tbody tr th:only-of-type {\n",
       "        vertical-align: middle;\n",
       "    }\n",
       "\n",
       "    .dataframe tbody tr th {\n",
       "        vertical-align: top;\n",
       "    }\n",
       "\n",
       "    .dataframe thead th {\n",
       "        text-align: right;\n",
       "    }\n",
       "</style>\n",
       "<table border=\"1\" class=\"dataframe\">\n",
       "  <thead>\n",
       "    <tr style=\"text-align: right;\">\n",
       "      <th></th>\n",
       "      <th>Score</th>\n",
       "    </tr>\n",
       "  </thead>\n",
       "  <tbody>\n",
       "    <tr>\n",
       "      <th>724</th>\n",
       "      <td>3.80</td>\n",
       "    </tr>\n",
       "    <tr>\n",
       "      <th>385</th>\n",
       "      <td>1.00</td>\n",
       "    </tr>\n",
       "    <tr>\n",
       "      <th>825</th>\n",
       "      <td>3.96</td>\n",
       "    </tr>\n",
       "    <tr>\n",
       "      <th>150</th>\n",
       "      <td>4.00</td>\n",
       "    </tr>\n",
       "    <tr>\n",
       "      <th>180</th>\n",
       "      <td>5.00</td>\n",
       "    </tr>\n",
       "  </tbody>\n",
       "</table>\n",
       "</div>"
      ],
      "text/plain": [
       "     Score\n",
       "724   3.80\n",
       "385   1.00\n",
       "825   3.96\n",
       "150   4.00\n",
       "180   5.00"
      ]
     },
     "execution_count": 26,
     "metadata": {},
     "output_type": "execute_result"
    }
   ],
   "source": [
    "lr[0].info(verbose=False)\n",
    "lr[0].head(5)"
   ]
  },
  {
   "cell_type": "markdown",
   "metadata": {},
   "source": [
    "#### 4.4.2. Independent variables test set (top 5)"
   ]
  },
  {
   "cell_type": "code",
   "execution_count": 27,
   "metadata": {},
   "outputs": [
    {
     "name": "stdout",
     "output_type": "stream",
     "text": [
      "<class 'pandas.core.frame.DataFrame'>\n",
      "Int64Index: 144 entries, 146 to 215\n",
      "Columns: 1 entries, Score to Score\n",
      "dtypes: float64(1)\n",
      "memory usage: 2.2 KB\n"
     ]
    },
    {
     "data": {
      "text/html": [
       "<div>\n",
       "<style scoped>\n",
       "    .dataframe tbody tr th:only-of-type {\n",
       "        vertical-align: middle;\n",
       "    }\n",
       "\n",
       "    .dataframe tbody tr th {\n",
       "        vertical-align: top;\n",
       "    }\n",
       "\n",
       "    .dataframe thead th {\n",
       "        text-align: right;\n",
       "    }\n",
       "</style>\n",
       "<table border=\"1\" class=\"dataframe\">\n",
       "  <thead>\n",
       "    <tr style=\"text-align: right;\">\n",
       "      <th></th>\n",
       "      <th>Score</th>\n",
       "    </tr>\n",
       "  </thead>\n",
       "  <tbody>\n",
       "    <tr>\n",
       "      <th>146</th>\n",
       "      <td>3.00</td>\n",
       "    </tr>\n",
       "    <tr>\n",
       "      <th>425</th>\n",
       "      <td>5.76</td>\n",
       "    </tr>\n",
       "    <tr>\n",
       "      <th>531</th>\n",
       "      <td>3.00</td>\n",
       "    </tr>\n",
       "    <tr>\n",
       "      <th>54</th>\n",
       "      <td>1.92</td>\n",
       "    </tr>\n",
       "    <tr>\n",
       "      <th>1006</th>\n",
       "      <td>2.94</td>\n",
       "    </tr>\n",
       "  </tbody>\n",
       "</table>\n",
       "</div>"
      ],
      "text/plain": [
       "      Score\n",
       "146    3.00\n",
       "425    5.76\n",
       "531    3.00\n",
       "54     1.92\n",
       "1006   2.94"
      ]
     },
     "execution_count": 27,
     "metadata": {},
     "output_type": "execute_result"
    }
   ],
   "source": [
    "lr[1].info(verbose=False)\n",
    "lr[1].head(5)"
   ]
  },
  {
   "cell_type": "markdown",
   "metadata": {},
   "source": [
    "#### 4.4.3. Dependent variable training set (top 5)"
   ]
  },
  {
   "cell_type": "code",
   "execution_count": 28,
   "metadata": {},
   "outputs": [
    {
     "data": {
      "text/plain": [
       "724    0.0\n",
       "385    0.0\n",
       "825    1.0\n",
       "150    1.0\n",
       "180    1.0\n",
       "Name: Has equal domain, dtype: float64"
      ]
     },
     "execution_count": 28,
     "metadata": {},
     "output_type": "execute_result"
    }
   ],
   "source": [
    "lr[2].head(5)"
   ]
  },
  {
   "cell_type": "markdown",
   "metadata": {},
   "source": [
    "#### 4.4.4. Dependent variable test set (top 5)"
   ]
  },
  {
   "cell_type": "code",
   "execution_count": 29,
   "metadata": {},
   "outputs": [
    {
     "data": {
      "text/plain": [
       "146     1.0\n",
       "425     1.0\n",
       "531     0.0\n",
       "54      0.0\n",
       "1006    1.0\n",
       "Name: Has equal domain, dtype: float64"
      ]
     },
     "execution_count": 29,
     "metadata": {},
     "output_type": "execute_result"
    }
   ],
   "source": [
    "lr[3].head(5)"
   ]
  },
  {
   "cell_type": "markdown",
   "metadata": {},
   "source": [
    "#### 4.4.5. Dependent variable predicted test set results (top 5)"
   ]
  },
  {
   "cell_type": "code",
   "execution_count": 30,
   "metadata": {},
   "outputs": [
    {
     "data": {
      "text/plain": [
       "array([0., 1., 0., 0., 0., 0., 0., 1., 0., 0., 0., 0., 0., 0., 0., 1., 0.,\n",
       "       0., 0., 0., 0., 0., 0., 0., 0., 0., 0., 0., 0., 1., 0., 0., 0., 0.,\n",
       "       1., 0., 0., 0., 0., 0., 1., 1., 0., 0., 0., 1., 0., 0., 0., 0., 1.,\n",
       "       0., 0., 0., 1., 0., 0., 0., 0., 1., 0., 1., 0., 0., 0., 0., 0., 0.,\n",
       "       0., 0., 0., 0., 0., 0., 0., 0., 1., 0., 0., 0., 0., 0., 0., 1., 0.,\n",
       "       0., 0., 0., 0., 0., 0., 0., 0., 0., 0., 0., 0., 0., 0., 0., 1., 0.,\n",
       "       0., 0., 0., 0., 0., 0., 0., 0., 0., 1., 1., 0., 0., 0., 0., 1., 0.,\n",
       "       0., 1., 0., 0., 0., 0., 0., 0., 0., 0., 0., 0., 0., 0., 0., 0., 0.,\n",
       "       0., 1., 0., 0., 0., 0., 0., 0.])"
      ]
     },
     "execution_count": 30,
     "metadata": {},
     "output_type": "execute_result"
    }
   ],
   "source": [
    "lr[4]"
   ]
  },
  {
   "cell_type": "markdown",
   "metadata": {},
   "source": [
    "#### 4.4.6. Pandas dataframe object with independent variables (top 5)"
   ]
  },
  {
   "cell_type": "code",
   "execution_count": 31,
   "metadata": {},
   "outputs": [
    {
     "name": "stdout",
     "output_type": "stream",
     "text": [
      "<class 'pandas.core.frame.DataFrame'>\n",
      "Int64Index: 205 entries, 5 to 1026\n",
      "Columns: 1 entries, Score to Score\n",
      "dtypes: float64(1)\n",
      "memory usage: 3.2 KB\n"
     ]
    },
    {
     "data": {
      "text/html": [
       "<div>\n",
       "<style scoped>\n",
       "    .dataframe tbody tr th:only-of-type {\n",
       "        vertical-align: middle;\n",
       "    }\n",
       "\n",
       "    .dataframe tbody tr th {\n",
       "        vertical-align: top;\n",
       "    }\n",
       "\n",
       "    .dataframe thead th {\n",
       "        text-align: right;\n",
       "    }\n",
       "</style>\n",
       "<table border=\"1\" class=\"dataframe\">\n",
       "  <thead>\n",
       "    <tr style=\"text-align: right;\">\n",
       "      <th></th>\n",
       "      <th>Score</th>\n",
       "    </tr>\n",
       "  </thead>\n",
       "  <tbody>\n",
       "    <tr>\n",
       "      <th>5</th>\n",
       "      <td>3.84</td>\n",
       "    </tr>\n",
       "    <tr>\n",
       "      <th>7</th>\n",
       "      <td>6.00</td>\n",
       "    </tr>\n",
       "    <tr>\n",
       "      <th>13</th>\n",
       "      <td>6.00</td>\n",
       "    </tr>\n",
       "    <tr>\n",
       "      <th>19</th>\n",
       "      <td>5.00</td>\n",
       "    </tr>\n",
       "    <tr>\n",
       "      <th>25</th>\n",
       "      <td>5.00</td>\n",
       "    </tr>\n",
       "  </tbody>\n",
       "</table>\n",
       "</div>"
      ],
      "text/plain": [
       "    Score\n",
       "5    3.84\n",
       "7    6.00\n",
       "13   6.00\n",
       "19   5.00\n",
       "25   5.00"
      ]
     },
     "execution_count": 31,
     "metadata": {},
     "output_type": "execute_result"
    }
   ],
   "source": [
    "lr[5].info(verbose=False)\n",
    "lr[5].head(5)"
   ]
  },
  {
   "cell_type": "markdown",
   "metadata": {},
   "source": [
    "#### 4.4.7. Logistic Regression Model object"
   ]
  },
  {
   "cell_type": "code",
   "execution_count": 32,
   "metadata": {},
   "outputs": [
    {
     "data": {
      "text/plain": [
       "LogisticRegression(C=1.0, class_weight=None, dual=False, fit_intercept=True,\n",
       "          intercept_scaling=1, max_iter=3333, multi_class='warn',\n",
       "          n_jobs=None, penalty='l2', random_state=None, solver='lbfgs',\n",
       "          tol=0.0001, verbose=0, warm_start=False)"
      ]
     },
     "execution_count": 32,
     "metadata": {},
     "output_type": "execute_result"
    }
   ],
   "source": [
    "lr[6]"
   ]
  },
  {
   "cell_type": "markdown",
   "metadata": {},
   "source": [
    "### 4.5. Displaying Confusion Matrix\n",
    "\n",
    "This is done by calling ***confusion_matrix*** method of the ***URLsFinderMLLR*** class with the following parameters:\n",
    "- **3** dependent variable test set\n",
    "- **4** dependent variable predicted test set results"
   ]
  },
  {
   "cell_type": "code",
   "execution_count": 33,
   "metadata": {},
   "outputs": [
    {
     "data": {
      "image/png": "[encoded data removed]",
      "text/plain": [
       "<Figure size 432x288 with 2 Axes>"
      ]
     },
     "metadata": {
      "needs_background": "light"
     },
     "output_type": "display_data"
    }
   ],
   "source": [
    "ml.confusion_matrix(lr[3],lr[4])"
   ]
  },
  {
   "cell_type": "markdown",
   "metadata": {},
   "source": [
    "### 4.6. Display Confusion Matrix Information\n",
    "\n",
    "This is done by calling ***confusion_matrix_information*** method of the ***URLsFinderMLLR*** class with the following parameters:\n",
    "- **3** dependent variable test set\n",
    "- **4** dependent variable predicted test set results"
   ]
  },
  {
   "cell_type": "code",
   "execution_count": 34,
   "metadata": {},
   "outputs": [
    {
     "data": {
      "text/markdown": [
       "**Confusion Matrix Information:**"
      ],
      "text/plain": [
       "<IPython.core.display.Markdown object>"
      ]
     },
     "metadata": {},
     "output_type": "display_data"
    },
    {
     "name": "stdout",
     "output_type": "stream",
     "text": [
      "OBEC URLs that are predicted as False and we do not know (True Negatives): 93\n",
      "OBEC URLs that are predicted as False and we do know (False Negatives): 31\n",
      "OBEC URLs that are predicted as True and we do not know (False Positives): 3\n",
      "OBEC URLs that are predicted as True and we do know (True Positives): 17\n",
      "Accuracy = (TP+TN)/(TP+TN+FP+FN): 0.76\n",
      "Precision = TP/(TP+FP): 0.85\n",
      "Recall = TP/(TP+FN): 0.35\n",
      "Specificity = TN/(TN+FP): 0.97\n",
      "F1 Score = 2*TP/(2*TP+FP+FN): 0.5\n",
      "MCC = (TP*TN-FP*FN)/math.sqrt((TP+FP)*(TP+FN)*(TN+FP)*(TN+FN)): 0.44\n"
     ]
    },
    {
     "data": {
      "text/markdown": [
       "**Confusion Matrix Explanations:**"
      ],
      "text/plain": [
       "<IPython.core.display.Markdown object>"
      ]
     },
     "metadata": {},
     "output_type": "display_data"
    },
    {
     "name": "stdout",
     "output_type": "stream",
     "text": [
      "Accuracy - This is simply equal to the proportion of predictions that the model classified correctly.\n",
      "Precision - Precision is also known as positive predictive value and is the proportion of relevant instances among the retrieved instances. In other words, it answers the question \"What proportion of positive identifications was actually correct?\".\n",
      "Recall - Recall, also known as the sensitivity, hit rate, or the true positive rate (TPR), is the proportion of the total amount of relevant instances that were actually retrieved. It answers the question \"What proportion of actual positives was identified correctly?\".\n",
      "Specificity - Specificity, also known as the true negative rate (TNR), measures the proportion of actual negatives that are correctly identified as such. It is the opposite of recall.\n",
      "F1 Score - The F1 score is a measure of a test's accuracy — it is the harmonic mean of precision and recall. It can have a maximum score of 1 (perfect precision and recall) and a minimum of 0. Overall, it is a measure of the preciseness and robustness of your model.\n",
      "Matthews correlation coefficient (MCC) - The MCC is in essence a correlation coefficient between the observed and predicted binary classifications; it returns a value between -1 and +1. A coefficient of +1 represents a perfect prediction, 0 no better than random prediction and -1 indicates total disagreement between prediction and observation. The statistic is also known as the phi coefficient. MCC is related to the chi-square statistic for a 2x2 contingency table.\n"
     ]
    }
   ],
   "source": [
    "ml.confusion_matrix_information(lr[3], lr[4])"
   ]
  },
  {
   "cell_type": "markdown",
   "metadata": {},
   "source": [
    "### 4.7. Display Classification Report\n",
    "\n",
    "This is done by calling ***classification_report*** method of the ***URLsFinderMLLR*** class with the following parameters:\n",
    "- **3** dependent variable test set\n",
    "- **4** dependent variable predicted test set results"
   ]
  },
  {
   "cell_type": "code",
   "execution_count": 35,
   "metadata": {},
   "outputs": [
    {
     "data": {
      "text/markdown": [
       "**Classification Report:**"
      ],
      "text/plain": [
       "<IPython.core.display.Markdown object>"
      ]
     },
     "metadata": {},
     "output_type": "display_data"
    },
    {
     "name": "stdout",
     "output_type": "stream",
     "text": [
      "              precision    recall  f1-score   support\n",
      "\n",
      "         0.0       0.75      0.97      0.85        96\n",
      "         1.0       0.85      0.35      0.50        48\n",
      "\n",
      "   micro avg       0.76      0.76      0.76       144\n",
      "   macro avg       0.80      0.66      0.67       144\n",
      "weighted avg       0.78      0.76      0.73       144\n",
      "\n"
     ]
    }
   ],
   "source": [
    "ml.classification_report(lr[3], lr[4])"
   ]
  },
  {
   "cell_type": "markdown",
   "metadata": {},
   "source": [
    "### 4.8. Display ROC Curve\n",
    "\n",
    "This is done by calling ***roc_curve*** method of the ***URLsFinderMLLR*** class with the following parameters:\n",
    "- **1** independent variables test set\n",
    "- **3** dependent variable test set\n",
    "- **4** dependent variable predicted test set results\n",
    "- **6** Logistic Regression Model object"
   ]
  },
  {
   "cell_type": "code",
   "execution_count": 36,
   "metadata": {},
   "outputs": [
    {
     "data": {
      "image/png": "[encoded data removed]",
      "text/plain": [
       "<Figure size 432x288 with 1 Axes>"
      ]
     },
     "metadata": {
      "needs_background": "light"
     },
     "output_type": "display_data"
    }
   ],
   "source": [
    "ml.roc_curve(lr[1], lr[3], lr[4], lr[6])"
   ]
  },
  {
   "cell_type": "markdown",
   "metadata": {},
   "source": [
    "### 4.9. Predict URLs\n",
    "\n",
    "This is done by calling ***predict*** method of the ***URLsFinderMLLR*** class with the following parameters:\n",
    "- **6** Logistic Regression Model object\n",
    "\n",
    "The method predicts the probability from 0 to 1 the Suggested URL to be enterprise url we are looking for according to our machin learning logistic regerssion model. If the probability is greater then 0.5 the method returns 1 for column predict else it returns 0. The method saves the results in a csv file by the name in variable **obec_file** with ending **\\_ml\\_lr\\_predict** in directory in variable **machin_learning_path**.\n",
    "\n",
    "The method returns pandas dataframe object with the predicted results."
   ]
  },
  {
   "cell_type": "code",
   "execution_count": 37,
   "metadata": {},
   "outputs": [
    {
     "name": "stdout",
     "output_type": "stream",
     "text": [
      "<class 'pandas.core.frame.DataFrame'>\n",
      "Int64Index: 1030 entries, 0 to 1029\n",
      "Columns: 13 entries, ID to 1\n",
      "dtypes: float64(8), int64(1), object(4)\n",
      "memory usage: 112.7+ KB\n"
     ]
    },
    {
     "data": {
      "text/html": [
       "<div>\n",
       "<style scoped>\n",
       "    .dataframe tbody tr th:only-of-type {\n",
       "        vertical-align: middle;\n",
       "    }\n",
       "\n",
       "    .dataframe tbody tr th {\n",
       "        vertical-align: top;\n",
       "    }\n",
       "\n",
       "    .dataframe thead th {\n",
       "        text-align: right;\n",
       "    }\n",
       "</style>\n",
       "<table border=\"1\" class=\"dataframe\">\n",
       "  <thead>\n",
       "    <tr style=\"text-align: right;\">\n",
       "      <th></th>\n",
       "      <th>ID</th>\n",
       "      <th>Name</th>\n",
       "      <th>Suggested URL</th>\n",
       "      <th>Link position</th>\n",
       "      <th>Has equal domain</th>\n",
       "      <th>Has Simple Suggested URL</th>\n",
       "      <th>OBEC</th>\n",
       "      <th>Known OBEC</th>\n",
       "      <th>sum</th>\n",
       "      <th>Score</th>\n",
       "      <th>predict</th>\n",
       "      <th>0</th>\n",
       "      <th>1</th>\n",
       "    </tr>\n",
       "  </thead>\n",
       "  <tbody>\n",
       "    <tr>\n",
       "      <th>0</th>\n",
       "      <td>000000000</td>\n",
       "      <td>National Statistical Institute</td>\n",
       "      <td>https://ine.es/en/</td>\n",
       "      <td>5.0</td>\n",
       "      <td>0.0</td>\n",
       "      <td>1.0</td>\n",
       "      <td>NaN</td>\n",
       "      <td>0</td>\n",
       "      <td>1.0</td>\n",
       "      <td>0.95</td>\n",
       "      <td>0.0</td>\n",
       "      <td>0.975614</td>\n",
       "      <td>0.024386</td>\n",
       "    </tr>\n",
       "    <tr>\n",
       "      <th>1</th>\n",
       "      <td>000000000</td>\n",
       "      <td>National Statistical Institute</td>\n",
       "      <td>https://insse.ro/cms/en</td>\n",
       "      <td>1.0</td>\n",
       "      <td>0.0</td>\n",
       "      <td>0.0</td>\n",
       "      <td>NaN</td>\n",
       "      <td>0</td>\n",
       "      <td>1.0</td>\n",
       "      <td>0.99</td>\n",
       "      <td>0.0</td>\n",
       "      <td>0.974735</td>\n",
       "      <td>0.025265</td>\n",
       "    </tr>\n",
       "    <tr>\n",
       "      <th>2</th>\n",
       "      <td>000000000</td>\n",
       "      <td>National Statistical Institute</td>\n",
       "      <td>https://nis.gov.kh/</td>\n",
       "      <td>9.0</td>\n",
       "      <td>0.0</td>\n",
       "      <td>1.0</td>\n",
       "      <td>NaN</td>\n",
       "      <td>0</td>\n",
       "      <td>1.0</td>\n",
       "      <td>0.91</td>\n",
       "      <td>0.0</td>\n",
       "      <td>0.976464</td>\n",
       "      <td>0.023536</td>\n",
       "    </tr>\n",
       "    <tr>\n",
       "      <th>3</th>\n",
       "      <td>000000000</td>\n",
       "      <td>National Statistical Institute</td>\n",
       "      <td>https://www.istat.it/en/</td>\n",
       "      <td>7.0</td>\n",
       "      <td>0.0</td>\n",
       "      <td>1.0</td>\n",
       "      <td>NaN</td>\n",
       "      <td>0</td>\n",
       "      <td>1.0</td>\n",
       "      <td>0.93</td>\n",
       "      <td>0.0</td>\n",
       "      <td>0.976043</td>\n",
       "      <td>0.023957</td>\n",
       "    </tr>\n",
       "    <tr>\n",
       "      <th>4</th>\n",
       "      <td>000000000</td>\n",
       "      <td>National Statistical Institute</td>\n",
       "      <td>https://www.niss.org/</td>\n",
       "      <td>0.0</td>\n",
       "      <td>0.0</td>\n",
       "      <td>1.0</td>\n",
       "      <td>NaN</td>\n",
       "      <td>0</td>\n",
       "      <td>1.0</td>\n",
       "      <td>1.00</td>\n",
       "      <td>0.0</td>\n",
       "      <td>0.974510</td>\n",
       "      <td>0.025490</td>\n",
       "    </tr>\n",
       "  </tbody>\n",
       "</table>\n",
       "</div>"
      ],
      "text/plain": [
       "          ID                            Name             Suggested URL  \\\n",
       "0  000000000  National Statistical Institute        https://ine.es/en/   \n",
       "1  000000000  National Statistical Institute   https://insse.ro/cms/en   \n",
       "2  000000000  National Statistical Institute       https://nis.gov.kh/   \n",
       "3  000000000  National Statistical Institute  https://www.istat.it/en/   \n",
       "4  000000000  National Statistical Institute     https://www.niss.org/   \n",
       "\n",
       "   Link position  Has equal domain  Has Simple Suggested URL OBEC  Known OBEC  \\\n",
       "0            5.0               0.0                       1.0  NaN           0   \n",
       "1            1.0               0.0                       0.0  NaN           0   \n",
       "2            9.0               0.0                       1.0  NaN           0   \n",
       "3            7.0               0.0                       1.0  NaN           0   \n",
       "4            0.0               0.0                       1.0  NaN           0   \n",
       "\n",
       "   sum  Score  predict         0         1  \n",
       "0  1.0   0.95      0.0  0.975614  0.024386  \n",
       "1  1.0   0.99      0.0  0.974735  0.025265  \n",
       "2  1.0   0.91      0.0  0.976464  0.023536  \n",
       "3  1.0   0.93      0.0  0.976043  0.023957  \n",
       "4  1.0   1.00      0.0  0.974510  0.025490  "
      ]
     },
     "execution_count": 37,
     "metadata": {},
     "output_type": "execute_result"
    }
   ],
   "source": [
    "dfp = ml.predict(lr[6])\n",
    "dfp.info(verbose=False)\n",
    "dfp.head(5)"
   ]
  },
  {
   "cell_type": "markdown",
   "metadata": {},
   "source": [
    "### 4.10. Drop duplicates from predicted results\n",
    "\n",
    "This is done by calling ***drop_duplicates*** method of the ***URLsFinderMLLR*** class with the following parameters:\n",
    "- **predicted results** pandas dataframe object from the previous step\n",
    "\n",
    "The method removes duplicated predictions by columns ID, Link position, OBEC, Suggested URL and predict and keeps only the first occurrence sorted by highest probability.\n",
    "\n",
    "The method returns pandas dataframe object with the predicted results."
   ]
  },
  {
   "cell_type": "code",
   "execution_count": 38,
   "metadata": {},
   "outputs": [
    {
     "name": "stdout",
     "output_type": "stream",
     "text": [
      "<class 'pandas.core.frame.DataFrame'>\n",
      "Int64Index: 1030 entries, 213 to 551\n",
      "Columns: 13 entries, ID to 1\n",
      "dtypes: float64(8), int64(1), object(4)\n",
      "memory usage: 112.7+ KB\n"
     ]
    },
    {
     "data": {
      "text/html": [
       "<div>\n",
       "<style scoped>\n",
       "    .dataframe tbody tr th:only-of-type {\n",
       "        vertical-align: middle;\n",
       "    }\n",
       "\n",
       "    .dataframe tbody tr th {\n",
       "        vertical-align: top;\n",
       "    }\n",
       "\n",
       "    .dataframe thead th {\n",
       "        text-align: right;\n",
       "    }\n",
       "</style>\n",
       "<table border=\"1\" class=\"dataframe\">\n",
       "  <thead>\n",
       "    <tr style=\"text-align: right;\">\n",
       "      <th></th>\n",
       "      <th>ID</th>\n",
       "      <th>Name</th>\n",
       "      <th>Suggested URL</th>\n",
       "      <th>Link position</th>\n",
       "      <th>Has equal domain</th>\n",
       "      <th>Has Simple Suggested URL</th>\n",
       "      <th>OBEC</th>\n",
       "      <th>Known OBEC</th>\n",
       "      <th>sum</th>\n",
       "      <th>Score</th>\n",
       "      <th>predict</th>\n",
       "      <th>0</th>\n",
       "      <th>1</th>\n",
       "    </tr>\n",
       "  </thead>\n",
       "  <tbody>\n",
       "    <tr>\n",
       "      <th>213</th>\n",
       "      <td>000000039</td>\n",
       "      <td>Statistics Denmark</td>\n",
       "      <td>https://www.worldometers.info/world-population...</td>\n",
       "      <td>9.0</td>\n",
       "      <td>0.0</td>\n",
       "      <td>0.0</td>\n",
       "      <td>NaN</td>\n",
       "      <td>0</td>\n",
       "      <td>0.0</td>\n",
       "      <td>0.00</td>\n",
       "      <td>1.0</td>\n",
       "      <td>0.141163</td>\n",
       "      <td>0.858837</td>\n",
       "    </tr>\n",
       "    <tr>\n",
       "      <th>385</th>\n",
       "      <td>000000078</td>\n",
       "      <td>Office of Statistics</td>\n",
       "      <td>https://www.ons.gov.uk/</td>\n",
       "      <td>0.0</td>\n",
       "      <td>0.0</td>\n",
       "      <td>1.0</td>\n",
       "      <td>NaN</td>\n",
       "      <td>0</td>\n",
       "      <td>1.0</td>\n",
       "      <td>1.00</td>\n",
       "      <td>1.0</td>\n",
       "      <td>0.141163</td>\n",
       "      <td>0.858837</td>\n",
       "    </tr>\n",
       "    <tr>\n",
       "      <th>246</th>\n",
       "      <td>000000046</td>\n",
       "      <td>Central Statistics Office</td>\n",
       "      <td>https://cso.gov.tt/</td>\n",
       "      <td>3.0</td>\n",
       "      <td>0.0</td>\n",
       "      <td>1.0</td>\n",
       "      <td>https://www.cso.ie</td>\n",
       "      <td>1</td>\n",
       "      <td>1.0</td>\n",
       "      <td>0.97</td>\n",
       "      <td>1.0</td>\n",
       "      <td>0.141163</td>\n",
       "      <td>0.858837</td>\n",
       "    </tr>\n",
       "    <tr>\n",
       "      <th>261</th>\n",
       "      <td>000000049</td>\n",
       "      <td>Statistics Iceland</td>\n",
       "      <td>https://www.statista.com/topics/3079/iceland/</td>\n",
       "      <td>3.0</td>\n",
       "      <td>0.0</td>\n",
       "      <td>0.0</td>\n",
       "      <td>NaN</td>\n",
       "      <td>0</td>\n",
       "      <td>0.0</td>\n",
       "      <td>0.00</td>\n",
       "      <td>1.0</td>\n",
       "      <td>0.141163</td>\n",
       "      <td>0.858837</td>\n",
       "    </tr>\n",
       "    <tr>\n",
       "      <th>357</th>\n",
       "      <td>000000069</td>\n",
       "      <td>Central Statistical Bureau</td>\n",
       "      <td>https://www.csb.gov.kw/Default_EN</td>\n",
       "      <td>2.0</td>\n",
       "      <td>0.0</td>\n",
       "      <td>0.0</td>\n",
       "      <td>NaN</td>\n",
       "      <td>0</td>\n",
       "      <td>1.0</td>\n",
       "      <td>0.98</td>\n",
       "      <td>1.0</td>\n",
       "      <td>0.289577</td>\n",
       "      <td>0.710423</td>\n",
       "    </tr>\n",
       "  </tbody>\n",
       "</table>\n",
       "</div>"
      ],
      "text/plain": [
       "            ID                        Name  \\\n",
       "213  000000039          Statistics Denmark   \n",
       "385  000000078        Office of Statistics   \n",
       "246  000000046   Central Statistics Office   \n",
       "261  000000049          Statistics Iceland   \n",
       "357  000000069  Central Statistical Bureau   \n",
       "\n",
       "                                         Suggested URL  Link position  \\\n",
       "213  https://www.worldometers.info/world-population...            9.0   \n",
       "385                            https://www.ons.gov.uk/            0.0   \n",
       "246                                https://cso.gov.tt/            3.0   \n",
       "261      https://www.statista.com/topics/3079/iceland/            3.0   \n",
       "357                  https://www.csb.gov.kw/Default_EN            2.0   \n",
       "\n",
       "     Has equal domain  Has Simple Suggested URL                OBEC  \\\n",
       "213               0.0                       0.0                 NaN   \n",
       "385               0.0                       1.0                 NaN   \n",
       "246               0.0                       1.0  https://www.cso.ie   \n",
       "261               0.0                       0.0                 NaN   \n",
       "357               0.0                       0.0                 NaN   \n",
       "\n",
       "     Known OBEC  sum  Score  predict         0         1  \n",
       "213           0  0.0   0.00      1.0  0.141163  0.858837  \n",
       "385           0  1.0   1.00      1.0  0.141163  0.858837  \n",
       "246           1  1.0   0.97      1.0  0.141163  0.858837  \n",
       "261           0  0.0   0.00      1.0  0.141163  0.858837  \n",
       "357           0  1.0   0.98      1.0  0.289577  0.710423  "
      ]
     },
     "execution_count": 38,
     "metadata": {},
     "output_type": "execute_result"
    }
   ],
   "source": [
    "dfpdd = ml.drop_duplicates(dfp)\n",
    "dfpdd.info(verbose=False)\n",
    "dfpdd.head(5)"
   ]
  },
  {
   "cell_type": "markdown",
   "metadata": {},
   "source": [
    "### 4.11. Return results for entserprises URLs\n",
    "\n",
    "This is done by calling ***results*** method of the ***URLsFinderMLLR*** class with the following parameters:\n",
    "- **predicted results** pandas dataframe object from the previous step with removed duplicates\n",
    "\n",
    "The method sorts the results by ID, Link position (as suggested by search engine) and highest probability and keeps only the first result for each ID.\n",
    "\n",
    "The method returns pandas dataframe objects with the results and saves then in csv files by the name in variable **obec_file** in directory in variable **machin_learning_path** with different endings as follow:\n",
    "\n",
    "- **0** Result \\- the result from previous operation of this method saved with ending __\\_ml\\_lr\\_result__\n",
    "- **1** Known URLs \\- columns predict and Known OBEC equals 1 saved with ending __\\_ml\\_lr\\_result\\_known__\n",
    "- **2** Revise URLs \\- column predict equals 0 and column Known OBEC equals 1 saved with ending __\\_ml\\_lr\\_result\\_revise__\n",
    "- **3** New URLs \\- column predict equals 1 and column Known OBEC equals 0 saved with ending __\\_ml\\_lr\\_result\\_new__\n",
    "- **4** Known URLs first \\- removed duplicates by columns ID, Known OBEC and predict with keeping first from result Known and saved with ending __\\_ml\\_lr\\_result\\_known\\_first__\n",
    "- **5** Known URLs multiple \\- removed duplicates by columns ID, Known OBEC, predict and Link position with keeping first from result Known and saved with ending __\\_ml\\_lr\\_result\\_known\\_multiple__\n",
    "- **6** Revise URLs first \\- removed duplicates by columns ID, Known OBEC and predict with keeping first from result Revise and saved with ending __\\_ml\\_lr\\_result\\_revise\\_first__\n",
    "- **7** Revise URLs multiple \\- removed duplicates by columns ID, Known OBEC, predict and Link position with keeping first from result Revise and saved with ending __\\_ml\\_lr\\_result\\_revise\\_multiple__\n",
    "- **8** New URLs multiple \\- removed duplicates by columns ID, Known OBEC, predict and Link position with keeping first from result New and saved with ending __\\_ml\\_lr\\_result\\_new\\_multiple__"
   ]
  },
  {
   "cell_type": "code",
   "execution_count": 39,
   "metadata": {},
   "outputs": [],
   "source": [
    "dfpr = ml.results(dfpdd)"
   ]
  },
  {
   "cell_type": "markdown",
   "metadata": {},
   "source": [
    "#### 4.11.1. Result (top 5)"
   ]
  },
  {
   "cell_type": "code",
   "execution_count": 40,
   "metadata": {},
   "outputs": [
    {
     "name": "stdout",
     "output_type": "stream",
     "text": [
      "<class 'pandas.core.frame.DataFrame'>\n",
      "Int64Index: 131 entries, 7 to 1026\n",
      "Columns: 13 entries, ID to 1\n",
      "dtypes: float64(8), int64(1), object(4)\n",
      "memory usage: 14.3+ KB\n"
     ]
    },
    {
     "data": {
      "text/html": [
       "<div>\n",
       "<style scoped>\n",
       "    .dataframe tbody tr th:only-of-type {\n",
       "        vertical-align: middle;\n",
       "    }\n",
       "\n",
       "    .dataframe tbody tr th {\n",
       "        vertical-align: top;\n",
       "    }\n",
       "\n",
       "    .dataframe thead th {\n",
       "        text-align: right;\n",
       "    }\n",
       "</style>\n",
       "<table border=\"1\" class=\"dataframe\">\n",
       "  <thead>\n",
       "    <tr style=\"text-align: right;\">\n",
       "      <th></th>\n",
       "      <th>ID</th>\n",
       "      <th>Name</th>\n",
       "      <th>Suggested URL</th>\n",
       "      <th>Link position</th>\n",
       "      <th>Has equal domain</th>\n",
       "      <th>Has Simple Suggested URL</th>\n",
       "      <th>OBEC</th>\n",
       "      <th>Known OBEC</th>\n",
       "      <th>sum</th>\n",
       "      <th>Score</th>\n",
       "      <th>predict</th>\n",
       "      <th>0</th>\n",
       "      <th>1</th>\n",
       "    </tr>\n",
       "  </thead>\n",
       "  <tbody>\n",
       "    <tr>\n",
       "      <th>7</th>\n",
       "      <td>000000001</td>\n",
       "      <td>STATISTIK AUSTRIA</td>\n",
       "      <td>http://statistik.at/</td>\n",
       "      <td>0.0</td>\n",
       "      <td>0.0</td>\n",
       "      <td>1.0</td>\n",
       "      <td>http://www.statistik.at</td>\n",
       "      <td>1</td>\n",
       "      <td>6.0</td>\n",
       "      <td>6.00</td>\n",
       "      <td>1.0</td>\n",
       "      <td>0.289577</td>\n",
       "      <td>0.710423</td>\n",
       "    </tr>\n",
       "    <tr>\n",
       "      <th>13</th>\n",
       "      <td>000000002</td>\n",
       "      <td>STATISTIK AUSTRIA</td>\n",
       "      <td>http://statistik.at/</td>\n",
       "      <td>0.0</td>\n",
       "      <td>0.0</td>\n",
       "      <td>1.0</td>\n",
       "      <td>NaN</td>\n",
       "      <td>0</td>\n",
       "      <td>6.0</td>\n",
       "      <td>6.00</td>\n",
       "      <td>1.0</td>\n",
       "      <td>0.289577</td>\n",
       "      <td>0.710423</td>\n",
       "    </tr>\n",
       "    <tr>\n",
       "      <th>37</th>\n",
       "      <td>000000006</td>\n",
       "      <td>Institute of Statistics</td>\n",
       "      <td>https://insse.ro/cms/en</td>\n",
       "      <td>3.0</td>\n",
       "      <td>0.0</td>\n",
       "      <td>0.0</td>\n",
       "      <td>http://www.instat.gov.al</td>\n",
       "      <td>1</td>\n",
       "      <td>1.0</td>\n",
       "      <td>0.97</td>\n",
       "      <td>0.0</td>\n",
       "      <td>0.975179</td>\n",
       "      <td>0.024821</td>\n",
       "    </tr>\n",
       "    <tr>\n",
       "      <th>45</th>\n",
       "      <td>000000008</td>\n",
       "      <td>Institute of Statistics</td>\n",
       "      <td>https://insse.ro/cms/en</td>\n",
       "      <td>3.0</td>\n",
       "      <td>0.0</td>\n",
       "      <td>0.0</td>\n",
       "      <td>http://www.instat.gov.al</td>\n",
       "      <td>1</td>\n",
       "      <td>1.0</td>\n",
       "      <td>0.97</td>\n",
       "      <td>0.0</td>\n",
       "      <td>0.975179</td>\n",
       "      <td>0.024821</td>\n",
       "    </tr>\n",
       "    <tr>\n",
       "      <th>49</th>\n",
       "      <td>000000009</td>\n",
       "      <td>Institute of Statistics</td>\n",
       "      <td>https://insse.ro/cms/en</td>\n",
       "      <td>3.0</td>\n",
       "      <td>0.0</td>\n",
       "      <td>0.0</td>\n",
       "      <td>http://www.instat.gov.al</td>\n",
       "      <td>1</td>\n",
       "      <td>1.0</td>\n",
       "      <td>0.97</td>\n",
       "      <td>0.0</td>\n",
       "      <td>0.975179</td>\n",
       "      <td>0.024821</td>\n",
       "    </tr>\n",
       "  </tbody>\n",
       "</table>\n",
       "</div>"
      ],
      "text/plain": [
       "           ID                     Name            Suggested URL  \\\n",
       "7   000000001        STATISTIK AUSTRIA     http://statistik.at/   \n",
       "13  000000002        STATISTIK AUSTRIA     http://statistik.at/   \n",
       "37  000000006  Institute of Statistics  https://insse.ro/cms/en   \n",
       "45  000000008  Institute of Statistics  https://insse.ro/cms/en   \n",
       "49  000000009  Institute of Statistics  https://insse.ro/cms/en   \n",
       "\n",
       "    Link position  Has equal domain  Has Simple Suggested URL  \\\n",
       "7             0.0               0.0                       1.0   \n",
       "13            0.0               0.0                       1.0   \n",
       "37            3.0               0.0                       0.0   \n",
       "45            3.0               0.0                       0.0   \n",
       "49            3.0               0.0                       0.0   \n",
       "\n",
       "                        OBEC  Known OBEC  sum  Score  predict         0  \\\n",
       "7    http://www.statistik.at           1  6.0   6.00      1.0  0.289577   \n",
       "13                       NaN           0  6.0   6.00      1.0  0.289577   \n",
       "37  http://www.instat.gov.al           1  1.0   0.97      0.0  0.975179   \n",
       "45  http://www.instat.gov.al           1  1.0   0.97      0.0  0.975179   \n",
       "49  http://www.instat.gov.al           1  1.0   0.97      0.0  0.975179   \n",
       "\n",
       "           1  \n",
       "7   0.710423  \n",
       "13  0.710423  \n",
       "37  0.024821  \n",
       "45  0.024821  \n",
       "49  0.024821  "
      ]
     },
     "execution_count": 40,
     "metadata": {},
     "output_type": "execute_result"
    }
   ],
   "source": [
    "dfpr[0].info(verbose=False)\n",
    "dfpr[0].head(5)"
   ]
  },
  {
   "cell_type": "markdown",
   "metadata": {},
   "source": [
    "#### 4.11.2. Known URLs (top 5)"
   ]
  },
  {
   "cell_type": "code",
   "execution_count": 41,
   "metadata": {},
   "outputs": [
    {
     "name": "stdout",
     "output_type": "stream",
     "text": [
      "<class 'pandas.core.frame.DataFrame'>\n",
      "Int64Index: 18 entries, 7 to 988\n",
      "Columns: 13 entries, ID to 1\n",
      "dtypes: float64(8), int64(1), object(4)\n",
      "memory usage: 2.0+ KB\n"
     ]
    },
    {
     "data": {
      "text/html": [
       "<div>\n",
       "<style scoped>\n",
       "    .dataframe tbody tr th:only-of-type {\n",
       "        vertical-align: middle;\n",
       "    }\n",
       "\n",
       "    .dataframe tbody tr th {\n",
       "        vertical-align: top;\n",
       "    }\n",
       "\n",
       "    .dataframe thead th {\n",
       "        text-align: right;\n",
       "    }\n",
       "</style>\n",
       "<table border=\"1\" class=\"dataframe\">\n",
       "  <thead>\n",
       "    <tr style=\"text-align: right;\">\n",
       "      <th></th>\n",
       "      <th>ID</th>\n",
       "      <th>Name</th>\n",
       "      <th>Suggested URL</th>\n",
       "      <th>Link position</th>\n",
       "      <th>Has equal domain</th>\n",
       "      <th>Has Simple Suggested URL</th>\n",
       "      <th>OBEC</th>\n",
       "      <th>Known OBEC</th>\n",
       "      <th>sum</th>\n",
       "      <th>Score</th>\n",
       "      <th>predict</th>\n",
       "      <th>0</th>\n",
       "      <th>1</th>\n",
       "    </tr>\n",
       "  </thead>\n",
       "  <tbody>\n",
       "    <tr>\n",
       "      <th>7</th>\n",
       "      <td>000000001</td>\n",
       "      <td>STATISTIK AUSTRIA</td>\n",
       "      <td>http://statistik.at/</td>\n",
       "      <td>0.0</td>\n",
       "      <td>0.0</td>\n",
       "      <td>1.0</td>\n",
       "      <td>http://www.statistik.at</td>\n",
       "      <td>1</td>\n",
       "      <td>6.0</td>\n",
       "      <td>6.00</td>\n",
       "      <td>1.0</td>\n",
       "      <td>0.289577</td>\n",
       "      <td>0.710423</td>\n",
       "    </tr>\n",
       "    <tr>\n",
       "      <th>9</th>\n",
       "      <td>000000001</td>\n",
       "      <td>STATISTIK AUSTRIA</td>\n",
       "      <td>http://www.statistik.at/web_de/statistiken/ind...</td>\n",
       "      <td>1.0</td>\n",
       "      <td>1.0</td>\n",
       "      <td>0.0</td>\n",
       "      <td>http://www.statistik.at</td>\n",
       "      <td>1</td>\n",
       "      <td>6.0</td>\n",
       "      <td>5.94</td>\n",
       "      <td>1.0</td>\n",
       "      <td>0.300915</td>\n",
       "      <td>0.699085</td>\n",
       "    </tr>\n",
       "    <tr>\n",
       "      <th>8</th>\n",
       "      <td>000000001</td>\n",
       "      <td>STATISTIK AUSTRIA</td>\n",
       "      <td>http://www.statistik-austria.at/</td>\n",
       "      <td>5.0</td>\n",
       "      <td>0.0</td>\n",
       "      <td>1.0</td>\n",
       "      <td>http://www.statistik.at</td>\n",
       "      <td>1</td>\n",
       "      <td>6.0</td>\n",
       "      <td>5.70</td>\n",
       "      <td>1.0</td>\n",
       "      <td>0.348651</td>\n",
       "      <td>0.651349</td>\n",
       "    </tr>\n",
       "    <tr>\n",
       "      <th>106</th>\n",
       "      <td>000000020</td>\n",
       "      <td>Statistics Belgium</td>\n",
       "      <td>https://statbel.fgov.be/en</td>\n",
       "      <td>0.0</td>\n",
       "      <td>1.0</td>\n",
       "      <td>1.0</td>\n",
       "      <td>https://statbel.fgov.be</td>\n",
       "      <td>1</td>\n",
       "      <td>6.0</td>\n",
       "      <td>6.00</td>\n",
       "      <td>1.0</td>\n",
       "      <td>0.289577</td>\n",
       "      <td>0.710423</td>\n",
       "    </tr>\n",
       "    <tr>\n",
       "      <th>113</th>\n",
       "      <td>000000021</td>\n",
       "      <td>Statistics Belgium</td>\n",
       "      <td>https://statbel.fgov.be/en</td>\n",
       "      <td>0.0</td>\n",
       "      <td>1.0</td>\n",
       "      <td>1.0</td>\n",
       "      <td>https://statbel.fgov.be</td>\n",
       "      <td>1</td>\n",
       "      <td>6.0</td>\n",
       "      <td>6.00</td>\n",
       "      <td>1.0</td>\n",
       "      <td>0.289577</td>\n",
       "      <td>0.710423</td>\n",
       "    </tr>\n",
       "  </tbody>\n",
       "</table>\n",
       "</div>"
      ],
      "text/plain": [
       "            ID                Name  \\\n",
       "7    000000001   STATISTIK AUSTRIA   \n",
       "9    000000001   STATISTIK AUSTRIA   \n",
       "8    000000001   STATISTIK AUSTRIA   \n",
       "106  000000020  Statistics Belgium   \n",
       "113  000000021  Statistics Belgium   \n",
       "\n",
       "                                         Suggested URL  Link position  \\\n",
       "7                                 http://statistik.at/            0.0   \n",
       "9    http://www.statistik.at/web_de/statistiken/ind...            1.0   \n",
       "8                     http://www.statistik-austria.at/            5.0   \n",
       "106                         https://statbel.fgov.be/en            0.0   \n",
       "113                         https://statbel.fgov.be/en            0.0   \n",
       "\n",
       "     Has equal domain  Has Simple Suggested URL                     OBEC  \\\n",
       "7                 0.0                       1.0  http://www.statistik.at   \n",
       "9                 1.0                       0.0  http://www.statistik.at   \n",
       "8                 0.0                       1.0  http://www.statistik.at   \n",
       "106               1.0                       1.0  https://statbel.fgov.be   \n",
       "113               1.0                       1.0  https://statbel.fgov.be   \n",
       "\n",
       "     Known OBEC  sum  Score  predict         0         1  \n",
       "7             1  6.0   6.00      1.0  0.289577  0.710423  \n",
       "9             1  6.0   5.94      1.0  0.300915  0.699085  \n",
       "8             1  6.0   5.70      1.0  0.348651  0.651349  \n",
       "106           1  6.0   6.00      1.0  0.289577  0.710423  \n",
       "113           1  6.0   6.00      1.0  0.289577  0.710423  "
      ]
     },
     "execution_count": 41,
     "metadata": {},
     "output_type": "execute_result"
    }
   ],
   "source": [
    "dfpr[1].info(verbose=False)\n",
    "dfpr[1].head(5)"
   ]
  },
  {
   "cell_type": "markdown",
   "metadata": {},
   "source": [
    "#### 4.11.3. Revise URLs (top 5)"
   ]
  },
  {
   "cell_type": "code",
   "execution_count": 42,
   "metadata": {},
   "outputs": [
    {
     "name": "stdout",
     "output_type": "stream",
     "text": [
      "<class 'pandas.core.frame.DataFrame'>\n",
      "Int64Index: 583 entries, 10 to 1023\n",
      "Columns: 13 entries, ID to 1\n",
      "dtypes: float64(8), int64(1), object(4)\n",
      "memory usage: 63.8+ KB\n"
     ]
    },
    {
     "data": {
      "text/html": [
       "<div>\n",
       "<style scoped>\n",
       "    .dataframe tbody tr th:only-of-type {\n",
       "        vertical-align: middle;\n",
       "    }\n",
       "\n",
       "    .dataframe tbody tr th {\n",
       "        vertical-align: top;\n",
       "    }\n",
       "\n",
       "    .dataframe thead th {\n",
       "        text-align: right;\n",
       "    }\n",
       "</style>\n",
       "<table border=\"1\" class=\"dataframe\">\n",
       "  <thead>\n",
       "    <tr style=\"text-align: right;\">\n",
       "      <th></th>\n",
       "      <th>ID</th>\n",
       "      <th>Name</th>\n",
       "      <th>Suggested URL</th>\n",
       "      <th>Link position</th>\n",
       "      <th>Has equal domain</th>\n",
       "      <th>Has Simple Suggested URL</th>\n",
       "      <th>OBEC</th>\n",
       "      <th>Known OBEC</th>\n",
       "      <th>sum</th>\n",
       "      <th>Score</th>\n",
       "      <th>predict</th>\n",
       "      <th>0</th>\n",
       "      <th>1</th>\n",
       "    </tr>\n",
       "  </thead>\n",
       "  <tbody>\n",
       "    <tr>\n",
       "      <th>10</th>\n",
       "      <td>000000001</td>\n",
       "      <td>STATISTIK AUSTRIA</td>\n",
       "      <td>https://wn.com/Statistik_Austria</td>\n",
       "      <td>6.0</td>\n",
       "      <td>0.0</td>\n",
       "      <td>0.0</td>\n",
       "      <td>http://www.statistik.at</td>\n",
       "      <td>1</td>\n",
       "      <td>2.0</td>\n",
       "      <td>1.88</td>\n",
       "      <td>0.0</td>\n",
       "      <td>0.945030</td>\n",
       "      <td>0.054970</td>\n",
       "    </tr>\n",
       "    <tr>\n",
       "      <th>11</th>\n",
       "      <td>000000001</td>\n",
       "      <td>STATISTIK AUSTRIA</td>\n",
       "      <td>https://www.ams.at/arbeitsmarktdaten-und-medie...</td>\n",
       "      <td>8.0</td>\n",
       "      <td>0.0</td>\n",
       "      <td>0.0</td>\n",
       "      <td>http://www.statistik.at</td>\n",
       "      <td>1</td>\n",
       "      <td>1.0</td>\n",
       "      <td>0.92</td>\n",
       "      <td>0.0</td>\n",
       "      <td>0.976254</td>\n",
       "      <td>0.023746</td>\n",
       "    </tr>\n",
       "    <tr>\n",
       "      <th>12</th>\n",
       "      <td>000000001</td>\n",
       "      <td>STATISTIK AUSTRIA</td>\n",
       "      <td>https://www.ots.at/pressemappe/209/statistik-a...</td>\n",
       "      <td>9.0</td>\n",
       "      <td>0.0</td>\n",
       "      <td>0.0</td>\n",
       "      <td>http://www.statistik.at</td>\n",
       "      <td>1</td>\n",
       "      <td>2.0</td>\n",
       "      <td>1.82</td>\n",
       "      <td>0.0</td>\n",
       "      <td>0.947793</td>\n",
       "      <td>0.052207</td>\n",
       "    </tr>\n",
       "    <tr>\n",
       "      <th>37</th>\n",
       "      <td>000000006</td>\n",
       "      <td>Institute of Statistics</td>\n",
       "      <td>https://insse.ro/cms/en</td>\n",
       "      <td>3.0</td>\n",
       "      <td>0.0</td>\n",
       "      <td>0.0</td>\n",
       "      <td>http://www.instat.gov.al</td>\n",
       "      <td>1</td>\n",
       "      <td>1.0</td>\n",
       "      <td>0.97</td>\n",
       "      <td>0.0</td>\n",
       "      <td>0.975179</td>\n",
       "      <td>0.024821</td>\n",
       "    </tr>\n",
       "    <tr>\n",
       "      <th>38</th>\n",
       "      <td>000000006</td>\n",
       "      <td>Institute of Statistics</td>\n",
       "      <td>https://www.istat.it/en/</td>\n",
       "      <td>4.0</td>\n",
       "      <td>0.0</td>\n",
       "      <td>1.0</td>\n",
       "      <td>http://www.instat.gov.al</td>\n",
       "      <td>1</td>\n",
       "      <td>2.0</td>\n",
       "      <td>1.92</td>\n",
       "      <td>0.0</td>\n",
       "      <td>0.943112</td>\n",
       "      <td>0.056888</td>\n",
       "    </tr>\n",
       "  </tbody>\n",
       "</table>\n",
       "</div>"
      ],
      "text/plain": [
       "           ID                     Name  \\\n",
       "10  000000001        STATISTIK AUSTRIA   \n",
       "11  000000001        STATISTIK AUSTRIA   \n",
       "12  000000001        STATISTIK AUSTRIA   \n",
       "37  000000006  Institute of Statistics   \n",
       "38  000000006  Institute of Statistics   \n",
       "\n",
       "                                        Suggested URL  Link position  \\\n",
       "10                   https://wn.com/Statistik_Austria            6.0   \n",
       "11  https://www.ams.at/arbeitsmarktdaten-und-medie...            8.0   \n",
       "12  https://www.ots.at/pressemappe/209/statistik-a...            9.0   \n",
       "37                            https://insse.ro/cms/en            3.0   \n",
       "38                           https://www.istat.it/en/            4.0   \n",
       "\n",
       "    Has equal domain  Has Simple Suggested URL                      OBEC  \\\n",
       "10               0.0                       0.0   http://www.statistik.at   \n",
       "11               0.0                       0.0   http://www.statistik.at   \n",
       "12               0.0                       0.0   http://www.statistik.at   \n",
       "37               0.0                       0.0  http://www.instat.gov.al   \n",
       "38               0.0                       1.0  http://www.instat.gov.al   \n",
       "\n",
       "    Known OBEC  sum  Score  predict         0         1  \n",
       "10           1  2.0   1.88      0.0  0.945030  0.054970  \n",
       "11           1  1.0   0.92      0.0  0.976254  0.023746  \n",
       "12           1  2.0   1.82      0.0  0.947793  0.052207  \n",
       "37           1  1.0   0.97      0.0  0.975179  0.024821  \n",
       "38           1  2.0   1.92      0.0  0.943112  0.056888  "
      ]
     },
     "execution_count": 42,
     "metadata": {},
     "output_type": "execute_result"
    }
   ],
   "source": [
    "dfpr[2].info(verbose=False)\n",
    "dfpr[2].head(5)"
   ]
  },
  {
   "cell_type": "markdown",
   "metadata": {},
   "source": [
    "#### 4.11.4. New URLs (top 5)"
   ]
  },
  {
   "cell_type": "code",
   "execution_count": 43,
   "metadata": {},
   "outputs": [
    {
     "name": "stdout",
     "output_type": "stream",
     "text": [
      "<class 'pandas.core.frame.DataFrame'>\n",
      "Int64Index: 16 entries, 13 to 879\n",
      "Columns: 13 entries, ID to 1\n",
      "dtypes: float64(8), int64(1), object(4)\n",
      "memory usage: 1.8+ KB\n"
     ]
    },
    {
     "data": {
      "text/html": [
       "<div>\n",
       "<style scoped>\n",
       "    .dataframe tbody tr th:only-of-type {\n",
       "        vertical-align: middle;\n",
       "    }\n",
       "\n",
       "    .dataframe tbody tr th {\n",
       "        vertical-align: top;\n",
       "    }\n",
       "\n",
       "    .dataframe thead th {\n",
       "        text-align: right;\n",
       "    }\n",
       "</style>\n",
       "<table border=\"1\" class=\"dataframe\">\n",
       "  <thead>\n",
       "    <tr style=\"text-align: right;\">\n",
       "      <th></th>\n",
       "      <th>ID</th>\n",
       "      <th>Name</th>\n",
       "      <th>Suggested URL</th>\n",
       "      <th>Link position</th>\n",
       "      <th>Has equal domain</th>\n",
       "      <th>Has Simple Suggested URL</th>\n",
       "      <th>OBEC</th>\n",
       "      <th>Known OBEC</th>\n",
       "      <th>sum</th>\n",
       "      <th>Score</th>\n",
       "      <th>predict</th>\n",
       "      <th>0</th>\n",
       "      <th>1</th>\n",
       "    </tr>\n",
       "  </thead>\n",
       "  <tbody>\n",
       "    <tr>\n",
       "      <th>13</th>\n",
       "      <td>000000002</td>\n",
       "      <td>STATISTIK AUSTRIA</td>\n",
       "      <td>http://statistik.at/</td>\n",
       "      <td>0.0</td>\n",
       "      <td>0.0</td>\n",
       "      <td>1.0</td>\n",
       "      <td>NaN</td>\n",
       "      <td>0</td>\n",
       "      <td>6.0</td>\n",
       "      <td>6.0</td>\n",
       "      <td>1.0</td>\n",
       "      <td>0.289577</td>\n",
       "      <td>0.710423</td>\n",
       "    </tr>\n",
       "    <tr>\n",
       "      <th>14</th>\n",
       "      <td>000000002</td>\n",
       "      <td>STATISTIK AUSTRIA</td>\n",
       "      <td>http://www.statistik-austria.at/</td>\n",
       "      <td>5.0</td>\n",
       "      <td>0.0</td>\n",
       "      <td>1.0</td>\n",
       "      <td>NaN</td>\n",
       "      <td>0</td>\n",
       "      <td>6.0</td>\n",
       "      <td>5.7</td>\n",
       "      <td>1.0</td>\n",
       "      <td>0.348651</td>\n",
       "      <td>0.651349</td>\n",
       "    </tr>\n",
       "    <tr>\n",
       "      <th>213</th>\n",
       "      <td>000000039</td>\n",
       "      <td>Statistics Denmark</td>\n",
       "      <td>https://www.worldometers.info/world-population...</td>\n",
       "      <td>9.0</td>\n",
       "      <td>0.0</td>\n",
       "      <td>0.0</td>\n",
       "      <td>NaN</td>\n",
       "      <td>0</td>\n",
       "      <td>0.0</td>\n",
       "      <td>0.0</td>\n",
       "      <td>1.0</td>\n",
       "      <td>0.141163</td>\n",
       "      <td>0.858837</td>\n",
       "    </tr>\n",
       "    <tr>\n",
       "      <th>261</th>\n",
       "      <td>000000049</td>\n",
       "      <td>Statistics Iceland</td>\n",
       "      <td>https://www.statista.com/topics/3079/iceland/</td>\n",
       "      <td>3.0</td>\n",
       "      <td>0.0</td>\n",
       "      <td>0.0</td>\n",
       "      <td>NaN</td>\n",
       "      <td>0</td>\n",
       "      <td>0.0</td>\n",
       "      <td>0.0</td>\n",
       "      <td>1.0</td>\n",
       "      <td>0.141163</td>\n",
       "      <td>0.858837</td>\n",
       "    </tr>\n",
       "    <tr>\n",
       "      <th>265</th>\n",
       "      <td>000000050</td>\n",
       "      <td>Statistics Iceland</td>\n",
       "      <td>https://www.statista.com/topics/3079/iceland/</td>\n",
       "      <td>3.0</td>\n",
       "      <td>0.0</td>\n",
       "      <td>0.0</td>\n",
       "      <td>NaN</td>\n",
       "      <td>0</td>\n",
       "      <td>0.0</td>\n",
       "      <td>0.0</td>\n",
       "      <td>1.0</td>\n",
       "      <td>0.289577</td>\n",
       "      <td>0.710423</td>\n",
       "    </tr>\n",
       "  </tbody>\n",
       "</table>\n",
       "</div>"
      ],
      "text/plain": [
       "            ID                Name  \\\n",
       "13   000000002   STATISTIK AUSTRIA   \n",
       "14   000000002   STATISTIK AUSTRIA   \n",
       "213  000000039  Statistics Denmark   \n",
       "261  000000049  Statistics Iceland   \n",
       "265  000000050  Statistics Iceland   \n",
       "\n",
       "                                         Suggested URL  Link position  \\\n",
       "13                                http://statistik.at/            0.0   \n",
       "14                    http://www.statistik-austria.at/            5.0   \n",
       "213  https://www.worldometers.info/world-population...            9.0   \n",
       "261      https://www.statista.com/topics/3079/iceland/            3.0   \n",
       "265      https://www.statista.com/topics/3079/iceland/            3.0   \n",
       "\n",
       "     Has equal domain  Has Simple Suggested URL OBEC  Known OBEC  sum  Score  \\\n",
       "13                0.0                       1.0  NaN           0  6.0    6.0   \n",
       "14                0.0                       1.0  NaN           0  6.0    5.7   \n",
       "213               0.0                       0.0  NaN           0  0.0    0.0   \n",
       "261               0.0                       0.0  NaN           0  0.0    0.0   \n",
       "265               0.0                       0.0  NaN           0  0.0    0.0   \n",
       "\n",
       "     predict         0         1  \n",
       "13       1.0  0.289577  0.710423  \n",
       "14       1.0  0.348651  0.651349  \n",
       "213      1.0  0.141163  0.858837  \n",
       "261      1.0  0.141163  0.858837  \n",
       "265      1.0  0.289577  0.710423  "
      ]
     },
     "execution_count": 43,
     "metadata": {},
     "output_type": "execute_result"
    }
   ],
   "source": [
    "dfpr[3].info(verbose=False)\n",
    "dfpr[3].head(5)"
   ]
  },
  {
   "cell_type": "markdown",
   "metadata": {},
   "source": [
    "#### 4.11.5. Known URLs first (top 5)"
   ]
  },
  {
   "cell_type": "code",
   "execution_count": 44,
   "metadata": {},
   "outputs": [
    {
     "name": "stdout",
     "output_type": "stream",
     "text": [
      "<class 'pandas.core.frame.DataFrame'>\n",
      "Int64Index: 14 entries, 7 to 988\n",
      "Columns: 13 entries, ID to 1\n",
      "dtypes: float64(8), int64(1), object(4)\n",
      "memory usage: 1.5+ KB\n"
     ]
    },
    {
     "data": {
      "text/html": [
       "<div>\n",
       "<style scoped>\n",
       "    .dataframe tbody tr th:only-of-type {\n",
       "        vertical-align: middle;\n",
       "    }\n",
       "\n",
       "    .dataframe tbody tr th {\n",
       "        vertical-align: top;\n",
       "    }\n",
       "\n",
       "    .dataframe thead th {\n",
       "        text-align: right;\n",
       "    }\n",
       "</style>\n",
       "<table border=\"1\" class=\"dataframe\">\n",
       "  <thead>\n",
       "    <tr style=\"text-align: right;\">\n",
       "      <th></th>\n",
       "      <th>ID</th>\n",
       "      <th>Name</th>\n",
       "      <th>Suggested URL</th>\n",
       "      <th>Link position</th>\n",
       "      <th>Has equal domain</th>\n",
       "      <th>Has Simple Suggested URL</th>\n",
       "      <th>OBEC</th>\n",
       "      <th>Known OBEC</th>\n",
       "      <th>sum</th>\n",
       "      <th>Score</th>\n",
       "      <th>predict</th>\n",
       "      <th>0</th>\n",
       "      <th>1</th>\n",
       "    </tr>\n",
       "  </thead>\n",
       "  <tbody>\n",
       "    <tr>\n",
       "      <th>7</th>\n",
       "      <td>000000001</td>\n",
       "      <td>STATISTIK AUSTRIA</td>\n",
       "      <td>http://statistik.at/</td>\n",
       "      <td>0.0</td>\n",
       "      <td>0.0</td>\n",
       "      <td>1.0</td>\n",
       "      <td>http://www.statistik.at</td>\n",
       "      <td>1</td>\n",
       "      <td>6.0</td>\n",
       "      <td>6.0</td>\n",
       "      <td>1.0</td>\n",
       "      <td>0.289577</td>\n",
       "      <td>0.710423</td>\n",
       "    </tr>\n",
       "    <tr>\n",
       "      <th>106</th>\n",
       "      <td>000000020</td>\n",
       "      <td>Statistics Belgium</td>\n",
       "      <td>https://statbel.fgov.be/en</td>\n",
       "      <td>0.0</td>\n",
       "      <td>1.0</td>\n",
       "      <td>1.0</td>\n",
       "      <td>https://statbel.fgov.be</td>\n",
       "      <td>1</td>\n",
       "      <td>6.0</td>\n",
       "      <td>6.0</td>\n",
       "      <td>1.0</td>\n",
       "      <td>0.289577</td>\n",
       "      <td>0.710423</td>\n",
       "    </tr>\n",
       "    <tr>\n",
       "      <th>113</th>\n",
       "      <td>000000021</td>\n",
       "      <td>Statistics Belgium</td>\n",
       "      <td>https://statbel.fgov.be/en</td>\n",
       "      <td>0.0</td>\n",
       "      <td>1.0</td>\n",
       "      <td>1.0</td>\n",
       "      <td>https://statbel.fgov.be</td>\n",
       "      <td>1</td>\n",
       "      <td>6.0</td>\n",
       "      <td>6.0</td>\n",
       "      <td>1.0</td>\n",
       "      <td>0.289577</td>\n",
       "      <td>0.710423</td>\n",
       "    </tr>\n",
       "    <tr>\n",
       "      <th>217</th>\n",
       "      <td>000000040</td>\n",
       "      <td>Statistics Denmark</td>\n",
       "      <td>https://www.worldometers.info/world-population...</td>\n",
       "      <td>9.0</td>\n",
       "      <td>0.0</td>\n",
       "      <td>0.0</td>\n",
       "      <td>https://www.dst.dk</td>\n",
       "      <td>1</td>\n",
       "      <td>0.0</td>\n",
       "      <td>0.0</td>\n",
       "      <td>1.0</td>\n",
       "      <td>0.289577</td>\n",
       "      <td>0.710423</td>\n",
       "    </tr>\n",
       "    <tr>\n",
       "      <th>230</th>\n",
       "      <td>000000043</td>\n",
       "      <td>Statistics Estonia</td>\n",
       "      <td>https://www.stat.ee/en</td>\n",
       "      <td>0.0</td>\n",
       "      <td>1.0</td>\n",
       "      <td>1.0</td>\n",
       "      <td>https://www.stat.ee</td>\n",
       "      <td>1</td>\n",
       "      <td>5.0</td>\n",
       "      <td>5.0</td>\n",
       "      <td>1.0</td>\n",
       "      <td>0.289577</td>\n",
       "      <td>0.710423</td>\n",
       "    </tr>\n",
       "  </tbody>\n",
       "</table>\n",
       "</div>"
      ],
      "text/plain": [
       "            ID                Name  \\\n",
       "7    000000001   STATISTIK AUSTRIA   \n",
       "106  000000020  Statistics Belgium   \n",
       "113  000000021  Statistics Belgium   \n",
       "217  000000040  Statistics Denmark   \n",
       "230  000000043  Statistics Estonia   \n",
       "\n",
       "                                         Suggested URL  Link position  \\\n",
       "7                                 http://statistik.at/            0.0   \n",
       "106                         https://statbel.fgov.be/en            0.0   \n",
       "113                         https://statbel.fgov.be/en            0.0   \n",
       "217  https://www.worldometers.info/world-population...            9.0   \n",
       "230                             https://www.stat.ee/en            0.0   \n",
       "\n",
       "     Has equal domain  Has Simple Suggested URL                     OBEC  \\\n",
       "7                 0.0                       1.0  http://www.statistik.at   \n",
       "106               1.0                       1.0  https://statbel.fgov.be   \n",
       "113               1.0                       1.0  https://statbel.fgov.be   \n",
       "217               0.0                       0.0       https://www.dst.dk   \n",
       "230               1.0                       1.0      https://www.stat.ee   \n",
       "\n",
       "     Known OBEC  sum  Score  predict         0         1  \n",
       "7             1  6.0    6.0      1.0  0.289577  0.710423  \n",
       "106           1  6.0    6.0      1.0  0.289577  0.710423  \n",
       "113           1  6.0    6.0      1.0  0.289577  0.710423  \n",
       "217           1  0.0    0.0      1.0  0.289577  0.710423  \n",
       "230           1  5.0    5.0      1.0  0.289577  0.710423  "
      ]
     },
     "execution_count": 44,
     "metadata": {},
     "output_type": "execute_result"
    }
   ],
   "source": [
    "dfpr[4].info(verbose=False)\n",
    "dfpr[4].head(5)"
   ]
  },
  {
   "cell_type": "markdown",
   "metadata": {},
   "source": [
    "#### 4.11.6. Known URLs multiple (top 5)"
   ]
  },
  {
   "cell_type": "code",
   "execution_count": 45,
   "metadata": {},
   "outputs": [
    {
     "name": "stdout",
     "output_type": "stream",
     "text": [
      "<class 'pandas.core.frame.DataFrame'>\n",
      "Int64Index: 18 entries, 7 to 988\n",
      "Columns: 13 entries, ID to 1\n",
      "dtypes: float64(8), int64(1), object(4)\n",
      "memory usage: 2.0+ KB\n"
     ]
    },
    {
     "data": {
      "text/html": [
       "<div>\n",
       "<style scoped>\n",
       "    .dataframe tbody tr th:only-of-type {\n",
       "        vertical-align: middle;\n",
       "    }\n",
       "\n",
       "    .dataframe tbody tr th {\n",
       "        vertical-align: top;\n",
       "    }\n",
       "\n",
       "    .dataframe thead th {\n",
       "        text-align: right;\n",
       "    }\n",
       "</style>\n",
       "<table border=\"1\" class=\"dataframe\">\n",
       "  <thead>\n",
       "    <tr style=\"text-align: right;\">\n",
       "      <th></th>\n",
       "      <th>ID</th>\n",
       "      <th>Name</th>\n",
       "      <th>Suggested URL</th>\n",
       "      <th>Link position</th>\n",
       "      <th>Has equal domain</th>\n",
       "      <th>Has Simple Suggested URL</th>\n",
       "      <th>OBEC</th>\n",
       "      <th>Known OBEC</th>\n",
       "      <th>sum</th>\n",
       "      <th>Score</th>\n",
       "      <th>predict</th>\n",
       "      <th>0</th>\n",
       "      <th>1</th>\n",
       "    </tr>\n",
       "  </thead>\n",
       "  <tbody>\n",
       "    <tr>\n",
       "      <th>7</th>\n",
       "      <td>000000001</td>\n",
       "      <td>STATISTIK AUSTRIA</td>\n",
       "      <td>http://statistik.at/</td>\n",
       "      <td>0.0</td>\n",
       "      <td>0.0</td>\n",
       "      <td>1.0</td>\n",
       "      <td>http://www.statistik.at</td>\n",
       "      <td>1</td>\n",
       "      <td>6.0</td>\n",
       "      <td>6.00</td>\n",
       "      <td>1.0</td>\n",
       "      <td>0.289577</td>\n",
       "      <td>0.710423</td>\n",
       "    </tr>\n",
       "    <tr>\n",
       "      <th>9</th>\n",
       "      <td>000000001</td>\n",
       "      <td>STATISTIK AUSTRIA</td>\n",
       "      <td>http://www.statistik.at/web_de/statistiken/ind...</td>\n",
       "      <td>1.0</td>\n",
       "      <td>1.0</td>\n",
       "      <td>0.0</td>\n",
       "      <td>http://www.statistik.at</td>\n",
       "      <td>1</td>\n",
       "      <td>6.0</td>\n",
       "      <td>5.94</td>\n",
       "      <td>1.0</td>\n",
       "      <td>0.300915</td>\n",
       "      <td>0.699085</td>\n",
       "    </tr>\n",
       "    <tr>\n",
       "      <th>8</th>\n",
       "      <td>000000001</td>\n",
       "      <td>STATISTIK AUSTRIA</td>\n",
       "      <td>http://www.statistik-austria.at/</td>\n",
       "      <td>5.0</td>\n",
       "      <td>0.0</td>\n",
       "      <td>1.0</td>\n",
       "      <td>http://www.statistik.at</td>\n",
       "      <td>1</td>\n",
       "      <td>6.0</td>\n",
       "      <td>5.70</td>\n",
       "      <td>1.0</td>\n",
       "      <td>0.348651</td>\n",
       "      <td>0.651349</td>\n",
       "    </tr>\n",
       "    <tr>\n",
       "      <th>106</th>\n",
       "      <td>000000020</td>\n",
       "      <td>Statistics Belgium</td>\n",
       "      <td>https://statbel.fgov.be/en</td>\n",
       "      <td>0.0</td>\n",
       "      <td>1.0</td>\n",
       "      <td>1.0</td>\n",
       "      <td>https://statbel.fgov.be</td>\n",
       "      <td>1</td>\n",
       "      <td>6.0</td>\n",
       "      <td>6.00</td>\n",
       "      <td>1.0</td>\n",
       "      <td>0.289577</td>\n",
       "      <td>0.710423</td>\n",
       "    </tr>\n",
       "    <tr>\n",
       "      <th>113</th>\n",
       "      <td>000000021</td>\n",
       "      <td>Statistics Belgium</td>\n",
       "      <td>https://statbel.fgov.be/en</td>\n",
       "      <td>0.0</td>\n",
       "      <td>1.0</td>\n",
       "      <td>1.0</td>\n",
       "      <td>https://statbel.fgov.be</td>\n",
       "      <td>1</td>\n",
       "      <td>6.0</td>\n",
       "      <td>6.00</td>\n",
       "      <td>1.0</td>\n",
       "      <td>0.289577</td>\n",
       "      <td>0.710423</td>\n",
       "    </tr>\n",
       "  </tbody>\n",
       "</table>\n",
       "</div>"
      ],
      "text/plain": [
       "            ID                Name  \\\n",
       "7    000000001   STATISTIK AUSTRIA   \n",
       "9    000000001   STATISTIK AUSTRIA   \n",
       "8    000000001   STATISTIK AUSTRIA   \n",
       "106  000000020  Statistics Belgium   \n",
       "113  000000021  Statistics Belgium   \n",
       "\n",
       "                                         Suggested URL  Link position  \\\n",
       "7                                 http://statistik.at/            0.0   \n",
       "9    http://www.statistik.at/web_de/statistiken/ind...            1.0   \n",
       "8                     http://www.statistik-austria.at/            5.0   \n",
       "106                         https://statbel.fgov.be/en            0.0   \n",
       "113                         https://statbel.fgov.be/en            0.0   \n",
       "\n",
       "     Has equal domain  Has Simple Suggested URL                     OBEC  \\\n",
       "7                 0.0                       1.0  http://www.statistik.at   \n",
       "9                 1.0                       0.0  http://www.statistik.at   \n",
       "8                 0.0                       1.0  http://www.statistik.at   \n",
       "106               1.0                       1.0  https://statbel.fgov.be   \n",
       "113               1.0                       1.0  https://statbel.fgov.be   \n",
       "\n",
       "     Known OBEC  sum  Score  predict         0         1  \n",
       "7             1  6.0   6.00      1.0  0.289577  0.710423  \n",
       "9             1  6.0   5.94      1.0  0.300915  0.699085  \n",
       "8             1  6.0   5.70      1.0  0.348651  0.651349  \n",
       "106           1  6.0   6.00      1.0  0.289577  0.710423  \n",
       "113           1  6.0   6.00      1.0  0.289577  0.710423  "
      ]
     },
     "execution_count": 45,
     "metadata": {},
     "output_type": "execute_result"
    }
   ],
   "source": [
    "dfpr[5].info(verbose=False)\n",
    "dfpr[5].head(5)"
   ]
  },
  {
   "cell_type": "markdown",
   "metadata": {},
   "source": [
    "#### 4.11.7. Revise URLs first (top 5)"
   ]
  },
  {
   "cell_type": "code",
   "execution_count": 46,
   "metadata": {},
   "outputs": [
    {
     "name": "stdout",
     "output_type": "stream",
     "text": [
      "<class 'pandas.core.frame.DataFrame'>\n",
      "Int64Index: 118 entries, 10 to 1026\n",
      "Columns: 13 entries, ID to 1\n",
      "dtypes: float64(8), int64(1), object(4)\n",
      "memory usage: 12.9+ KB\n"
     ]
    },
    {
     "data": {
      "text/html": [
       "<div>\n",
       "<style scoped>\n",
       "    .dataframe tbody tr th:only-of-type {\n",
       "        vertical-align: middle;\n",
       "    }\n",
       "\n",
       "    .dataframe tbody tr th {\n",
       "        vertical-align: top;\n",
       "    }\n",
       "\n",
       "    .dataframe thead th {\n",
       "        text-align: right;\n",
       "    }\n",
       "</style>\n",
       "<table border=\"1\" class=\"dataframe\">\n",
       "  <thead>\n",
       "    <tr style=\"text-align: right;\">\n",
       "      <th></th>\n",
       "      <th>ID</th>\n",
       "      <th>Name</th>\n",
       "      <th>Suggested URL</th>\n",
       "      <th>Link position</th>\n",
       "      <th>Has equal domain</th>\n",
       "      <th>Has Simple Suggested URL</th>\n",
       "      <th>OBEC</th>\n",
       "      <th>Known OBEC</th>\n",
       "      <th>sum</th>\n",
       "      <th>Score</th>\n",
       "      <th>predict</th>\n",
       "      <th>0</th>\n",
       "      <th>1</th>\n",
       "    </tr>\n",
       "  </thead>\n",
       "  <tbody>\n",
       "    <tr>\n",
       "      <th>10</th>\n",
       "      <td>000000001</td>\n",
       "      <td>STATISTIK AUSTRIA</td>\n",
       "      <td>https://wn.com/Statistik_Austria</td>\n",
       "      <td>6.0</td>\n",
       "      <td>0.0</td>\n",
       "      <td>0.0</td>\n",
       "      <td>http://www.statistik.at</td>\n",
       "      <td>1</td>\n",
       "      <td>2.0</td>\n",
       "      <td>1.88</td>\n",
       "      <td>0.0</td>\n",
       "      <td>0.945030</td>\n",
       "      <td>0.054970</td>\n",
       "    </tr>\n",
       "    <tr>\n",
       "      <th>37</th>\n",
       "      <td>000000006</td>\n",
       "      <td>Institute of Statistics</td>\n",
       "      <td>https://insse.ro/cms/en</td>\n",
       "      <td>3.0</td>\n",
       "      <td>0.0</td>\n",
       "      <td>0.0</td>\n",
       "      <td>http://www.instat.gov.al</td>\n",
       "      <td>1</td>\n",
       "      <td>1.0</td>\n",
       "      <td>0.97</td>\n",
       "      <td>0.0</td>\n",
       "      <td>0.975179</td>\n",
       "      <td>0.024821</td>\n",
       "    </tr>\n",
       "    <tr>\n",
       "      <th>45</th>\n",
       "      <td>000000008</td>\n",
       "      <td>Institute of Statistics</td>\n",
       "      <td>https://insse.ro/cms/en</td>\n",
       "      <td>3.0</td>\n",
       "      <td>0.0</td>\n",
       "      <td>0.0</td>\n",
       "      <td>http://www.instat.gov.al</td>\n",
       "      <td>1</td>\n",
       "      <td>1.0</td>\n",
       "      <td>0.97</td>\n",
       "      <td>0.0</td>\n",
       "      <td>0.975179</td>\n",
       "      <td>0.024821</td>\n",
       "    </tr>\n",
       "    <tr>\n",
       "      <th>49</th>\n",
       "      <td>000000009</td>\n",
       "      <td>Institute of Statistics</td>\n",
       "      <td>https://insse.ro/cms/en</td>\n",
       "      <td>3.0</td>\n",
       "      <td>0.0</td>\n",
       "      <td>0.0</td>\n",
       "      <td>http://www.instat.gov.al</td>\n",
       "      <td>1</td>\n",
       "      <td>1.0</td>\n",
       "      <td>0.97</td>\n",
       "      <td>0.0</td>\n",
       "      <td>0.975179</td>\n",
       "      <td>0.024821</td>\n",
       "    </tr>\n",
       "    <tr>\n",
       "      <th>61</th>\n",
       "      <td>000000011</td>\n",
       "      <td>Departament d´Estadística</td>\n",
       "      <td>https://www.bcn.cat/estadistica/castella/index...</td>\n",
       "      <td>0.0</td>\n",
       "      <td>0.0</td>\n",
       "      <td>0.0</td>\n",
       "      <td>https://www.estadistica.ad/serveiestudis/web/i...</td>\n",
       "      <td>1</td>\n",
       "      <td>0.0</td>\n",
       "      <td>0.00</td>\n",
       "      <td>0.0</td>\n",
       "      <td>0.989563</td>\n",
       "      <td>0.010437</td>\n",
       "    </tr>\n",
       "  </tbody>\n",
       "</table>\n",
       "</div>"
      ],
      "text/plain": [
       "           ID                       Name  \\\n",
       "10  000000001          STATISTIK AUSTRIA   \n",
       "37  000000006    Institute of Statistics   \n",
       "45  000000008    Institute of Statistics   \n",
       "49  000000009    Institute of Statistics   \n",
       "61  000000011  Departament d´Estadística   \n",
       "\n",
       "                                        Suggested URL  Link position  \\\n",
       "10                   https://wn.com/Statistik_Austria            6.0   \n",
       "37                            https://insse.ro/cms/en            3.0   \n",
       "45                            https://insse.ro/cms/en            3.0   \n",
       "49                            https://insse.ro/cms/en            3.0   \n",
       "61  https://www.bcn.cat/estadistica/castella/index...            0.0   \n",
       "\n",
       "    Has equal domain  Has Simple Suggested URL  \\\n",
       "10               0.0                       0.0   \n",
       "37               0.0                       0.0   \n",
       "45               0.0                       0.0   \n",
       "49               0.0                       0.0   \n",
       "61               0.0                       0.0   \n",
       "\n",
       "                                                 OBEC  Known OBEC  sum  Score  \\\n",
       "10                            http://www.statistik.at           1  2.0   1.88   \n",
       "37                           http://www.instat.gov.al           1  1.0   0.97   \n",
       "45                           http://www.instat.gov.al           1  1.0   0.97   \n",
       "49                           http://www.instat.gov.al           1  1.0   0.97   \n",
       "61  https://www.estadistica.ad/serveiestudis/web/i...           1  0.0   0.00   \n",
       "\n",
       "    predict         0         1  \n",
       "10      0.0  0.945030  0.054970  \n",
       "37      0.0  0.975179  0.024821  \n",
       "45      0.0  0.975179  0.024821  \n",
       "49      0.0  0.975179  0.024821  \n",
       "61      0.0  0.989563  0.010437  "
      ]
     },
     "execution_count": 46,
     "metadata": {},
     "output_type": "execute_result"
    }
   ],
   "source": [
    "dfpr[6].info(verbose=False)\n",
    "dfpr[6].head(5)"
   ]
  },
  {
   "cell_type": "markdown",
   "metadata": {},
   "source": [
    "#### 4.11.8. Revise URLs multiple (top 5)"
   ]
  },
  {
   "cell_type": "code",
   "execution_count": 47,
   "metadata": {},
   "outputs": [
    {
     "name": "stdout",
     "output_type": "stream",
     "text": [
      "<class 'pandas.core.frame.DataFrame'>\n",
      "Int64Index: 581 entries, 10 to 1023\n",
      "Columns: 13 entries, ID to 1\n",
      "dtypes: float64(8), int64(1), object(4)\n",
      "memory usage: 63.5+ KB\n"
     ]
    },
    {
     "data": {
      "text/html": [
       "<div>\n",
       "<style scoped>\n",
       "    .dataframe tbody tr th:only-of-type {\n",
       "        vertical-align: middle;\n",
       "    }\n",
       "\n",
       "    .dataframe tbody tr th {\n",
       "        vertical-align: top;\n",
       "    }\n",
       "\n",
       "    .dataframe thead th {\n",
       "        text-align: right;\n",
       "    }\n",
       "</style>\n",
       "<table border=\"1\" class=\"dataframe\">\n",
       "  <thead>\n",
       "    <tr style=\"text-align: right;\">\n",
       "      <th></th>\n",
       "      <th>ID</th>\n",
       "      <th>Name</th>\n",
       "      <th>Suggested URL</th>\n",
       "      <th>Link position</th>\n",
       "      <th>Has equal domain</th>\n",
       "      <th>Has Simple Suggested URL</th>\n",
       "      <th>OBEC</th>\n",
       "      <th>Known OBEC</th>\n",
       "      <th>sum</th>\n",
       "      <th>Score</th>\n",
       "      <th>predict</th>\n",
       "      <th>0</th>\n",
       "      <th>1</th>\n",
       "    </tr>\n",
       "  </thead>\n",
       "  <tbody>\n",
       "    <tr>\n",
       "      <th>10</th>\n",
       "      <td>000000001</td>\n",
       "      <td>STATISTIK AUSTRIA</td>\n",
       "      <td>https://wn.com/Statistik_Austria</td>\n",
       "      <td>6.0</td>\n",
       "      <td>0.0</td>\n",
       "      <td>0.0</td>\n",
       "      <td>http://www.statistik.at</td>\n",
       "      <td>1</td>\n",
       "      <td>2.0</td>\n",
       "      <td>1.88</td>\n",
       "      <td>0.0</td>\n",
       "      <td>0.945030</td>\n",
       "      <td>0.054970</td>\n",
       "    </tr>\n",
       "    <tr>\n",
       "      <th>11</th>\n",
       "      <td>000000001</td>\n",
       "      <td>STATISTIK AUSTRIA</td>\n",
       "      <td>https://www.ams.at/arbeitsmarktdaten-und-medie...</td>\n",
       "      <td>8.0</td>\n",
       "      <td>0.0</td>\n",
       "      <td>0.0</td>\n",
       "      <td>http://www.statistik.at</td>\n",
       "      <td>1</td>\n",
       "      <td>1.0</td>\n",
       "      <td>0.92</td>\n",
       "      <td>0.0</td>\n",
       "      <td>0.976254</td>\n",
       "      <td>0.023746</td>\n",
       "    </tr>\n",
       "    <tr>\n",
       "      <th>12</th>\n",
       "      <td>000000001</td>\n",
       "      <td>STATISTIK AUSTRIA</td>\n",
       "      <td>https://www.ots.at/pressemappe/209/statistik-a...</td>\n",
       "      <td>9.0</td>\n",
       "      <td>0.0</td>\n",
       "      <td>0.0</td>\n",
       "      <td>http://www.statistik.at</td>\n",
       "      <td>1</td>\n",
       "      <td>2.0</td>\n",
       "      <td>1.82</td>\n",
       "      <td>0.0</td>\n",
       "      <td>0.947793</td>\n",
       "      <td>0.052207</td>\n",
       "    </tr>\n",
       "    <tr>\n",
       "      <th>37</th>\n",
       "      <td>000000006</td>\n",
       "      <td>Institute of Statistics</td>\n",
       "      <td>https://insse.ro/cms/en</td>\n",
       "      <td>3.0</td>\n",
       "      <td>0.0</td>\n",
       "      <td>0.0</td>\n",
       "      <td>http://www.instat.gov.al</td>\n",
       "      <td>1</td>\n",
       "      <td>1.0</td>\n",
       "      <td>0.97</td>\n",
       "      <td>0.0</td>\n",
       "      <td>0.975179</td>\n",
       "      <td>0.024821</td>\n",
       "    </tr>\n",
       "    <tr>\n",
       "      <th>38</th>\n",
       "      <td>000000006</td>\n",
       "      <td>Institute of Statistics</td>\n",
       "      <td>https://www.istat.it/en/</td>\n",
       "      <td>4.0</td>\n",
       "      <td>0.0</td>\n",
       "      <td>1.0</td>\n",
       "      <td>http://www.instat.gov.al</td>\n",
       "      <td>1</td>\n",
       "      <td>2.0</td>\n",
       "      <td>1.92</td>\n",
       "      <td>0.0</td>\n",
       "      <td>0.943112</td>\n",
       "      <td>0.056888</td>\n",
       "    </tr>\n",
       "  </tbody>\n",
       "</table>\n",
       "</div>"
      ],
      "text/plain": [
       "           ID                     Name  \\\n",
       "10  000000001        STATISTIK AUSTRIA   \n",
       "11  000000001        STATISTIK AUSTRIA   \n",
       "12  000000001        STATISTIK AUSTRIA   \n",
       "37  000000006  Institute of Statistics   \n",
       "38  000000006  Institute of Statistics   \n",
       "\n",
       "                                        Suggested URL  Link position  \\\n",
       "10                   https://wn.com/Statistik_Austria            6.0   \n",
       "11  https://www.ams.at/arbeitsmarktdaten-und-medie...            8.0   \n",
       "12  https://www.ots.at/pressemappe/209/statistik-a...            9.0   \n",
       "37                            https://insse.ro/cms/en            3.0   \n",
       "38                           https://www.istat.it/en/            4.0   \n",
       "\n",
       "    Has equal domain  Has Simple Suggested URL                      OBEC  \\\n",
       "10               0.0                       0.0   http://www.statistik.at   \n",
       "11               0.0                       0.0   http://www.statistik.at   \n",
       "12               0.0                       0.0   http://www.statistik.at   \n",
       "37               0.0                       0.0  http://www.instat.gov.al   \n",
       "38               0.0                       1.0  http://www.instat.gov.al   \n",
       "\n",
       "    Known OBEC  sum  Score  predict         0         1  \n",
       "10           1  2.0   1.88      0.0  0.945030  0.054970  \n",
       "11           1  1.0   0.92      0.0  0.976254  0.023746  \n",
       "12           1  2.0   1.82      0.0  0.947793  0.052207  \n",
       "37           1  1.0   0.97      0.0  0.975179  0.024821  \n",
       "38           1  2.0   1.92      0.0  0.943112  0.056888  "
      ]
     },
     "execution_count": 47,
     "metadata": {},
     "output_type": "execute_result"
    }
   ],
   "source": [
    "dfpr[7].info(verbose=False)\n",
    "dfpr[7].head(5)"
   ]
  },
  {
   "cell_type": "markdown",
   "metadata": {},
   "source": [
    "#### 4.11.9. New URLs multiple (top 5)"
   ]
  },
  {
   "cell_type": "code",
   "execution_count": 48,
   "metadata": {},
   "outputs": [
    {
     "name": "stdout",
     "output_type": "stream",
     "text": [
      "<class 'pandas.core.frame.DataFrame'>\n",
      "Int64Index: 16 entries, 13 to 879\n",
      "Columns: 13 entries, ID to 1\n",
      "dtypes: float64(8), int64(1), object(4)\n",
      "memory usage: 1.8+ KB\n"
     ]
    },
    {
     "data": {
      "text/html": [
       "<div>\n",
       "<style scoped>\n",
       "    .dataframe tbody tr th:only-of-type {\n",
       "        vertical-align: middle;\n",
       "    }\n",
       "\n",
       "    .dataframe tbody tr th {\n",
       "        vertical-align: top;\n",
       "    }\n",
       "\n",
       "    .dataframe thead th {\n",
       "        text-align: right;\n",
       "    }\n",
       "</style>\n",
       "<table border=\"1\" class=\"dataframe\">\n",
       "  <thead>\n",
       "    <tr style=\"text-align: right;\">\n",
       "      <th></th>\n",
       "      <th>ID</th>\n",
       "      <th>Name</th>\n",
       "      <th>Suggested URL</th>\n",
       "      <th>Link position</th>\n",
       "      <th>Has equal domain</th>\n",
       "      <th>Has Simple Suggested URL</th>\n",
       "      <th>OBEC</th>\n",
       "      <th>Known OBEC</th>\n",
       "      <th>sum</th>\n",
       "      <th>Score</th>\n",
       "      <th>predict</th>\n",
       "      <th>0</th>\n",
       "      <th>1</th>\n",
       "    </tr>\n",
       "  </thead>\n",
       "  <tbody>\n",
       "    <tr>\n",
       "      <th>13</th>\n",
       "      <td>000000002</td>\n",
       "      <td>STATISTIK AUSTRIA</td>\n",
       "      <td>http://statistik.at/</td>\n",
       "      <td>0.0</td>\n",
       "      <td>0.0</td>\n",
       "      <td>1.0</td>\n",
       "      <td>NaN</td>\n",
       "      <td>0</td>\n",
       "      <td>6.0</td>\n",
       "      <td>6.0</td>\n",
       "      <td>1.0</td>\n",
       "      <td>0.289577</td>\n",
       "      <td>0.710423</td>\n",
       "    </tr>\n",
       "    <tr>\n",
       "      <th>14</th>\n",
       "      <td>000000002</td>\n",
       "      <td>STATISTIK AUSTRIA</td>\n",
       "      <td>http://www.statistik-austria.at/</td>\n",
       "      <td>5.0</td>\n",
       "      <td>0.0</td>\n",
       "      <td>1.0</td>\n",
       "      <td>NaN</td>\n",
       "      <td>0</td>\n",
       "      <td>6.0</td>\n",
       "      <td>5.7</td>\n",
       "      <td>1.0</td>\n",
       "      <td>0.348651</td>\n",
       "      <td>0.651349</td>\n",
       "    </tr>\n",
       "    <tr>\n",
       "      <th>213</th>\n",
       "      <td>000000039</td>\n",
       "      <td>Statistics Denmark</td>\n",
       "      <td>https://www.worldometers.info/world-population...</td>\n",
       "      <td>9.0</td>\n",
       "      <td>0.0</td>\n",
       "      <td>0.0</td>\n",
       "      <td>NaN</td>\n",
       "      <td>0</td>\n",
       "      <td>0.0</td>\n",
       "      <td>0.0</td>\n",
       "      <td>1.0</td>\n",
       "      <td>0.141163</td>\n",
       "      <td>0.858837</td>\n",
       "    </tr>\n",
       "    <tr>\n",
       "      <th>261</th>\n",
       "      <td>000000049</td>\n",
       "      <td>Statistics Iceland</td>\n",
       "      <td>https://www.statista.com/topics/3079/iceland/</td>\n",
       "      <td>3.0</td>\n",
       "      <td>0.0</td>\n",
       "      <td>0.0</td>\n",
       "      <td>NaN</td>\n",
       "      <td>0</td>\n",
       "      <td>0.0</td>\n",
       "      <td>0.0</td>\n",
       "      <td>1.0</td>\n",
       "      <td>0.141163</td>\n",
       "      <td>0.858837</td>\n",
       "    </tr>\n",
       "    <tr>\n",
       "      <th>265</th>\n",
       "      <td>000000050</td>\n",
       "      <td>Statistics Iceland</td>\n",
       "      <td>https://www.statista.com/topics/3079/iceland/</td>\n",
       "      <td>3.0</td>\n",
       "      <td>0.0</td>\n",
       "      <td>0.0</td>\n",
       "      <td>NaN</td>\n",
       "      <td>0</td>\n",
       "      <td>0.0</td>\n",
       "      <td>0.0</td>\n",
       "      <td>1.0</td>\n",
       "      <td>0.289577</td>\n",
       "      <td>0.710423</td>\n",
       "    </tr>\n",
       "  </tbody>\n",
       "</table>\n",
       "</div>"
      ],
      "text/plain": [
       "            ID                Name  \\\n",
       "13   000000002   STATISTIK AUSTRIA   \n",
       "14   000000002   STATISTIK AUSTRIA   \n",
       "213  000000039  Statistics Denmark   \n",
       "261  000000049  Statistics Iceland   \n",
       "265  000000050  Statistics Iceland   \n",
       "\n",
       "                                         Suggested URL  Link position  \\\n",
       "13                                http://statistik.at/            0.0   \n",
       "14                    http://www.statistik-austria.at/            5.0   \n",
       "213  https://www.worldometers.info/world-population...            9.0   \n",
       "261      https://www.statista.com/topics/3079/iceland/            3.0   \n",
       "265      https://www.statista.com/topics/3079/iceland/            3.0   \n",
       "\n",
       "     Has equal domain  Has Simple Suggested URL OBEC  Known OBEC  sum  Score  \\\n",
       "13                0.0                       1.0  NaN           0  6.0    6.0   \n",
       "14                0.0                       1.0  NaN           0  6.0    5.7   \n",
       "213               0.0                       0.0  NaN           0  0.0    0.0   \n",
       "261               0.0                       0.0  NaN           0  0.0    0.0   \n",
       "265               0.0                       0.0  NaN           0  0.0    0.0   \n",
       "\n",
       "     predict         0         1  \n",
       "13       1.0  0.289577  0.710423  \n",
       "14       1.0  0.348651  0.651349  \n",
       "213      1.0  0.141163  0.858837  \n",
       "261      1.0  0.141163  0.858837  \n",
       "265      1.0  0.289577  0.710423  "
      ]
     },
     "execution_count": 48,
     "metadata": {},
     "output_type": "execute_result"
    }
   ],
   "source": [
    "dfpr[8].info(verbose=False)\n",
    "dfpr[8].head(5)"
   ]
  },
  {
   "cell_type": "markdown",
   "metadata": {},
   "source": [
    "### 4.12. Multiple Logistic Regression Model Execution\n",
    "\n",
    "This is done by calling ***multiple*** method of the ***URLsFinderMLLR*** class with the following optianal parameters:\n",
    "- **test_size** a decimal number between 0 and 1 for splitting the data frame on training and test sets (optional, default: 0.7)\n",
    "- **solver** an algorithm to use in the optimization problem ('newton-cg', 'lbfgs', 'liblinear', 'sag', 'saga') (optional, default: 'lbfgs') (only the default is tested)\n",
    "- **max_iter** the maximum number of iterations taken for the solvers to converge (optional, default: 1000)\n",
    "- **multiple** the number of Logistic Regression Model Execution (optional, default: 1)\n",
    "- **random** the maximum number of iterations taken for the solvers to converge (optional, default: True)\n",
    "- **mcc** Matthews correlation coefficient (optional, default: 0.5)\n",
    "\n",
    "The method executes in sequence for the number in times in parameter **multiple** the following methods of the ***URLsFinderMLLR*** class: ***fit***, ***confusion_matrix***, ***confusion_matrix_information***, ***classification_report***, ***roc_curve*** and ***predict***. The method takes only the predicted results from the iterations with Matthews correlation coefficient grater then parameter **mcc**.\n",
    "\n",
    "The method returns the results like point **4.9. Predict URLs**. Then you can follow the next steps like **4.10. Drop duplicates from predicted results** and **4.11. Return results for entserprises URLs**."
   ]
  },
  {
   "cell_type": "code",
   "execution_count": 49,
   "metadata": {},
   "outputs": [
    {
     "data": {
      "text/markdown": [
       "### Logistic Regression Model Fitting                               for Random State 0"
      ],
      "text/plain": [
       "<IPython.core.display.Markdown object>"
      ]
     },
     "metadata": {},
     "output_type": "display_data"
    },
    {
     "data": {
      "text/markdown": [
       "**Dataframe Object for Training and Test:**"
      ],
      "text/plain": [
       "<IPython.core.display.Markdown object>"
      ]
     },
     "metadata": {},
     "output_type": "display_data"
    },
    {
     "name": "stdout",
     "output_type": "stream",
     "text": [
      "<class 'pandas.core.frame.DataFrame'>\n",
      "Int64Index: 205 entries, 5 to 1026\n",
      "Columns: 16 entries, ID to Score\n",
      "dtypes: float64(11), int64(1), object(4)\n",
      "memory usage: 27.2+ KB\n",
      "None\n"
     ]
    },
    {
     "data": {
      "text/markdown": [
       "**Logistic Regression Model                              Information:**"
      ],
      "text/plain": [
       "<IPython.core.display.Markdown object>"
      ]
     },
     "metadata": {},
     "output_type": "display_data"
    },
    {
     "name": "stdout",
     "output_type": "stream",
     "text": [
      "The training accuracy 0.87\n",
      "The testing accuracy: 0.72\n",
      "Precision: 0.76\n",
      "Recall: 0.31\n",
      "Average precision-recall score: 0.48\n"
     ]
    },
    {
     "data": {
      "text/markdown": [
       "**Confusion Matrix Information:**"
      ],
      "text/plain": [
       "<IPython.core.display.Markdown object>"
      ]
     },
     "metadata": {},
     "output_type": "display_data"
    },
    {
     "name": "stdout",
     "output_type": "stream",
     "text": [
      "OBEC URLs that are predicted as False and we do not know (True Negatives): 88\n",
      "OBEC URLs that are predicted as False and we do know (False Negatives): 35\n",
      "OBEC URLs that are predicted as True and we do not know (False Positives): 5\n",
      "OBEC URLs that are predicted as True and we do know (True Positives): 16\n",
      "Accuracy = (TP+TN)/(TP+TN+FP+FN): 0.72\n",
      "Precision = TP/(TP+FP): 0.76\n",
      "Recall = TP/(TP+FN): 0.31\n",
      "Specificity = TN/(TN+FP): 0.95\n",
      "F1 Score = 2*TP/(2*TP+FP+FN): 0.44\n",
      "MCC = (TP*TN-FP*FN)/math.sqrt((TP+FP)*(TP+FN)*(TN+FP)*(TN+FN)): 0.35\n"
     ]
    },
    {
     "data": {
      "text/markdown": [
       "**Confusion Matrix Explanations:**"
      ],
      "text/plain": [
       "<IPython.core.display.Markdown object>"
      ]
     },
     "metadata": {},
     "output_type": "display_data"
    },
    {
     "name": "stdout",
     "output_type": "stream",
     "text": [
      "Accuracy - This is simply equal to the proportion of predictions that the model classified correctly.\n",
      "Precision - Precision is also known as positive predictive value and is the proportion of relevant instances among the retrieved instances. In other words, it answers the question \"What proportion of positive identifications was actually correct?\".\n",
      "Recall - Recall, also known as the sensitivity, hit rate, or the true positive rate (TPR), is the proportion of the total amount of relevant instances that were actually retrieved. It answers the question \"What proportion of actual positives was identified correctly?\".\n",
      "Specificity - Specificity, also known as the true negative rate (TNR), measures the proportion of actual negatives that are correctly identified as such. It is the opposite of recall.\n",
      "F1 Score - The F1 score is a measure of a test's accuracy — it is the harmonic mean of precision and recall. It can have a maximum score of 1 (perfect precision and recall) and a minimum of 0. Overall, it is a measure of the preciseness and robustness of your model.\n",
      "Matthews correlation coefficient (MCC) - The MCC is in essence a correlation coefficient between the observed and predicted binary classifications; it returns a value between -1 and +1. A coefficient of +1 represents a perfect prediction, 0 no better than random prediction and -1 indicates total disagreement between prediction and observation. The statistic is also known as the phi coefficient. MCC is related to the chi-square statistic for a 2x2 contingency table.\n"
     ]
    },
    {
     "data": {
      "text/markdown": [
       "**Classification Report:**"
      ],
      "text/plain": [
       "<IPython.core.display.Markdown object>"
      ]
     },
     "metadata": {},
     "output_type": "display_data"
    },
    {
     "name": "stdout",
     "output_type": "stream",
     "text": [
      "              precision    recall  f1-score   support\n",
      "\n",
      "         0.0       0.72      0.95      0.81        93\n",
      "         1.0       0.76      0.31      0.44        51\n",
      "\n",
      "   micro avg       0.72      0.72      0.72       144\n",
      "   macro avg       0.74      0.63      0.63       144\n",
      "weighted avg       0.73      0.72      0.68       144\n",
      "\n"
     ]
    },
    {
     "data": {
      "image/png": "[encoded data removed]",
      "text/plain": [
       "<Figure size 432x288 with 2 Axes>"
      ]
     },
     "metadata": {
      "needs_background": "light"
     },
     "output_type": "display_data"
    },
    {
     "data": {
      "image/png": "[encoded data removed]",
      "text/plain": [
       "<Figure size 432x288 with 1 Axes>"
      ]
     },
     "metadata": {
      "needs_background": "light"
     },
     "output_type": "display_data"
    },
    {
     "data": {
      "text/markdown": [
       "### Logistic Regression Model Fitting                               for Random State 1"
      ],
      "text/plain": [
       "<IPython.core.display.Markdown object>"
      ]
     },
     "metadata": {},
     "output_type": "display_data"
    },
    {
     "data": {
      "text/markdown": [
       "**Dataframe Object for Training and Test:**"
      ],
      "text/plain": [
       "<IPython.core.display.Markdown object>"
      ]
     },
     "metadata": {},
     "output_type": "display_data"
    },
    {
     "name": "stdout",
     "output_type": "stream",
     "text": [
      "<class 'pandas.core.frame.DataFrame'>\n",
      "Int64Index: 205 entries, 5 to 1026\n",
      "Columns: 16 entries, ID to Score\n",
      "dtypes: float64(11), int64(1), object(4)\n",
      "memory usage: 27.2+ KB\n",
      "None\n"
     ]
    },
    {
     "data": {
      "text/markdown": [
       "**Logistic Regression Model                              Information:**"
      ],
      "text/plain": [
       "<IPython.core.display.Markdown object>"
      ]
     },
     "metadata": {},
     "output_type": "display_data"
    },
    {
     "name": "stdout",
     "output_type": "stream",
     "text": [
      "The training accuracy 0.69\n",
      "The testing accuracy: 0.78\n",
      "Precision: 0.66\n",
      "Recall: 0.57\n",
      "Average precision-recall score: 0.51\n"
     ]
    },
    {
     "data": {
      "text/markdown": [
       "**Confusion Matrix Information:**"
      ],
      "text/plain": [
       "<IPython.core.display.Markdown object>"
      ]
     },
     "metadata": {},
     "output_type": "display_data"
    },
    {
     "name": "stdout",
     "output_type": "stream",
     "text": [
      "OBEC URLs that are predicted as False and we do not know (True Negatives): 87\n",
      "OBEC URLs that are predicted as False and we do know (False Negatives): 19\n",
      "OBEC URLs that are predicted as True and we do not know (False Positives): 13\n",
      "OBEC URLs that are predicted as True and we do know (True Positives): 25\n",
      "Accuracy = (TP+TN)/(TP+TN+FP+FN): 0.78\n",
      "Precision = TP/(TP+FP): 0.66\n",
      "Recall = TP/(TP+FN): 0.57\n",
      "Specificity = TN/(TN+FP): 0.87\n",
      "F1 Score = 2*TP/(2*TP+FP+FN): 0.61\n",
      "MCC = (TP*TN-FP*FN)/math.sqrt((TP+FP)*(TP+FN)*(TN+FP)*(TN+FN)): 0.46\n"
     ]
    },
    {
     "data": {
      "text/markdown": [
       "**Confusion Matrix Explanations:**"
      ],
      "text/plain": [
       "<IPython.core.display.Markdown object>"
      ]
     },
     "metadata": {},
     "output_type": "display_data"
    },
    {
     "name": "stdout",
     "output_type": "stream",
     "text": [
      "Accuracy - This is simply equal to the proportion of predictions that the model classified correctly.\n",
      "Precision - Precision is also known as positive predictive value and is the proportion of relevant instances among the retrieved instances. In other words, it answers the question \"What proportion of positive identifications was actually correct?\".\n",
      "Recall - Recall, also known as the sensitivity, hit rate, or the true positive rate (TPR), is the proportion of the total amount of relevant instances that were actually retrieved. It answers the question \"What proportion of actual positives was identified correctly?\".\n",
      "Specificity - Specificity, also known as the true negative rate (TNR), measures the proportion of actual negatives that are correctly identified as such. It is the opposite of recall.\n",
      "F1 Score - The F1 score is a measure of a test's accuracy — it is the harmonic mean of precision and recall. It can have a maximum score of 1 (perfect precision and recall) and a minimum of 0. Overall, it is a measure of the preciseness and robustness of your model.\n",
      "Matthews correlation coefficient (MCC) - The MCC is in essence a correlation coefficient between the observed and predicted binary classifications; it returns a value between -1 and +1. A coefficient of +1 represents a perfect prediction, 0 no better than random prediction and -1 indicates total disagreement between prediction and observation. The statistic is also known as the phi coefficient. MCC is related to the chi-square statistic for a 2x2 contingency table.\n"
     ]
    },
    {
     "data": {
      "text/markdown": [
       "**Classification Report:**"
      ],
      "text/plain": [
       "<IPython.core.display.Markdown object>"
      ]
     },
     "metadata": {},
     "output_type": "display_data"
    },
    {
     "name": "stdout",
     "output_type": "stream",
     "text": [
      "              precision    recall  f1-score   support\n",
      "\n",
      "         0.0       0.82      0.87      0.84       100\n",
      "         1.0       0.66      0.57      0.61        44\n",
      "\n",
      "   micro avg       0.78      0.78      0.78       144\n",
      "   macro avg       0.74      0.72      0.73       144\n",
      "weighted avg       0.77      0.78      0.77       144\n",
      "\n"
     ]
    },
    {
     "data": {
      "image/png": "[encoded data removed]",
      "text/plain": [
       "<Figure size 432x288 with 2 Axes>"
      ]
     },
     "metadata": {
      "needs_background": "light"
     },
     "output_type": "display_data"
    },
    {
     "data": {
      "image/png": "[encoded data removed]",
      "text/plain": [
       "<Figure size 432x288 with 1 Axes>"
      ]
     },
     "metadata": {
      "needs_background": "light"
     },
     "output_type": "display_data"
    },
    {
     "data": {
      "text/markdown": [
       "### Logistic Regression Model Fitting                               for Random State 2"
      ],
      "text/plain": [
       "<IPython.core.display.Markdown object>"
      ]
     },
     "metadata": {},
     "output_type": "display_data"
    },
    {
     "data": {
      "text/markdown": [
       "**Dataframe Object for Training and Test:**"
      ],
      "text/plain": [
       "<IPython.core.display.Markdown object>"
      ]
     },
     "metadata": {},
     "output_type": "display_data"
    },
    {
     "name": "stdout",
     "output_type": "stream",
     "text": [
      "<class 'pandas.core.frame.DataFrame'>\n",
      "Int64Index: 205 entries, 5 to 1026\n",
      "Columns: 16 entries, ID to Score\n",
      "dtypes: float64(11), int64(1), object(4)\n",
      "memory usage: 27.2+ KB\n",
      "None\n"
     ]
    },
    {
     "data": {
      "text/markdown": [
       "**Logistic Regression Model                              Information:**"
      ],
      "text/plain": [
       "<IPython.core.display.Markdown object>"
      ]
     },
     "metadata": {},
     "output_type": "display_data"
    },
    {
     "name": "stdout",
     "output_type": "stream",
     "text": [
      "The training accuracy 0.77\n",
      "The testing accuracy: 0.76\n",
      "Precision: 0.85\n",
      "Recall: 0.35\n",
      "Average precision-recall score: 0.52\n"
     ]
    },
    {
     "data": {
      "text/markdown": [
       "**Confusion Matrix Information:**"
      ],
      "text/plain": [
       "<IPython.core.display.Markdown object>"
      ]
     },
     "metadata": {},
     "output_type": "display_data"
    },
    {
     "name": "stdout",
     "output_type": "stream",
     "text": [
      "OBEC URLs that are predicted as False and we do not know (True Negatives): 93\n",
      "OBEC URLs that are predicted as False and we do know (False Negatives): 31\n",
      "OBEC URLs that are predicted as True and we do not know (False Positives): 3\n",
      "OBEC URLs that are predicted as True and we do know (True Positives): 17\n",
      "Accuracy = (TP+TN)/(TP+TN+FP+FN): 0.76\n",
      "Precision = TP/(TP+FP): 0.85\n",
      "Recall = TP/(TP+FN): 0.35\n",
      "Specificity = TN/(TN+FP): 0.97\n",
      "F1 Score = 2*TP/(2*TP+FP+FN): 0.5\n",
      "MCC = (TP*TN-FP*FN)/math.sqrt((TP+FP)*(TP+FN)*(TN+FP)*(TN+FN)): 0.44\n"
     ]
    },
    {
     "data": {
      "text/markdown": [
       "**Confusion Matrix Explanations:**"
      ],
      "text/plain": [
       "<IPython.core.display.Markdown object>"
      ]
     },
     "metadata": {},
     "output_type": "display_data"
    },
    {
     "name": "stdout",
     "output_type": "stream",
     "text": [
      "Accuracy - This is simply equal to the proportion of predictions that the model classified correctly.\n",
      "Precision - Precision is also known as positive predictive value and is the proportion of relevant instances among the retrieved instances. In other words, it answers the question \"What proportion of positive identifications was actually correct?\".\n",
      "Recall - Recall, also known as the sensitivity, hit rate, or the true positive rate (TPR), is the proportion of the total amount of relevant instances that were actually retrieved. It answers the question \"What proportion of actual positives was identified correctly?\".\n",
      "Specificity - Specificity, also known as the true negative rate (TNR), measures the proportion of actual negatives that are correctly identified as such. It is the opposite of recall.\n",
      "F1 Score - The F1 score is a measure of a test's accuracy — it is the harmonic mean of precision and recall. It can have a maximum score of 1 (perfect precision and recall) and a minimum of 0. Overall, it is a measure of the preciseness and robustness of your model.\n",
      "Matthews correlation coefficient (MCC) - The MCC is in essence a correlation coefficient between the observed and predicted binary classifications; it returns a value between -1 and +1. A coefficient of +1 represents a perfect prediction, 0 no better than random prediction and -1 indicates total disagreement between prediction and observation. The statistic is also known as the phi coefficient. MCC is related to the chi-square statistic for a 2x2 contingency table.\n"
     ]
    },
    {
     "data": {
      "text/markdown": [
       "**Classification Report:**"
      ],
      "text/plain": [
       "<IPython.core.display.Markdown object>"
      ]
     },
     "metadata": {},
     "output_type": "display_data"
    },
    {
     "name": "stdout",
     "output_type": "stream",
     "text": [
      "              precision    recall  f1-score   support\n",
      "\n",
      "         0.0       0.75      0.97      0.85        96\n",
      "         1.0       0.85      0.35      0.50        48\n",
      "\n",
      "   micro avg       0.76      0.76      0.76       144\n",
      "   macro avg       0.80      0.66      0.67       144\n",
      "weighted avg       0.78      0.76      0.73       144\n",
      "\n"
     ]
    },
    {
     "data": {
      "image/png": "[encoded data removed]",
      "text/plain": [
       "<Figure size 432x288 with 2 Axes>"
      ]
     },
     "metadata": {
      "needs_background": "light"
     },
     "output_type": "display_data"
    },
    {
     "data": {
      "image/png": "[encoded data removed]",
      "text/plain": [
       "<Figure size 432x288 with 1 Axes>"
      ]
     },
     "metadata": {
      "needs_background": "light"
     },
     "output_type": "display_data"
    },
    {
     "data": {
      "text/markdown": [
       "### Logistic Regression Model Fitting                               for Random State 3"
      ],
      "text/plain": [
       "<IPython.core.display.Markdown object>"
      ]
     },
     "metadata": {},
     "output_type": "display_data"
    },
    {
     "data": {
      "text/markdown": [
       "**Dataframe Object for Training and Test:**"
      ],
      "text/plain": [
       "<IPython.core.display.Markdown object>"
      ]
     },
     "metadata": {},
     "output_type": "display_data"
    },
    {
     "name": "stdout",
     "output_type": "stream",
     "text": [
      "<class 'pandas.core.frame.DataFrame'>\n",
      "Int64Index: 205 entries, 5 to 1026\n",
      "Columns: 16 entries, ID to Score\n",
      "dtypes: float64(11), int64(1), object(4)\n",
      "memory usage: 27.2+ KB\n",
      "None\n"
     ]
    },
    {
     "data": {
      "text/markdown": [
       "**Logistic Regression Model                              Information:**"
      ],
      "text/plain": [
       "<IPython.core.display.Markdown object>"
      ]
     },
     "metadata": {},
     "output_type": "display_data"
    },
    {
     "name": "stdout",
     "output_type": "stream",
     "text": [
      "The training accuracy 0.7\n",
      "The testing accuracy: 0.77\n",
      "Precision: 0.62\n",
      "Recall: 0.64\n",
      "Average precision-recall score: 0.51\n"
     ]
    },
    {
     "data": {
      "text/markdown": [
       "**Confusion Matrix Information:**"
      ],
      "text/plain": [
       "<IPython.core.display.Markdown object>"
      ]
     },
     "metadata": {},
     "output_type": "display_data"
    },
    {
     "name": "stdout",
     "output_type": "stream",
     "text": [
      "OBEC URLs that are predicted as False and we do not know (True Negatives): 83\n",
      "OBEC URLs that are predicted as False and we do know (False Negatives): 16\n",
      "OBEC URLs that are predicted as True and we do not know (False Positives): 17\n",
      "OBEC URLs that are predicted as True and we do know (True Positives): 28\n",
      "Accuracy = (TP+TN)/(TP+TN+FP+FN): 0.77\n",
      "Precision = TP/(TP+FP): 0.62\n",
      "Recall = TP/(TP+FN): 0.64\n",
      "Specificity = TN/(TN+FP): 0.83\n",
      "F1 Score = 2*TP/(2*TP+FP+FN): 0.63\n",
      "MCC = (TP*TN-FP*FN)/math.sqrt((TP+FP)*(TP+FN)*(TN+FP)*(TN+FN)): 0.46\n"
     ]
    },
    {
     "data": {
      "text/markdown": [
       "**Confusion Matrix Explanations:**"
      ],
      "text/plain": [
       "<IPython.core.display.Markdown object>"
      ]
     },
     "metadata": {},
     "output_type": "display_data"
    },
    {
     "name": "stdout",
     "output_type": "stream",
     "text": [
      "Accuracy - This is simply equal to the proportion of predictions that the model classified correctly.\n",
      "Precision - Precision is also known as positive predictive value and is the proportion of relevant instances among the retrieved instances. In other words, it answers the question \"What proportion of positive identifications was actually correct?\".\n",
      "Recall - Recall, also known as the sensitivity, hit rate, or the true positive rate (TPR), is the proportion of the total amount of relevant instances that were actually retrieved. It answers the question \"What proportion of actual positives was identified correctly?\".\n",
      "Specificity - Specificity, also known as the true negative rate (TNR), measures the proportion of actual negatives that are correctly identified as such. It is the opposite of recall.\n",
      "F1 Score - The F1 score is a measure of a test's accuracy — it is the harmonic mean of precision and recall. It can have a maximum score of 1 (perfect precision and recall) and a minimum of 0. Overall, it is a measure of the preciseness and robustness of your model.\n",
      "Matthews correlation coefficient (MCC) - The MCC is in essence a correlation coefficient between the observed and predicted binary classifications; it returns a value between -1 and +1. A coefficient of +1 represents a perfect prediction, 0 no better than random prediction and -1 indicates total disagreement between prediction and observation. The statistic is also known as the phi coefficient. MCC is related to the chi-square statistic for a 2x2 contingency table.\n"
     ]
    },
    {
     "data": {
      "text/markdown": [
       "**Classification Report:**"
      ],
      "text/plain": [
       "<IPython.core.display.Markdown object>"
      ]
     },
     "metadata": {},
     "output_type": "display_data"
    },
    {
     "name": "stdout",
     "output_type": "stream",
     "text": [
      "              precision    recall  f1-score   support\n",
      "\n",
      "         0.0       0.84      0.83      0.83       100\n",
      "         1.0       0.62      0.64      0.63        44\n",
      "\n",
      "   micro avg       0.77      0.77      0.77       144\n",
      "   macro avg       0.73      0.73      0.73       144\n",
      "weighted avg       0.77      0.77      0.77       144\n",
      "\n"
     ]
    },
    {
     "data": {
      "image/png": "[encoded data removed]",
      "text/plain": [
       "<Figure size 432x288 with 2 Axes>"
      ]
     },
     "metadata": {
      "needs_background": "light"
     },
     "output_type": "display_data"
    },
    {
     "data": {
      "image/png": "[encoded data removed]",
      "text/plain": [
       "<Figure size 432x288 with 1 Axes>"
      ]
     },
     "metadata": {
      "needs_background": "light"
     },
     "output_type": "display_data"
    },
    {
     "data": {
      "text/markdown": [
       "### Logistic Regression Model Fitting                               for Random State 4"
      ],
      "text/plain": [
       "<IPython.core.display.Markdown object>"
      ]
     },
     "metadata": {},
     "output_type": "display_data"
    },
    {
     "data": {
      "text/markdown": [
       "**Dataframe Object for Training and Test:**"
      ],
      "text/plain": [
       "<IPython.core.display.Markdown object>"
      ]
     },
     "metadata": {},
     "output_type": "display_data"
    },
    {
     "name": "stdout",
     "output_type": "stream",
     "text": [
      "<class 'pandas.core.frame.DataFrame'>\n",
      "Int64Index: 205 entries, 5 to 1026\n",
      "Columns: 16 entries, ID to Score\n",
      "dtypes: float64(11), int64(1), object(4)\n",
      "memory usage: 27.2+ KB\n",
      "None\n"
     ]
    },
    {
     "data": {
      "text/markdown": [
       "**Logistic Regression Model                              Information:**"
      ],
      "text/plain": [
       "<IPython.core.display.Markdown object>"
      ]
     },
     "metadata": {},
     "output_type": "display_data"
    },
    {
     "name": "stdout",
     "output_type": "stream",
     "text": [
      "The training accuracy 0.8\n",
      "The testing accuracy: 0.75\n",
      "Precision: 0.66\n",
      "Recall: 0.55\n",
      "Average precision-recall score: 0.52\n"
     ]
    },
    {
     "data": {
      "text/markdown": [
       "**Confusion Matrix Information:**"
      ],
      "text/plain": [
       "<IPython.core.display.Markdown object>"
      ]
     },
     "metadata": {},
     "output_type": "display_data"
    },
    {
     "name": "stdout",
     "output_type": "stream",
     "text": [
      "OBEC URLs that are predicted as False and we do not know (True Negatives): 81\n",
      "OBEC URLs that are predicted as False and we do know (False Negatives): 22\n",
      "OBEC URLs that are predicted as True and we do not know (False Positives): 14\n",
      "OBEC URLs that are predicted as True and we do know (True Positives): 27\n",
      "Accuracy = (TP+TN)/(TP+TN+FP+FN): 0.75\n",
      "Precision = TP/(TP+FP): 0.66\n",
      "Recall = TP/(TP+FN): 0.55\n",
      "Specificity = TN/(TN+FP): 0.85\n",
      "F1 Score = 2*TP/(2*TP+FP+FN): 0.6\n",
      "MCC = (TP*TN-FP*FN)/math.sqrt((TP+FP)*(TP+FN)*(TN+FP)*(TN+FN)): 0.42\n"
     ]
    },
    {
     "data": {
      "text/markdown": [
       "**Confusion Matrix Explanations:**"
      ],
      "text/plain": [
       "<IPython.core.display.Markdown object>"
      ]
     },
     "metadata": {},
     "output_type": "display_data"
    },
    {
     "name": "stdout",
     "output_type": "stream",
     "text": [
      "Accuracy - This is simply equal to the proportion of predictions that the model classified correctly.\n",
      "Precision - Precision is also known as positive predictive value and is the proportion of relevant instances among the retrieved instances. In other words, it answers the question \"What proportion of positive identifications was actually correct?\".\n",
      "Recall - Recall, also known as the sensitivity, hit rate, or the true positive rate (TPR), is the proportion of the total amount of relevant instances that were actually retrieved. It answers the question \"What proportion of actual positives was identified correctly?\".\n",
      "Specificity - Specificity, also known as the true negative rate (TNR), measures the proportion of actual negatives that are correctly identified as such. It is the opposite of recall.\n",
      "F1 Score - The F1 score is a measure of a test's accuracy — it is the harmonic mean of precision and recall. It can have a maximum score of 1 (perfect precision and recall) and a minimum of 0. Overall, it is a measure of the preciseness and robustness of your model.\n",
      "Matthews correlation coefficient (MCC) - The MCC is in essence a correlation coefficient between the observed and predicted binary classifications; it returns a value between -1 and +1. A coefficient of +1 represents a perfect prediction, 0 no better than random prediction and -1 indicates total disagreement between prediction and observation. The statistic is also known as the phi coefficient. MCC is related to the chi-square statistic for a 2x2 contingency table.\n"
     ]
    },
    {
     "data": {
      "text/markdown": [
       "**Classification Report:**"
      ],
      "text/plain": [
       "<IPython.core.display.Markdown object>"
      ]
     },
     "metadata": {},
     "output_type": "display_data"
    },
    {
     "name": "stdout",
     "output_type": "stream",
     "text": [
      "              precision    recall  f1-score   support\n",
      "\n",
      "         0.0       0.79      0.85      0.82        95\n",
      "         1.0       0.66      0.55      0.60        49\n",
      "\n",
      "   micro avg       0.75      0.75      0.75       144\n",
      "   macro avg       0.72      0.70      0.71       144\n",
      "weighted avg       0.74      0.75      0.74       144\n",
      "\n"
     ]
    },
    {
     "data": {
      "image/png": "[encoded data removed]",
      "text/plain": [
       "<Figure size 432x288 with 2 Axes>"
      ]
     },
     "metadata": {
      "needs_background": "light"
     },
     "output_type": "display_data"
    },
    {
     "data": {
      "image/png": "[encoded data removed]",
      "text/plain": [
       "<Figure size 432x288 with 1 Axes>"
      ]
     },
     "metadata": {
      "needs_background": "light"
     },
     "output_type": "display_data"
    },
    {
     "data": {
      "text/markdown": [
       "### Logistic Regression Model Fitting                               for Random State 5"
      ],
      "text/plain": [
       "<IPython.core.display.Markdown object>"
      ]
     },
     "metadata": {},
     "output_type": "display_data"
    },
    {
     "data": {
      "text/markdown": [
       "**Dataframe Object for Training and Test:**"
      ],
      "text/plain": [
       "<IPython.core.display.Markdown object>"
      ]
     },
     "metadata": {},
     "output_type": "display_data"
    },
    {
     "name": "stdout",
     "output_type": "stream",
     "text": [
      "<class 'pandas.core.frame.DataFrame'>\n",
      "Int64Index: 205 entries, 5 to 1026\n",
      "Columns: 16 entries, ID to Score\n",
      "dtypes: float64(11), int64(1), object(4)\n",
      "memory usage: 27.2+ KB\n",
      "None\n"
     ]
    },
    {
     "data": {
      "text/markdown": [
       "**Logistic Regression Model                              Information:**"
      ],
      "text/plain": [
       "<IPython.core.display.Markdown object>"
      ]
     },
     "metadata": {},
     "output_type": "display_data"
    },
    {
     "name": "stdout",
     "output_type": "stream",
     "text": [
      "The training accuracy 0.74\n",
      "The testing accuracy: 0.76\n",
      "Precision: 0.62\n",
      "Recall: 0.61\n",
      "Average precision-recall score: 0.5\n"
     ]
    },
    {
     "data": {
      "text/markdown": [
       "**Confusion Matrix Information:**"
      ],
      "text/plain": [
       "<IPython.core.display.Markdown object>"
      ]
     },
     "metadata": {},
     "output_type": "display_data"
    },
    {
     "name": "stdout",
     "output_type": "stream",
     "text": [
      "OBEC URLs that are predicted as False and we do not know (True Negatives): 81\n",
      "OBEC URLs that are predicted as False and we do know (False Negatives): 18\n",
      "OBEC URLs that are predicted as True and we do not know (False Positives): 17\n",
      "OBEC URLs that are predicted as True and we do know (True Positives): 28\n",
      "Accuracy = (TP+TN)/(TP+TN+FP+FN): 0.76\n",
      "Precision = TP/(TP+FP): 0.62\n",
      "Recall = TP/(TP+FN): 0.61\n",
      "Specificity = TN/(TN+FP): 0.83\n",
      "F1 Score = 2*TP/(2*TP+FP+FN): 0.62\n",
      "MCC = (TP*TN-FP*FN)/math.sqrt((TP+FP)*(TP+FN)*(TN+FP)*(TN+FN)): 0.44\n"
     ]
    },
    {
     "data": {
      "text/markdown": [
       "**Confusion Matrix Explanations:**"
      ],
      "text/plain": [
       "<IPython.core.display.Markdown object>"
      ]
     },
     "metadata": {},
     "output_type": "display_data"
    },
    {
     "name": "stdout",
     "output_type": "stream",
     "text": [
      "Accuracy - This is simply equal to the proportion of predictions that the model classified correctly.\n",
      "Precision - Precision is also known as positive predictive value and is the proportion of relevant instances among the retrieved instances. In other words, it answers the question \"What proportion of positive identifications was actually correct?\".\n",
      "Recall - Recall, also known as the sensitivity, hit rate, or the true positive rate (TPR), is the proportion of the total amount of relevant instances that were actually retrieved. It answers the question \"What proportion of actual positives was identified correctly?\".\n",
      "Specificity - Specificity, also known as the true negative rate (TNR), measures the proportion of actual negatives that are correctly identified as such. It is the opposite of recall.\n",
      "F1 Score - The F1 score is a measure of a test's accuracy — it is the harmonic mean of precision and recall. It can have a maximum score of 1 (perfect precision and recall) and a minimum of 0. Overall, it is a measure of the preciseness and robustness of your model.\n",
      "Matthews correlation coefficient (MCC) - The MCC is in essence a correlation coefficient between the observed and predicted binary classifications; it returns a value between -1 and +1. A coefficient of +1 represents a perfect prediction, 0 no better than random prediction and -1 indicates total disagreement between prediction and observation. The statistic is also known as the phi coefficient. MCC is related to the chi-square statistic for a 2x2 contingency table.\n"
     ]
    },
    {
     "data": {
      "text/markdown": [
       "**Classification Report:**"
      ],
      "text/plain": [
       "<IPython.core.display.Markdown object>"
      ]
     },
     "metadata": {},
     "output_type": "display_data"
    },
    {
     "name": "stdout",
     "output_type": "stream",
     "text": [
      "              precision    recall  f1-score   support\n",
      "\n",
      "         0.0       0.82      0.83      0.82        98\n",
      "         1.0       0.62      0.61      0.62        46\n",
      "\n",
      "   micro avg       0.76      0.76      0.76       144\n",
      "   macro avg       0.72      0.72      0.72       144\n",
      "weighted avg       0.76      0.76      0.76       144\n",
      "\n"
     ]
    },
    {
     "data": {
      "image/png": "[encoded data removed]",
      "text/plain": [
       "<Figure size 432x288 with 2 Axes>"
      ]
     },
     "metadata": {
      "needs_background": "light"
     },
     "output_type": "display_data"
    },
    {
     "data": {
      "image/png": "[encoded data removed]",
      "text/plain": [
       "<Figure size 432x288 with 1 Axes>"
      ]
     },
     "metadata": {
      "needs_background": "light"
     },
     "output_type": "display_data"
    },
    {
     "data": {
      "text/markdown": [
       "### Logistic Regression Model Fitting                               for Random State 6"
      ],
      "text/plain": [
       "<IPython.core.display.Markdown object>"
      ]
     },
     "metadata": {},
     "output_type": "display_data"
    },
    {
     "data": {
      "text/markdown": [
       "**Dataframe Object for Training and Test:**"
      ],
      "text/plain": [
       "<IPython.core.display.Markdown object>"
      ]
     },
     "metadata": {},
     "output_type": "display_data"
    },
    {
     "name": "stdout",
     "output_type": "stream",
     "text": [
      "<class 'pandas.core.frame.DataFrame'>\n",
      "Int64Index: 205 entries, 5 to 1026\n",
      "Columns: 16 entries, ID to Score\n",
      "dtypes: float64(11), int64(1), object(4)\n",
      "memory usage: 27.2+ KB\n",
      "None\n"
     ]
    },
    {
     "data": {
      "text/markdown": [
       "**Logistic Regression Model                              Information:**"
      ],
      "text/plain": [
       "<IPython.core.display.Markdown object>"
      ]
     },
     "metadata": {},
     "output_type": "display_data"
    },
    {
     "name": "stdout",
     "output_type": "stream",
     "text": [
      "The training accuracy 0.82\n",
      "The testing accuracy: 0.7\n",
      "Precision: 0.51\n",
      "Recall: 0.78\n",
      "Average precision-recall score: 0.47\n"
     ]
    },
    {
     "data": {
      "text/markdown": [
       "**Confusion Matrix Information:**"
      ],
      "text/plain": [
       "<IPython.core.display.Markdown object>"
      ]
     },
     "metadata": {},
     "output_type": "display_data"
    },
    {
     "name": "stdout",
     "output_type": "stream",
     "text": [
      "OBEC URLs that are predicted as False and we do not know (True Negatives): 66\n",
      "OBEC URLs that are predicted as False and we do know (False Negatives): 10\n",
      "OBEC URLs that are predicted as True and we do not know (False Positives): 33\n",
      "OBEC URLs that are predicted as True and we do know (True Positives): 35\n",
      "Accuracy = (TP+TN)/(TP+TN+FP+FN): 0.7\n",
      "Precision = TP/(TP+FP): 0.51\n",
      "Recall = TP/(TP+FN): 0.78\n",
      "Specificity = TN/(TN+FP): 0.67\n",
      "F1 Score = 2*TP/(2*TP+FP+FN): 0.62\n",
      "MCC = (TP*TN-FP*FN)/math.sqrt((TP+FP)*(TP+FN)*(TN+FP)*(TN+FN)): 0.41\n"
     ]
    },
    {
     "data": {
      "text/markdown": [
       "**Confusion Matrix Explanations:**"
      ],
      "text/plain": [
       "<IPython.core.display.Markdown object>"
      ]
     },
     "metadata": {},
     "output_type": "display_data"
    },
    {
     "name": "stdout",
     "output_type": "stream",
     "text": [
      "Accuracy - This is simply equal to the proportion of predictions that the model classified correctly.\n",
      "Precision - Precision is also known as positive predictive value and is the proportion of relevant instances among the retrieved instances. In other words, it answers the question \"What proportion of positive identifications was actually correct?\".\n",
      "Recall - Recall, also known as the sensitivity, hit rate, or the true positive rate (TPR), is the proportion of the total amount of relevant instances that were actually retrieved. It answers the question \"What proportion of actual positives was identified correctly?\".\n",
      "Specificity - Specificity, also known as the true negative rate (TNR), measures the proportion of actual negatives that are correctly identified as such. It is the opposite of recall.\n",
      "F1 Score - The F1 score is a measure of a test's accuracy — it is the harmonic mean of precision and recall. It can have a maximum score of 1 (perfect precision and recall) and a minimum of 0. Overall, it is a measure of the preciseness and robustness of your model.\n",
      "Matthews correlation coefficient (MCC) - The MCC is in essence a correlation coefficient between the observed and predicted binary classifications; it returns a value between -1 and +1. A coefficient of +1 represents a perfect prediction, 0 no better than random prediction and -1 indicates total disagreement between prediction and observation. The statistic is also known as the phi coefficient. MCC is related to the chi-square statistic for a 2x2 contingency table.\n"
     ]
    },
    {
     "data": {
      "text/markdown": [
       "**Classification Report:**"
      ],
      "text/plain": [
       "<IPython.core.display.Markdown object>"
      ]
     },
     "metadata": {},
     "output_type": "display_data"
    },
    {
     "name": "stdout",
     "output_type": "stream",
     "text": [
      "              precision    recall  f1-score   support\n",
      "\n",
      "         0.0       0.87      0.67      0.75        99\n",
      "         1.0       0.51      0.78      0.62        45\n",
      "\n",
      "   micro avg       0.70      0.70      0.70       144\n",
      "   macro avg       0.69      0.72      0.69       144\n",
      "weighted avg       0.76      0.70      0.71       144\n",
      "\n"
     ]
    },
    {
     "data": {
      "image/png": "[encoded data removed]",
      "text/plain": [
       "<Figure size 432x288 with 2 Axes>"
      ]
     },
     "metadata": {
      "needs_background": "light"
     },
     "output_type": "display_data"
    },
    {
     "data": {
      "image/png": "[encoded data removed]",
      "text/plain": [
       "<Figure size 432x288 with 1 Axes>"
      ]
     },
     "metadata": {
      "needs_background": "light"
     },
     "output_type": "display_data"
    },
    {
     "data": {
      "text/markdown": [
       "### Logistic Regression Model Fitting                               for Random State 7"
      ],
      "text/plain": [
       "<IPython.core.display.Markdown object>"
      ]
     },
     "metadata": {},
     "output_type": "display_data"
    },
    {
     "data": {
      "text/markdown": [
       "**Dataframe Object for Training and Test:**"
      ],
      "text/plain": [
       "<IPython.core.display.Markdown object>"
      ]
     },
     "metadata": {},
     "output_type": "display_data"
    },
    {
     "name": "stdout",
     "output_type": "stream",
     "text": [
      "<class 'pandas.core.frame.DataFrame'>\n",
      "Int64Index: 205 entries, 5 to 1026\n",
      "Columns: 16 entries, ID to Score\n",
      "dtypes: float64(11), int64(1), object(4)\n",
      "memory usage: 27.2+ KB\n",
      "None\n"
     ]
    },
    {
     "data": {
      "text/markdown": [
       "**Logistic Regression Model                              Information:**"
      ],
      "text/plain": [
       "<IPython.core.display.Markdown object>"
      ]
     },
     "metadata": {},
     "output_type": "display_data"
    },
    {
     "name": "stdout",
     "output_type": "stream",
     "text": [
      "The training accuracy 0.75\n",
      "The testing accuracy: 0.77\n",
      "Precision: 0.88\n",
      "Recall: 0.33\n",
      "Average precision-recall score: 0.5\n"
     ]
    },
    {
     "data": {
      "text/markdown": [
       "**Confusion Matrix Information:**"
      ],
      "text/plain": [
       "<IPython.core.display.Markdown object>"
      ]
     },
     "metadata": {},
     "output_type": "display_data"
    },
    {
     "name": "stdout",
     "output_type": "stream",
     "text": [
      "OBEC URLs that are predicted as False and we do not know (True Negatives): 96\n",
      "OBEC URLs that are predicted as False and we do know (False Negatives): 31\n",
      "OBEC URLs that are predicted as True and we do not know (False Positives): 2\n",
      "OBEC URLs that are predicted as True and we do know (True Positives): 15\n",
      "Accuracy = (TP+TN)/(TP+TN+FP+FN): 0.77\n",
      "Precision = TP/(TP+FP): 0.88\n",
      "Recall = TP/(TP+FN): 0.33\n",
      "Specificity = TN/(TN+FP): 0.98\n",
      "F1 Score = 2*TP/(2*TP+FP+FN): 0.48\n",
      "MCC = (TP*TN-FP*FN)/math.sqrt((TP+FP)*(TP+FN)*(TN+FP)*(TN+FN)): 0.44\n"
     ]
    },
    {
     "data": {
      "text/markdown": [
       "**Confusion Matrix Explanations:**"
      ],
      "text/plain": [
       "<IPython.core.display.Markdown object>"
      ]
     },
     "metadata": {},
     "output_type": "display_data"
    },
    {
     "name": "stdout",
     "output_type": "stream",
     "text": [
      "Accuracy - This is simply equal to the proportion of predictions that the model classified correctly.\n",
      "Precision - Precision is also known as positive predictive value and is the proportion of relevant instances among the retrieved instances. In other words, it answers the question \"What proportion of positive identifications was actually correct?\".\n",
      "Recall - Recall, also known as the sensitivity, hit rate, or the true positive rate (TPR), is the proportion of the total amount of relevant instances that were actually retrieved. It answers the question \"What proportion of actual positives was identified correctly?\".\n",
      "Specificity - Specificity, also known as the true negative rate (TNR), measures the proportion of actual negatives that are correctly identified as such. It is the opposite of recall.\n",
      "F1 Score - The F1 score is a measure of a test's accuracy — it is the harmonic mean of precision and recall. It can have a maximum score of 1 (perfect precision and recall) and a minimum of 0. Overall, it is a measure of the preciseness and robustness of your model.\n",
      "Matthews correlation coefficient (MCC) - The MCC is in essence a correlation coefficient between the observed and predicted binary classifications; it returns a value between -1 and +1. A coefficient of +1 represents a perfect prediction, 0 no better than random prediction and -1 indicates total disagreement between prediction and observation. The statistic is also known as the phi coefficient. MCC is related to the chi-square statistic for a 2x2 contingency table.\n"
     ]
    },
    {
     "data": {
      "text/markdown": [
       "**Classification Report:**"
      ],
      "text/plain": [
       "<IPython.core.display.Markdown object>"
      ]
     },
     "metadata": {},
     "output_type": "display_data"
    },
    {
     "name": "stdout",
     "output_type": "stream",
     "text": [
      "              precision    recall  f1-score   support\n",
      "\n",
      "         0.0       0.76      0.98      0.85        98\n",
      "         1.0       0.88      0.33      0.48        46\n",
      "\n",
      "   micro avg       0.77      0.77      0.77       144\n",
      "   macro avg       0.82      0.65      0.66       144\n",
      "weighted avg       0.80      0.77      0.73       144\n",
      "\n"
     ]
    },
    {
     "data": {
      "image/png": "[encoded data removed]",
      "text/plain": [
       "<Figure size 432x288 with 2 Axes>"
      ]
     },
     "metadata": {
      "needs_background": "light"
     },
     "output_type": "display_data"
    },
    {
     "data": {
      "image/png": "[encoded data removed]",
      "text/plain": [
       "<Figure size 432x288 with 1 Axes>"
      ]
     },
     "metadata": {
      "needs_background": "light"
     },
     "output_type": "display_data"
    },
    {
     "data": {
      "text/markdown": [
       "### Logistic Regression Model Fitting                               for Random State 8"
      ],
      "text/plain": [
       "<IPython.core.display.Markdown object>"
      ]
     },
     "metadata": {},
     "output_type": "display_data"
    },
    {
     "data": {
      "text/markdown": [
       "**Dataframe Object for Training and Test:**"
      ],
      "text/plain": [
       "<IPython.core.display.Markdown object>"
      ]
     },
     "metadata": {},
     "output_type": "display_data"
    },
    {
     "name": "stdout",
     "output_type": "stream",
     "text": [
      "<class 'pandas.core.frame.DataFrame'>\n",
      "Int64Index: 205 entries, 5 to 1026\n",
      "Columns: 16 entries, ID to Score\n",
      "dtypes: float64(11), int64(1), object(4)\n",
      "memory usage: 27.2+ KB\n",
      "None\n"
     ]
    },
    {
     "data": {
      "text/markdown": [
       "**Logistic Regression Model                              Information:**"
      ],
      "text/plain": [
       "<IPython.core.display.Markdown object>"
      ]
     },
     "metadata": {},
     "output_type": "display_data"
    },
    {
     "name": "stdout",
     "output_type": "stream",
     "text": [
      "The training accuracy 0.84\n",
      "The testing accuracy: 0.73\n",
      "Precision: 0.61\n",
      "Recall: 0.55\n",
      "Average precision-recall score: 0.49\n"
     ]
    },
    {
     "data": {
      "text/markdown": [
       "**Confusion Matrix Information:**"
      ],
      "text/plain": [
       "<IPython.core.display.Markdown object>"
      ]
     },
     "metadata": {},
     "output_type": "display_data"
    },
    {
     "name": "stdout",
     "output_type": "stream",
     "text": [
      "OBEC URLs that are predicted as False and we do not know (True Negatives): 78\n",
      "OBEC URLs that are predicted as False and we do know (False Negatives): 22\n",
      "OBEC URLs that are predicted as True and we do not know (False Positives): 17\n",
      "OBEC URLs that are predicted as True and we do know (True Positives): 27\n",
      "Accuracy = (TP+TN)/(TP+TN+FP+FN): 0.73\n",
      "Precision = TP/(TP+FP): 0.61\n",
      "Recall = TP/(TP+FN): 0.55\n",
      "Specificity = TN/(TN+FP): 0.82\n",
      "F1 Score = 2*TP/(2*TP+FP+FN): 0.58\n",
      "MCC = (TP*TN-FP*FN)/math.sqrt((TP+FP)*(TP+FN)*(TN+FP)*(TN+FN)): 0.38\n"
     ]
    },
    {
     "data": {
      "text/markdown": [
       "**Confusion Matrix Explanations:**"
      ],
      "text/plain": [
       "<IPython.core.display.Markdown object>"
      ]
     },
     "metadata": {},
     "output_type": "display_data"
    },
    {
     "name": "stdout",
     "output_type": "stream",
     "text": [
      "Accuracy - This is simply equal to the proportion of predictions that the model classified correctly.\n",
      "Precision - Precision is also known as positive predictive value and is the proportion of relevant instances among the retrieved instances. In other words, it answers the question \"What proportion of positive identifications was actually correct?\".\n",
      "Recall - Recall, also known as the sensitivity, hit rate, or the true positive rate (TPR), is the proportion of the total amount of relevant instances that were actually retrieved. It answers the question \"What proportion of actual positives was identified correctly?\".\n",
      "Specificity - Specificity, also known as the true negative rate (TNR), measures the proportion of actual negatives that are correctly identified as such. It is the opposite of recall.\n",
      "F1 Score - The F1 score is a measure of a test's accuracy — it is the harmonic mean of precision and recall. It can have a maximum score of 1 (perfect precision and recall) and a minimum of 0. Overall, it is a measure of the preciseness and robustness of your model.\n",
      "Matthews correlation coefficient (MCC) - The MCC is in essence a correlation coefficient between the observed and predicted binary classifications; it returns a value between -1 and +1. A coefficient of +1 represents a perfect prediction, 0 no better than random prediction and -1 indicates total disagreement between prediction and observation. The statistic is also known as the phi coefficient. MCC is related to the chi-square statistic for a 2x2 contingency table.\n"
     ]
    },
    {
     "data": {
      "text/markdown": [
       "**Classification Report:**"
      ],
      "text/plain": [
       "<IPython.core.display.Markdown object>"
      ]
     },
     "metadata": {},
     "output_type": "display_data"
    },
    {
     "name": "stdout",
     "output_type": "stream",
     "text": [
      "              precision    recall  f1-score   support\n",
      "\n",
      "         0.0       0.78      0.82      0.80        95\n",
      "         1.0       0.61      0.55      0.58        49\n",
      "\n",
      "   micro avg       0.73      0.73      0.73       144\n",
      "   macro avg       0.70      0.69      0.69       144\n",
      "weighted avg       0.72      0.73      0.73       144\n",
      "\n"
     ]
    },
    {
     "data": {
      "image/png": "[encoded data removed]",
      "text/plain": [
       "<Figure size 432x288 with 2 Axes>"
      ]
     },
     "metadata": {
      "needs_background": "light"
     },
     "output_type": "display_data"
    },
    {
     "data": {
      "image/png": "[encoded data removed]",
      "text/plain": [
       "<Figure size 432x288 with 1 Axes>"
      ]
     },
     "metadata": {
      "needs_background": "light"
     },
     "output_type": "display_data"
    },
    {
     "data": {
      "text/markdown": [
       "### Logistic Regression Model Fitting                               for Random State 9"
      ],
      "text/plain": [
       "<IPython.core.display.Markdown object>"
      ]
     },
     "metadata": {},
     "output_type": "display_data"
    },
    {
     "data": {
      "text/markdown": [
       "**Dataframe Object for Training and Test:**"
      ],
      "text/plain": [
       "<IPython.core.display.Markdown object>"
      ]
     },
     "metadata": {},
     "output_type": "display_data"
    },
    {
     "name": "stdout",
     "output_type": "stream",
     "text": [
      "<class 'pandas.core.frame.DataFrame'>\n",
      "Int64Index: 205 entries, 5 to 1026\n",
      "Columns: 16 entries, ID to Score\n",
      "dtypes: float64(11), int64(1), object(4)\n",
      "memory usage: 27.2+ KB\n",
      "None\n"
     ]
    },
    {
     "data": {
      "text/markdown": [
       "**Logistic Regression Model                              Information:**"
      ],
      "text/plain": [
       "<IPython.core.display.Markdown object>"
      ]
     },
     "metadata": {},
     "output_type": "display_data"
    },
    {
     "name": "stdout",
     "output_type": "stream",
     "text": [
      "The training accuracy 0.79\n",
      "The testing accuracy: 0.76\n",
      "Precision: 0.66\n",
      "Recall: 0.59\n",
      "Average precision-recall score: 0.53\n"
     ]
    },
    {
     "data": {
      "text/markdown": [
       "**Confusion Matrix Information:**"
      ],
      "text/plain": [
       "<IPython.core.display.Markdown object>"
      ]
     },
     "metadata": {},
     "output_type": "display_data"
    },
    {
     "name": "stdout",
     "output_type": "stream",
     "text": [
      "OBEC URLs that are predicted as False and we do not know (True Negatives): 80\n",
      "OBEC URLs that are predicted as False and we do know (False Negatives): 20\n",
      "OBEC URLs that are predicted as True and we do not know (False Positives): 15\n",
      "OBEC URLs that are predicted as True and we do know (True Positives): 29\n",
      "Accuracy = (TP+TN)/(TP+TN+FP+FN): 0.76\n",
      "Precision = TP/(TP+FP): 0.66\n",
      "Recall = TP/(TP+FN): 0.59\n",
      "Specificity = TN/(TN+FP): 0.84\n",
      "F1 Score = 2*TP/(2*TP+FP+FN): 0.62\n",
      "MCC = (TP*TN-FP*FN)/math.sqrt((TP+FP)*(TP+FN)*(TN+FP)*(TN+FN)): 0.45\n"
     ]
    },
    {
     "data": {
      "text/markdown": [
       "**Confusion Matrix Explanations:**"
      ],
      "text/plain": [
       "<IPython.core.display.Markdown object>"
      ]
     },
     "metadata": {},
     "output_type": "display_data"
    },
    {
     "name": "stdout",
     "output_type": "stream",
     "text": [
      "Accuracy - This is simply equal to the proportion of predictions that the model classified correctly.\n",
      "Precision - Precision is also known as positive predictive value and is the proportion of relevant instances among the retrieved instances. In other words, it answers the question \"What proportion of positive identifications was actually correct?\".\n",
      "Recall - Recall, also known as the sensitivity, hit rate, or the true positive rate (TPR), is the proportion of the total amount of relevant instances that were actually retrieved. It answers the question \"What proportion of actual positives was identified correctly?\".\n",
      "Specificity - Specificity, also known as the true negative rate (TNR), measures the proportion of actual negatives that are correctly identified as such. It is the opposite of recall.\n",
      "F1 Score - The F1 score is a measure of a test's accuracy — it is the harmonic mean of precision and recall. It can have a maximum score of 1 (perfect precision and recall) and a minimum of 0. Overall, it is a measure of the preciseness and robustness of your model.\n",
      "Matthews correlation coefficient (MCC) - The MCC is in essence a correlation coefficient between the observed and predicted binary classifications; it returns a value between -1 and +1. A coefficient of +1 represents a perfect prediction, 0 no better than random prediction and -1 indicates total disagreement between prediction and observation. The statistic is also known as the phi coefficient. MCC is related to the chi-square statistic for a 2x2 contingency table.\n"
     ]
    },
    {
     "data": {
      "text/markdown": [
       "**Classification Report:**"
      ],
      "text/plain": [
       "<IPython.core.display.Markdown object>"
      ]
     },
     "metadata": {},
     "output_type": "display_data"
    },
    {
     "name": "stdout",
     "output_type": "stream",
     "text": [
      "              precision    recall  f1-score   support\n",
      "\n",
      "         0.0       0.80      0.84      0.82        95\n",
      "         1.0       0.66      0.59      0.62        49\n",
      "\n",
      "   micro avg       0.76      0.76      0.76       144\n",
      "   macro avg       0.73      0.72      0.72       144\n",
      "weighted avg       0.75      0.76      0.75       144\n",
      "\n"
     ]
    },
    {
     "data": {
      "image/png": "[encoded data removed]",
      "text/plain": [
       "<Figure size 432x288 with 2 Axes>"
      ]
     },
     "metadata": {
      "needs_background": "light"
     },
     "output_type": "display_data"
    },
    {
     "data": {
      "image/png": "[encoded data removed]",
      "text/plain": [
       "<Figure size 432x288 with 1 Axes>"
      ]
     },
     "metadata": {
      "needs_background": "light"
     },
     "output_type": "display_data"
    }
   ],
   "source": [
    "dfm = ml.multiple(test_size=0.7, max_iter=3333, multiple=10, random=False, mcc=0.3)"
   ]
  },
  {
   "cell_type": "code",
   "execution_count": 50,
   "metadata": {},
   "outputs": [
    {
     "name": "stdout",
     "output_type": "stream",
     "text": [
      "<class 'pandas.core.frame.DataFrame'>\n",
      "RangeIndex: 10300 entries, 0 to 10299\n",
      "Columns: 13 entries, ID to 1\n",
      "dtypes: float64(8), int64(1), object(4)\n",
      "memory usage: 1.0+ MB\n"
     ]
    },
    {
     "data": {
      "text/html": [
       "<div>\n",
       "<style scoped>\n",
       "    .dataframe tbody tr th:only-of-type {\n",
       "        vertical-align: middle;\n",
       "    }\n",
       "\n",
       "    .dataframe tbody tr th {\n",
       "        vertical-align: top;\n",
       "    }\n",
       "\n",
       "    .dataframe thead th {\n",
       "        text-align: right;\n",
       "    }\n",
       "</style>\n",
       "<table border=\"1\" class=\"dataframe\">\n",
       "  <thead>\n",
       "    <tr style=\"text-align: right;\">\n",
       "      <th></th>\n",
       "      <th>ID</th>\n",
       "      <th>Name</th>\n",
       "      <th>Suggested URL</th>\n",
       "      <th>Link position</th>\n",
       "      <th>Has equal domain</th>\n",
       "      <th>Has Simple Suggested URL</th>\n",
       "      <th>OBEC</th>\n",
       "      <th>Known OBEC</th>\n",
       "      <th>sum</th>\n",
       "      <th>Score</th>\n",
       "      <th>predict</th>\n",
       "      <th>0</th>\n",
       "      <th>1</th>\n",
       "    </tr>\n",
       "  </thead>\n",
       "  <tbody>\n",
       "    <tr>\n",
       "      <th>0</th>\n",
       "      <td>000000000</td>\n",
       "      <td>National Statistical Institute</td>\n",
       "      <td>https://ine.es/en/</td>\n",
       "      <td>5.0</td>\n",
       "      <td>0.0</td>\n",
       "      <td>1.0</td>\n",
       "      <td>NaN</td>\n",
       "      <td>0</td>\n",
       "      <td>1.0</td>\n",
       "      <td>0.95</td>\n",
       "      <td>0.0</td>\n",
       "      <td>0.982881</td>\n",
       "      <td>0.017119</td>\n",
       "    </tr>\n",
       "    <tr>\n",
       "      <th>1</th>\n",
       "      <td>000000000</td>\n",
       "      <td>National Statistical Institute</td>\n",
       "      <td>https://ine.es/en/</td>\n",
       "      <td>5.0</td>\n",
       "      <td>0.0</td>\n",
       "      <td>1.0</td>\n",
       "      <td>NaN</td>\n",
       "      <td>0</td>\n",
       "      <td>1.0</td>\n",
       "      <td>0.95</td>\n",
       "      <td>0.0</td>\n",
       "      <td>0.955760</td>\n",
       "      <td>0.044240</td>\n",
       "    </tr>\n",
       "    <tr>\n",
       "      <th>2</th>\n",
       "      <td>000000000</td>\n",
       "      <td>National Statistical Institute</td>\n",
       "      <td>https://ine.es/en/</td>\n",
       "      <td>5.0</td>\n",
       "      <td>0.0</td>\n",
       "      <td>1.0</td>\n",
       "      <td>NaN</td>\n",
       "      <td>0</td>\n",
       "      <td>1.0</td>\n",
       "      <td>0.95</td>\n",
       "      <td>0.0</td>\n",
       "      <td>0.975614</td>\n",
       "      <td>0.024386</td>\n",
       "    </tr>\n",
       "    <tr>\n",
       "      <th>3</th>\n",
       "      <td>000000000</td>\n",
       "      <td>National Statistical Institute</td>\n",
       "      <td>https://insse.ro/cms/en</td>\n",
       "      <td>1.0</td>\n",
       "      <td>0.0</td>\n",
       "      <td>0.0</td>\n",
       "      <td>NaN</td>\n",
       "      <td>0</td>\n",
       "      <td>1.0</td>\n",
       "      <td>0.99</td>\n",
       "      <td>0.0</td>\n",
       "      <td>0.974735</td>\n",
       "      <td>0.025265</td>\n",
       "    </tr>\n",
       "    <tr>\n",
       "      <th>4</th>\n",
       "      <td>000000000</td>\n",
       "      <td>National Statistical Institute</td>\n",
       "      <td>https://nis.gov.kh/</td>\n",
       "      <td>9.0</td>\n",
       "      <td>0.0</td>\n",
       "      <td>1.0</td>\n",
       "      <td>NaN</td>\n",
       "      <td>0</td>\n",
       "      <td>1.0</td>\n",
       "      <td>0.91</td>\n",
       "      <td>0.0</td>\n",
       "      <td>0.976464</td>\n",
       "      <td>0.023536</td>\n",
       "    </tr>\n",
       "  </tbody>\n",
       "</table>\n",
       "</div>"
      ],
      "text/plain": [
       "          ID                            Name            Suggested URL  \\\n",
       "0  000000000  National Statistical Institute       https://ine.es/en/   \n",
       "1  000000000  National Statistical Institute       https://ine.es/en/   \n",
       "2  000000000  National Statistical Institute       https://ine.es/en/   \n",
       "3  000000000  National Statistical Institute  https://insse.ro/cms/en   \n",
       "4  000000000  National Statistical Institute      https://nis.gov.kh/   \n",
       "\n",
       "   Link position  Has equal domain  Has Simple Suggested URL OBEC  Known OBEC  \\\n",
       "0            5.0               0.0                       1.0  NaN           0   \n",
       "1            5.0               0.0                       1.0  NaN           0   \n",
       "2            5.0               0.0                       1.0  NaN           0   \n",
       "3            1.0               0.0                       0.0  NaN           0   \n",
       "4            9.0               0.0                       1.0  NaN           0   \n",
       "\n",
       "   sum  Score  predict         0         1  \n",
       "0  1.0   0.95      0.0  0.982881  0.017119  \n",
       "1  1.0   0.95      0.0  0.955760  0.044240  \n",
       "2  1.0   0.95      0.0  0.975614  0.024386  \n",
       "3  1.0   0.99      0.0  0.974735  0.025265  \n",
       "4  1.0   0.91      0.0  0.976464  0.023536  "
      ]
     },
     "execution_count": 50,
     "metadata": {},
     "output_type": "execute_result"
    }
   ],
   "source": [
    "dfm.info(verbose=False)\n",
    "dfm.head(5)"
   ]
  },
  {
   "cell_type": "code",
   "execution_count": 51,
   "metadata": {},
   "outputs": [
    {
     "name": "stdout",
     "output_type": "stream",
     "text": [
      "<class 'pandas.core.frame.DataFrame'>\n",
      "Int64Index: 1104 entries, 3852 to 3861\n",
      "Columns: 13 entries, ID to 1\n",
      "dtypes: float64(8), int64(1), object(4)\n",
      "memory usage: 120.8+ KB\n"
     ]
    },
    {
     "data": {
      "text/html": [
       "<div>\n",
       "<style scoped>\n",
       "    .dataframe tbody tr th:only-of-type {\n",
       "        vertical-align: middle;\n",
       "    }\n",
       "\n",
       "    .dataframe tbody tr th {\n",
       "        vertical-align: top;\n",
       "    }\n",
       "\n",
       "    .dataframe thead th {\n",
       "        text-align: right;\n",
       "    }\n",
       "</style>\n",
       "<table border=\"1\" class=\"dataframe\">\n",
       "  <thead>\n",
       "    <tr style=\"text-align: right;\">\n",
       "      <th></th>\n",
       "      <th>ID</th>\n",
       "      <th>Name</th>\n",
       "      <th>Suggested URL</th>\n",
       "      <th>Link position</th>\n",
       "      <th>Has equal domain</th>\n",
       "      <th>Has Simple Suggested URL</th>\n",
       "      <th>OBEC</th>\n",
       "      <th>Known OBEC</th>\n",
       "      <th>sum</th>\n",
       "      <th>Score</th>\n",
       "      <th>predict</th>\n",
       "      <th>0</th>\n",
       "      <th>1</th>\n",
       "    </tr>\n",
       "  </thead>\n",
       "  <tbody>\n",
       "    <tr>\n",
       "      <th>3852</th>\n",
       "      <td>000000078</td>\n",
       "      <td>Office of Statistics</td>\n",
       "      <td>https://www.ons.gov.uk/</td>\n",
       "      <td>0.0</td>\n",
       "      <td>0.0</td>\n",
       "      <td>1.0</td>\n",
       "      <td>NaN</td>\n",
       "      <td>0</td>\n",
       "      <td>1.0</td>\n",
       "      <td>1.00</td>\n",
       "      <td>1.0</td>\n",
       "      <td>0.046322</td>\n",
       "      <td>0.953678</td>\n",
       "    </tr>\n",
       "    <tr>\n",
       "      <th>2121</th>\n",
       "      <td>000000039</td>\n",
       "      <td>Statistics Denmark</td>\n",
       "      <td>https://www.worldometers.info/world-population...</td>\n",
       "      <td>9.0</td>\n",
       "      <td>0.0</td>\n",
       "      <td>0.0</td>\n",
       "      <td>NaN</td>\n",
       "      <td>0</td>\n",
       "      <td>0.0</td>\n",
       "      <td>0.00</td>\n",
       "      <td>1.0</td>\n",
       "      <td>0.046322</td>\n",
       "      <td>0.953678</td>\n",
       "    </tr>\n",
       "    <tr>\n",
       "      <th>2481</th>\n",
       "      <td>000000046</td>\n",
       "      <td>Central Statistics Office</td>\n",
       "      <td>https://cso.gov.tt/</td>\n",
       "      <td>3.0</td>\n",
       "      <td>0.0</td>\n",
       "      <td>1.0</td>\n",
       "      <td>https://www.cso.ie</td>\n",
       "      <td>1</td>\n",
       "      <td>1.0</td>\n",
       "      <td>0.97</td>\n",
       "      <td>1.0</td>\n",
       "      <td>0.046322</td>\n",
       "      <td>0.953678</td>\n",
       "    </tr>\n",
       "    <tr>\n",
       "      <th>2612</th>\n",
       "      <td>000000049</td>\n",
       "      <td>Statistics Iceland</td>\n",
       "      <td>https://www.statista.com/topics/3079/iceland/</td>\n",
       "      <td>3.0</td>\n",
       "      <td>0.0</td>\n",
       "      <td>0.0</td>\n",
       "      <td>NaN</td>\n",
       "      <td>0</td>\n",
       "      <td>0.0</td>\n",
       "      <td>0.00</td>\n",
       "      <td>1.0</td>\n",
       "      <td>0.046322</td>\n",
       "      <td>0.953678</td>\n",
       "    </tr>\n",
       "    <tr>\n",
       "      <th>2328</th>\n",
       "      <td>000000043</td>\n",
       "      <td>Statistics Estonia</td>\n",
       "      <td>https://www.stat.ee/en</td>\n",
       "      <td>0.0</td>\n",
       "      <td>1.0</td>\n",
       "      <td>1.0</td>\n",
       "      <td>https://www.stat.ee</td>\n",
       "      <td>1</td>\n",
       "      <td>5.0</td>\n",
       "      <td>5.00</td>\n",
       "      <td>1.0</td>\n",
       "      <td>0.117445</td>\n",
       "      <td>0.882555</td>\n",
       "    </tr>\n",
       "  </tbody>\n",
       "</table>\n",
       "</div>"
      ],
      "text/plain": [
       "             ID                       Name  \\\n",
       "3852  000000078       Office of Statistics   \n",
       "2121  000000039         Statistics Denmark   \n",
       "2481  000000046  Central Statistics Office   \n",
       "2612  000000049         Statistics Iceland   \n",
       "2328  000000043         Statistics Estonia   \n",
       "\n",
       "                                          Suggested URL  Link position  \\\n",
       "3852                            https://www.ons.gov.uk/            0.0   \n",
       "2121  https://www.worldometers.info/world-population...            9.0   \n",
       "2481                                https://cso.gov.tt/            3.0   \n",
       "2612      https://www.statista.com/topics/3079/iceland/            3.0   \n",
       "2328                             https://www.stat.ee/en            0.0   \n",
       "\n",
       "      Has equal domain  Has Simple Suggested URL                 OBEC  \\\n",
       "3852               0.0                       1.0                  NaN   \n",
       "2121               0.0                       0.0                  NaN   \n",
       "2481               0.0                       1.0   https://www.cso.ie   \n",
       "2612               0.0                       0.0                  NaN   \n",
       "2328               1.0                       1.0  https://www.stat.ee   \n",
       "\n",
       "      Known OBEC  sum  Score  predict         0         1  \n",
       "3852           0  1.0   1.00      1.0  0.046322  0.953678  \n",
       "2121           0  0.0   0.00      1.0  0.046322  0.953678  \n",
       "2481           1  1.0   0.97      1.0  0.046322  0.953678  \n",
       "2612           0  0.0   0.00      1.0  0.046322  0.953678  \n",
       "2328           1  5.0   5.00      1.0  0.117445  0.882555  "
      ]
     },
     "execution_count": 51,
     "metadata": {},
     "output_type": "execute_result"
    }
   ],
   "source": [
    "dfdd = ml.drop_duplicates(dfm)\n",
    "dfdd.info(verbose=False)\n",
    "dfdd.head(5)"
   ]
  },
  {
   "cell_type": "code",
   "execution_count": 52,
   "metadata": {},
   "outputs": [
    {
     "name": "stdout",
     "output_type": "stream",
     "text": [
      "<class 'pandas.core.frame.DataFrame'>\n",
      "Int64Index: 153 entries, 101 to 10277\n",
      "Columns: 13 entries, ID to 1\n",
      "dtypes: float64(8), int64(1), object(4)\n",
      "memory usage: 16.7+ KB\n"
     ]
    },
    {
     "data": {
      "text/html": [
       "<div>\n",
       "<style scoped>\n",
       "    .dataframe tbody tr th:only-of-type {\n",
       "        vertical-align: middle;\n",
       "    }\n",
       "\n",
       "    .dataframe tbody tr th {\n",
       "        vertical-align: top;\n",
       "    }\n",
       "\n",
       "    .dataframe thead th {\n",
       "        text-align: right;\n",
       "    }\n",
       "</style>\n",
       "<table border=\"1\" class=\"dataframe\">\n",
       "  <thead>\n",
       "    <tr style=\"text-align: right;\">\n",
       "      <th></th>\n",
       "      <th>ID</th>\n",
       "      <th>Name</th>\n",
       "      <th>Suggested URL</th>\n",
       "      <th>Link position</th>\n",
       "      <th>Has equal domain</th>\n",
       "      <th>Has Simple Suggested URL</th>\n",
       "      <th>OBEC</th>\n",
       "      <th>Known OBEC</th>\n",
       "      <th>sum</th>\n",
       "      <th>Score</th>\n",
       "      <th>predict</th>\n",
       "      <th>0</th>\n",
       "      <th>1</th>\n",
       "    </tr>\n",
       "  </thead>\n",
       "  <tbody>\n",
       "    <tr>\n",
       "      <th>101</th>\n",
       "      <td>000000001</td>\n",
       "      <td>STATISTIK AUSTRIA</td>\n",
       "      <td>http://statistik.at/</td>\n",
       "      <td>0.0</td>\n",
       "      <td>0.0</td>\n",
       "      <td>1.0</td>\n",
       "      <td>http://www.statistik.at</td>\n",
       "      <td>1</td>\n",
       "      <td>6.0</td>\n",
       "      <td>6.0</td>\n",
       "      <td>1.0</td>\n",
       "      <td>0.117445</td>\n",
       "      <td>0.882555</td>\n",
       "    </tr>\n",
       "    <tr>\n",
       "      <th>154</th>\n",
       "      <td>000000002</td>\n",
       "      <td>STATISTIK AUSTRIA</td>\n",
       "      <td>http://statistik.at/</td>\n",
       "      <td>0.0</td>\n",
       "      <td>0.0</td>\n",
       "      <td>1.0</td>\n",
       "      <td>NaN</td>\n",
       "      <td>0</td>\n",
       "      <td>6.0</td>\n",
       "      <td>6.0</td>\n",
       "      <td>1.0</td>\n",
       "      <td>0.117445</td>\n",
       "      <td>0.882555</td>\n",
       "    </tr>\n",
       "    <tr>\n",
       "      <th>202</th>\n",
       "      <td>000000003</td>\n",
       "      <td>STATISTIK AUSTRIA</td>\n",
       "      <td>http://statistik.at/</td>\n",
       "      <td>0.0</td>\n",
       "      <td>0.0</td>\n",
       "      <td>1.0</td>\n",
       "      <td>NaN</td>\n",
       "      <td>0</td>\n",
       "      <td>5.0</td>\n",
       "      <td>5.0</td>\n",
       "      <td>1.0</td>\n",
       "      <td>0.267180</td>\n",
       "      <td>0.732820</td>\n",
       "    </tr>\n",
       "    <tr>\n",
       "      <th>269</th>\n",
       "      <td>000000004</td>\n",
       "      <td>STATISTIK AUSTRIA</td>\n",
       "      <td>http://statistik.at/</td>\n",
       "      <td>0.0</td>\n",
       "      <td>0.0</td>\n",
       "      <td>1.0</td>\n",
       "      <td>NaN</td>\n",
       "      <td>0</td>\n",
       "      <td>5.0</td>\n",
       "      <td>5.0</td>\n",
       "      <td>1.0</td>\n",
       "      <td>0.267180</td>\n",
       "      <td>0.732820</td>\n",
       "    </tr>\n",
       "    <tr>\n",
       "      <th>349</th>\n",
       "      <td>000000005</td>\n",
       "      <td>STATISTIK AUSTRIA</td>\n",
       "      <td>http://statistik.at/</td>\n",
       "      <td>0.0</td>\n",
       "      <td>0.0</td>\n",
       "      <td>1.0</td>\n",
       "      <td>NaN</td>\n",
       "      <td>0</td>\n",
       "      <td>4.0</td>\n",
       "      <td>4.0</td>\n",
       "      <td>1.0</td>\n",
       "      <td>0.499722</td>\n",
       "      <td>0.500278</td>\n",
       "    </tr>\n",
       "  </tbody>\n",
       "</table>\n",
       "</div>"
      ],
      "text/plain": [
       "            ID               Name         Suggested URL  Link position  \\\n",
       "101  000000001  STATISTIK AUSTRIA  http://statistik.at/            0.0   \n",
       "154  000000002  STATISTIK AUSTRIA  http://statistik.at/            0.0   \n",
       "202  000000003  STATISTIK AUSTRIA  http://statistik.at/            0.0   \n",
       "269  000000004  STATISTIK AUSTRIA  http://statistik.at/            0.0   \n",
       "349  000000005  STATISTIK AUSTRIA  http://statistik.at/            0.0   \n",
       "\n",
       "     Has equal domain  Has Simple Suggested URL                     OBEC  \\\n",
       "101               0.0                       1.0  http://www.statistik.at   \n",
       "154               0.0                       1.0                      NaN   \n",
       "202               0.0                       1.0                      NaN   \n",
       "269               0.0                       1.0                      NaN   \n",
       "349               0.0                       1.0                      NaN   \n",
       "\n",
       "     Known OBEC  sum  Score  predict         0         1  \n",
       "101           1  6.0    6.0      1.0  0.117445  0.882555  \n",
       "154           0  6.0    6.0      1.0  0.117445  0.882555  \n",
       "202           0  5.0    5.0      1.0  0.267180  0.732820  \n",
       "269           0  5.0    5.0      1.0  0.267180  0.732820  \n",
       "349           0  4.0    4.0      1.0  0.499722  0.500278  "
      ]
     },
     "execution_count": 52,
     "metadata": {},
     "output_type": "execute_result"
    }
   ],
   "source": [
    "dfr = ml.results(dfdd)\n",
    "dfr[0].info(verbose=False)\n",
    "dfr[0].head(5)"
   ]
  },
  {
   "cell_type": "markdown",
   "metadata": {},
   "source": [
    "#### 2.3.2. Event logging end (optional)"
   ]
  },
  {
   "cell_type": "code",
   "execution_count": 53,
   "metadata": {},
   "outputs": [],
   "source": [
    "log.end_logging()"
   ]
  },
  {
   "cell_type": "code",
   "execution_count": null,
   "metadata": {},
   "outputs": [],
   "source": []
  }
 ],
 "metadata": {
  "kernelspec": {
   "display_name": "Python 3",
   "language": "python",
   "name": "python3"
  },
  "language_info": {
   "codemirror_mode": {
    "name": "ipython",
    "version": 3
   },
   "file_extension": ".py",
   "mimetype": "text/x-python",
   "name": "python",
   "nbconvert_exporter": "python",
   "pygments_lexer": "ipython3",
   "version": "3.7.3"
  }
 },
 "nbformat": 4,
 "nbformat_minor": 2
}
